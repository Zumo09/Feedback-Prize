{
 "cells": [
  {
   "cell_type": "code",
   "execution_count": 97,
   "metadata": {},
   "outputs": [
    {
     "name": "stdout",
     "output_type": "stream",
     "text": [
      "The autoreload extension is already loaded. To reload it, use:\n",
      "  %reload_ext autoreload\n"
     ]
    }
   ],
   "source": [
    "%load_ext autoreload\n",
    "%autoreload 2"
   ]
  },
  {
   "cell_type": "code",
   "execution_count": 98,
   "metadata": {},
   "outputs": [],
   "source": [
    "from dataset import FPDataset\n",
    "from matcher import HungarianMatcher\n",
    "\n",
    "import torch"
   ]
  },
  {
   "cell_type": "code",
   "execution_count": 99,
   "metadata": {},
   "outputs": [
    {
     "name": "stderr",
     "output_type": "stream",
     "text": [
      "100%|██████████| 15594/15594 [00:02<00:00, 7474.89it/s]\n"
     ]
    }
   ],
   "source": [
    "dataset = FPDataset()"
   ]
  },
  {
   "cell_type": "code",
   "execution_count": 100,
   "metadata": {},
   "outputs": [],
   "source": [
    "batch_size = 5\n",
    "num_queries = 10\n",
    "num_classes = len(dataset.label_unique) + 1\n",
    "\n",
    "batch = [dataset[i][1] for i in range(batch_size)]\n",
    "\n",
    "predictions = {\n",
    "    'pred_logits': torch.rand([batch_size, num_queries, num_classes]),\n",
    "    'pred_boxes': torch.rand([batch_size, num_queries, 2])\n",
    "}"
   ]
  },
  {
   "cell_type": "code",
   "execution_count": 101,
   "metadata": {},
   "outputs": [],
   "source": [
    "matcher = HungarianMatcher()"
   ]
  },
  {
   "cell_type": "code",
   "execution_count": 103,
   "metadata": {},
   "outputs": [
    {
     "data": {
      "text/plain": [
       "[(tensor([0, 1, 2, 3, 4, 5, 6, 7, 8, 9]),\n",
       "  tensor([11,  8,  9,  4,  1,  0,  6,  5, 10,  7])),\n",
       " (tensor([0, 3, 7, 8, 9]), tensor([0, 1, 2, 4, 3])),\n",
       " (tensor([0, 1, 2, 3, 4, 5, 6, 7, 8, 9]),\n",
       "  tensor([ 3,  9,  7,  5,  0,  6, 10,  2,  4,  8])),\n",
       " (tensor([0, 1, 2, 3, 4, 5, 6, 7, 8, 9]),\n",
       "  tensor([ 9, 12, 11,  8, 13,  4,  7,  5,  6, 10])),\n",
       " (tensor([0, 1, 3, 4, 5, 6, 7, 8, 9]), tensor([1, 5, 0, 6, 4, 3, 7, 8, 2]))]"
      ]
     },
     "execution_count": 103,
     "metadata": {},
     "output_type": "execute_result"
    }
   ],
   "source": [
    "matcher(predictions, batch)"
   ]
  }
 ],
 "metadata": {
  "interpreter": {
   "hash": "4767f2120b0e1f3c42e70d98d219d8808f08c9a00ef8432d45518bcb5d9764ac"
  },
  "kernelspec": {
   "display_name": "Python 3.8.12 64-bit ('nlp': conda)",
   "language": "python",
   "name": "python3"
  },
  "language_info": {
   "codemirror_mode": {
    "name": "ipython",
    "version": 3
   },
   "file_extension": ".py",
   "mimetype": "text/x-python",
   "name": "python",
   "nbconvert_exporter": "python",
   "pygments_lexer": "ipython3",
   "version": "3.8.12"
  },
  "orig_nbformat": 4
 },
 "nbformat": 4,
 "nbformat_minor": 2
}
