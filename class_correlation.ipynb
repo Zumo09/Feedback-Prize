{
  "cells": [
    {
      "cell_type": "code",
      "execution_count": 1,
      "metadata": {
        "id": "oiNLHisJl4LN"
      },
      "outputs": [],
      "source": [
        "import pandas as pd\n",
        "import matplotlib.pyplot as plt\n",
        "from collections import Counter\n",
        "import csv\n",
        "from math import log10"
      ]
    },
    {
      "cell_type": "code",
      "execution_count": 2,
      "metadata": {
        "id": "WEIbKiFol-jX"
      },
      "outputs": [],
      "source": [
        "data = pd.read_csv('input/feedback-prize-2021/train.csv')"
      ]
    },
    {
      "cell_type": "code",
      "execution_count": 3,
      "metadata": {
        "colab": {
          "base_uri": "https://localhost:8080/"
        },
        "id": "U-mFBms8wmkP",
        "outputId": "7b7f5b33-59aa-4359-9264-1f972028e9c2"
      },
      "outputs": [
        {
          "name": "stderr",
          "output_type": "stream",
          "text": [
            "[nltk_data] Downloading package stopwords to\n",
            "[nltk_data]     C:\\Users\\zumo0\\AppData\\Roaming\\nltk_data...\n",
            "[nltk_data]   Package stopwords is already up-to-date!\n"
          ]
        }
      ],
      "source": [
        "import nltk\n",
        "from nltk.corpus import stopwords\n",
        "\n",
        "\n",
        "nltk.download('stopwords')\n",
        "STOPWORDS = set(stopwords.words('english'))\n",
        "\n",
        "def remove_stopwords(text: str) -> str:\n",
        "    return ' '.join([x for x in text.split() if x and x not in STOPWORDS])\n",
        "\n",
        "not_word = [',', ':', '.', '?', '!', ')', '(', ';', '/', '-', '\"', '\\'', '_']\n",
        "\n",
        "def cleaning(text:str) -> str:\n",
        "\n",
        "  text = text.lower()\n",
        "  text = remove_stopwords(text)\n",
        "\n",
        "  for char in not_word:\n",
        "    text = text.replace(char, ' ')\n",
        "\n",
        "  return text\n",
        "\n",
        "\n",
        "def count_words(l : str) -> dict:\n",
        "  words = l.split()\n",
        "\n",
        "  return Counter(words)\n",
        "\n"
      ]
    },
    {
      "cell_type": "code",
      "execution_count": 4,
      "metadata": {
        "id": "T_155VoinEtd"
      },
      "outputs": [],
      "source": [
        "class_grouped = data.groupby(by='discourse_type')"
      ]
    },
    {
      "cell_type": "code",
      "execution_count": 7,
      "metadata": {
        "id": "ano65T_C43Dq"
      },
      "outputs": [],
      "source": [
        "for key, gp in class_grouped:\n",
        "  group = class_grouped.get_group(key)['discourse_text']\n",
        "  l=''\n",
        "  for i in range(len(group)):\n",
        "    text = group.iloc[i]\n",
        "    text = cleaning(text)\n",
        "    l = l + text\n",
        "  \n",
        "  words_count = count_words(l)\n",
        "\n",
        "  f = open(\"csv/\" + key + \".csv\", \"w\")\n",
        "  writer = csv.writer(f)\n",
        "  for key, value in words_count.items():\n",
        "    writer.writerow([key, value])\n",
        "\n",
        "  f.close()\n",
        "\n"
      ]
    },
    {
      "cell_type": "code",
      "execution_count": 8,
      "metadata": {
        "id": "NgY7t2X1EwA7"
      },
      "outputs": [],
      "source": [
        "\n",
        "reader = csv.reader(open('csv/Claim.csv', 'r'))\n",
        "dict_claim = {}\n",
        "for row in reader:\n",
        "   if len(row) == 0:\n",
        "      continue\n",
        "   k, v = row\n",
        "   dict_claim[k] = v\n",
        "\n",
        "reader = csv.reader(open('csv/Concluding Statement.csv', 'r'))\n",
        "dict_concluding = {}\n",
        "for row in reader:\n",
        "   if len(row) == 0:\n",
        "      continue\n",
        "   k, v = row\n",
        "   dict_concluding[k] = v\n",
        "\n",
        "reader = csv.reader(open('csv/Counterclaim.csv', 'r'))\n",
        "dict_counterclaim = {}\n",
        "for row in reader:\n",
        "   if len(row) == 0:\n",
        "      continue\n",
        "   k, v = row\n",
        "   dict_counterclaim[k] = v\n",
        "\n",
        "\n",
        "reader = csv.reader(open('csv/Evidence.csv', 'r'))\n",
        "dict_evidence = {}\n",
        "for row in reader:\n",
        "   if len(row) == 0:\n",
        "      continue\n",
        "   k, v = row\n",
        "   dict_evidence[k] = v\n",
        "\n",
        "reader = csv.reader(open('csv/Lead.csv', 'r'))\n",
        "dict_lead = {}\n",
        "for row in reader:\n",
        "   if len(row) == 0:\n",
        "      continue\n",
        "   k, v = row\n",
        "   dict_lead[k] = v\n",
        "\n",
        "reader = csv.reader(open('csv/Position.csv', 'r'))\n",
        "dict_position = {}\n",
        "for row in reader:\n",
        "   if len(row) == 0:\n",
        "      continue\n",
        "   k, v = row\n",
        "   dict_position[k] = v\n",
        "\n",
        "reader = csv.reader(open('csv/Rebuttal.csv', 'r'))\n",
        "dict_rebuttal = {}\n",
        "for row in reader:\n",
        "   if len(row) == 0:\n",
        "      continue\n",
        "   k, v = row\n",
        "   dict_rebuttal[k] = v"
      ]
    },
    {
      "cell_type": "code",
      "execution_count": 9,
      "metadata": {
        "id": "U0wpGfKsDtaG"
      },
      "outputs": [],
      "source": [
        "import numpy as np\n",
        "\n",
        "def correlation(word : str) -> np.array:\n",
        "\n",
        "  n_claim = int(dict_claim[word]) if word in dict_claim else 0\n",
        "  n_concluding = int(dict_concluding[word]) if word in dict_concluding else 0\n",
        "  n_counterclaim = int(dict_counterclaim[word]) if word in dict_counterclaim else 0\n",
        "  n_evidence = int(dict_evidence[word]) if word in dict_evidence else 0\n",
        "  n_lead = int(dict_lead[word]) if word in dict_lead else 0\n",
        "  n_position = int(dict_position[word]) if word in dict_position else 0\n",
        "  n_rebuttal = int(dict_rebuttal[word]) if word in dict_rebuttal else 0\n",
        "\n",
        "\n",
        "  total = n_claim + n_concluding + n_counterclaim + n_evidence + n_lead + n_position + n_rebuttal\n",
        "  idf = log10(144293/total)\n",
        "  return np.array((n_claim/len(dict_claim), n_concluding/len(dict_concluding), n_counterclaim/len(dict_counterclaim), \\\n",
        "                   n_evidence/(len(dict_evidence)), n_lead/len(dict_lead), n_position/len(dict_position), n_rebuttal/len(dict_rebuttal)))*idf\n"
      ]
    },
    {
      "cell_type": "code",
      "execution_count": 10,
      "metadata": {
        "id": "P1kbvkYeGgoX"
      },
      "outputs": [],
      "source": [
        "word_list = set()\n",
        "\n",
        "for w in dict_claim:\n",
        "  word_list.add(w)\n",
        "\n",
        "for w in dict_concluding:\n",
        "  word_list.add(w)\n",
        "\n",
        "for w in dict_counterclaim:\n",
        "  word_list.add(w)\n",
        "\n",
        "for w in dict_evidence:\n",
        "  word_list.add(w)\n",
        "\n",
        "for w in dict_lead:\n",
        "  word_list.add(w)\n",
        "\n",
        "for w in dict_position:\n",
        "  word_list.add(w)\n",
        "\n",
        "for w in dict_rebuttal:\n",
        "  word_list.add(w)\n",
        "\n",
        "\n"
      ]
    },
    {
      "cell_type": "code",
      "execution_count": 11,
      "metadata": {
        "id": "ANHD1yDwHPOi"
      },
      "outputs": [],
      "source": [
        "matrix = np.zeros((len(word_list), 7))\n",
        "i = 0\n",
        "for w in word_list:\n",
        "  matrix[i, :] = correlation(w)\n",
        "  i += 1\n",
        "  "
      ]
    },
    {
      "cell_type": "code",
      "execution_count": 12,
      "metadata": {
        "id": "Mg6h2v9TmeqQ"
      },
      "outputs": [],
      "source": [
        "weights_matrix = pd.DataFrame(matrix, columns =['Claim', 'Concluding Statement', 'Counterclaim', 'Evidence', 'Lead', 'Position', 'Rebuttal'])\n",
        "words = pd.DataFrame(word_list, columns=['Words'])\n",
        "p = pd.concat([words, weights_matrix], axis=1)"
      ]
    },
    {
      "cell_type": "code",
      "execution_count": 13,
      "metadata": {
        "id": "cFvDVxHpnyQb"
      },
      "outputs": [],
      "source": [
        "p.to_csv('csv/weights_matrix.csv')"
      ]
    },
    {
      "cell_type": "code",
      "execution_count": 14,
      "metadata": {},
      "outputs": [
        {
          "data": {
            "text/html": [
              "<div>\n",
              "<style scoped>\n",
              "    .dataframe tbody tr th:only-of-type {\n",
              "        vertical-align: middle;\n",
              "    }\n",
              "\n",
              "    .dataframe tbody tr th {\n",
              "        vertical-align: top;\n",
              "    }\n",
              "\n",
              "    .dataframe thead th {\n",
              "        text-align: right;\n",
              "    }\n",
              "</style>\n",
              "<table border=\"1\" class=\"dataframe\">\n",
              "  <thead>\n",
              "    <tr style=\"text-align: right;\">\n",
              "      <th></th>\n",
              "      <th>Words</th>\n",
              "      <th>Claim</th>\n",
              "      <th>Concluding Statement</th>\n",
              "      <th>Counterclaim</th>\n",
              "      <th>Evidence</th>\n",
              "      <th>Lead</th>\n",
              "      <th>Position</th>\n",
              "      <th>Rebuttal</th>\n",
              "    </tr>\n",
              "  </thead>\n",
              "  <tbody>\n",
              "    <tr>\n",
              "      <th>0</th>\n",
              "      <td>bribed</td>\n",
              "      <td>0.000000</td>\n",
              "      <td>0.000264</td>\n",
              "      <td>0.0</td>\n",
              "      <td>0.000401</td>\n",
              "      <td>0.000000</td>\n",
              "      <td>0.000000</td>\n",
              "      <td>0.000000</td>\n",
              "    </tr>\n",
              "    <tr>\n",
              "      <th>1</th>\n",
              "      <td>namedose</td>\n",
              "      <td>0.000000</td>\n",
              "      <td>0.000000</td>\n",
              "      <td>0.0</td>\n",
              "      <td>0.000000</td>\n",
              "      <td>0.000000</td>\n",
              "      <td>0.000000</td>\n",
              "      <td>0.000725</td>\n",
              "    </tr>\n",
              "    <tr>\n",
              "      <th>2</th>\n",
              "      <td>mountin</td>\n",
              "      <td>0.000179</td>\n",
              "      <td>0.000000</td>\n",
              "      <td>0.0</td>\n",
              "      <td>0.000000</td>\n",
              "      <td>0.000000</td>\n",
              "      <td>0.000000</td>\n",
              "      <td>0.000000</td>\n",
              "    </tr>\n",
              "    <tr>\n",
              "      <th>3</th>\n",
              "      <td>learining</td>\n",
              "      <td>0.000000</td>\n",
              "      <td>0.000277</td>\n",
              "      <td>0.0</td>\n",
              "      <td>0.000105</td>\n",
              "      <td>0.000313</td>\n",
              "      <td>0.000000</td>\n",
              "      <td>0.000000</td>\n",
              "    </tr>\n",
              "    <tr>\n",
              "      <th>4</th>\n",
              "      <td>thinkadvice</td>\n",
              "      <td>0.000000</td>\n",
              "      <td>0.000000</td>\n",
              "      <td>0.0</td>\n",
              "      <td>0.000000</td>\n",
              "      <td>0.000000</td>\n",
              "      <td>0.000463</td>\n",
              "      <td>0.000000</td>\n",
              "    </tr>\n",
              "    <tr>\n",
              "      <th>...</th>\n",
              "      <td>...</td>\n",
              "      <td>...</td>\n",
              "      <td>...</td>\n",
              "      <td>...</td>\n",
              "      <td>...</td>\n",
              "      <td>...</td>\n",
              "      <td>...</td>\n",
              "      <td>...</td>\n",
              "    </tr>\n",
              "    <tr>\n",
              "      <th>76168</th>\n",
              "      <td>in2019</td>\n",
              "      <td>0.000179</td>\n",
              "      <td>0.000000</td>\n",
              "      <td>0.0</td>\n",
              "      <td>0.000000</td>\n",
              "      <td>0.000000</td>\n",
              "      <td>0.000000</td>\n",
              "      <td>0.000000</td>\n",
              "    </tr>\n",
              "    <tr>\n",
              "      <th>76169</th>\n",
              "      <td>altogethernumerous</td>\n",
              "      <td>0.000000</td>\n",
              "      <td>0.000305</td>\n",
              "      <td>0.0</td>\n",
              "      <td>0.000000</td>\n",
              "      <td>0.000000</td>\n",
              "      <td>0.000000</td>\n",
              "      <td>0.000000</td>\n",
              "    </tr>\n",
              "    <tr>\n",
              "      <th>76170</th>\n",
              "      <td>elaborated</td>\n",
              "      <td>0.000000</td>\n",
              "      <td>0.000000</td>\n",
              "      <td>0.0</td>\n",
              "      <td>0.000109</td>\n",
              "      <td>0.000000</td>\n",
              "      <td>0.000436</td>\n",
              "      <td>0.000000</td>\n",
              "    </tr>\n",
              "    <tr>\n",
              "      <th>76171</th>\n",
              "      <td>profided</td>\n",
              "      <td>0.000000</td>\n",
              "      <td>0.000305</td>\n",
              "      <td>0.0</td>\n",
              "      <td>0.000000</td>\n",
              "      <td>0.000000</td>\n",
              "      <td>0.000000</td>\n",
              "      <td>0.000000</td>\n",
              "    </tr>\n",
              "    <tr>\n",
              "      <th>76172</th>\n",
              "      <td>ehshe</td>\n",
              "      <td>0.000000</td>\n",
              "      <td>0.000000</td>\n",
              "      <td>0.0</td>\n",
              "      <td>0.000116</td>\n",
              "      <td>0.000000</td>\n",
              "      <td>0.000000</td>\n",
              "      <td>0.000000</td>\n",
              "    </tr>\n",
              "  </tbody>\n",
              "</table>\n",
              "<p>76173 rows × 8 columns</p>\n",
              "</div>"
            ],
            "text/plain": [
              "                    Words     Claim  Concluding Statement  Counterclaim  \\\n",
              "0                  bribed  0.000000              0.000264           0.0   \n",
              "1                namedose  0.000000              0.000000           0.0   \n",
              "2                 mountin  0.000179              0.000000           0.0   \n",
              "3               learining  0.000000              0.000277           0.0   \n",
              "4             thinkadvice  0.000000              0.000000           0.0   \n",
              "...                   ...       ...                   ...           ...   \n",
              "76168              in2019  0.000179              0.000000           0.0   \n",
              "76169  altogethernumerous  0.000000              0.000305           0.0   \n",
              "76170          elaborated  0.000000              0.000000           0.0   \n",
              "76171            profided  0.000000              0.000305           0.0   \n",
              "76172               ehshe  0.000000              0.000000           0.0   \n",
              "\n",
              "       Evidence      Lead  Position  Rebuttal  \n",
              "0      0.000401  0.000000  0.000000  0.000000  \n",
              "1      0.000000  0.000000  0.000000  0.000725  \n",
              "2      0.000000  0.000000  0.000000  0.000000  \n",
              "3      0.000105  0.000313  0.000000  0.000000  \n",
              "4      0.000000  0.000000  0.000463  0.000000  \n",
              "...         ...       ...       ...       ...  \n",
              "76168  0.000000  0.000000  0.000000  0.000000  \n",
              "76169  0.000000  0.000000  0.000000  0.000000  \n",
              "76170  0.000109  0.000000  0.000436  0.000000  \n",
              "76171  0.000000  0.000000  0.000000  0.000000  \n",
              "76172  0.000116  0.000000  0.000000  0.000000  \n",
              "\n",
              "[76173 rows x 8 columns]"
            ]
          },
          "execution_count": 14,
          "metadata": {},
          "output_type": "execute_result"
        }
      ],
      "source": [
        "p"
      ]
    },
    {
      "cell_type": "code",
      "execution_count": 40,
      "metadata": {},
      "outputs": [
        {
          "name": "stdout",
          "output_type": "stream",
          "text": [
            "Claim\n"
          ]
        },
        {
          "data": {
            "image/png": "[encoded data removed]",
            "text/plain": [
              "<Figure size 432x288 with 1 Axes>"
            ]
          },
          "metadata": {
            "needs_background": "light"
          },
          "output_type": "display_data"
        },
        {
          "name": "stdout",
          "output_type": "stream",
          "text": [
            "Concluding Statement\n"
          ]
        },
        {
          "data": {
            "image/png": "[encoded data removed]",
            "text/plain": [
              "<Figure size 432x288 with 1 Axes>"
            ]
          },
          "metadata": {
            "needs_background": "light"
          },
          "output_type": "display_data"
        },
        {
          "name": "stdout",
          "output_type": "stream",
          "text": [
            "Counterclaim\n"
          ]
        },
        {
          "data": {
            "image/png": "[encoded data removed]",
            "text/plain": [
              "<Figure size 432x288 with 1 Axes>"
            ]
          },
          "metadata": {
            "needs_background": "light"
          },
          "output_type": "display_data"
        },
        {
          "name": "stdout",
          "output_type": "stream",
          "text": [
            "Evidence\n"
          ]
        },
        {
          "data": {
            "image/png": "[encoded data removed]",
            "text/plain": [
              "<Figure size 432x288 with 1 Axes>"
            ]
          },
          "metadata": {
            "needs_background": "light"
          },
          "output_type": "display_data"
        },
        {
          "name": "stdout",
          "output_type": "stream",
          "text": [
            "Lead\n"
          ]
        },
        {
          "data": {
            "image/png": "[encoded data removed]",
            "text/plain": [
              "<Figure size 432x288 with 1 Axes>"
            ]
          },
          "metadata": {
            "needs_background": "light"
          },
          "output_type": "display_data"
        },
        {
          "name": "stdout",
          "output_type": "stream",
          "text": [
            "Position\n"
          ]
        },
        {
          "data": {
            "image/png": "[encoded data removed]",
            "text/plain": [
              "<Figure size 432x288 with 1 Axes>"
            ]
          },
          "metadata": {
            "needs_background": "light"
          },
          "output_type": "display_data"
        },
        {
          "name": "stdout",
          "output_type": "stream",
          "text": [
            "Rebuttal\n"
          ]
        },
        {
          "data": {
            "image/png": "[encoded data removed]",
            "text/plain": [
              "<Figure size 432x288 with 1 Axes>"
            ]
          },
          "metadata": {
            "needs_background": "light"
          },
          "output_type": "display_data"
        }
      ],
      "source": [
        "for col in ['Claim', 'Concluding Statement', 'Counterclaim', 'Evidence', 'Lead', 'Position', 'Rebuttal']:\n",
        "    print(col)\n",
        "\n",
        "    df = p[[\"Words\", col]].sort_values(by=[col], ascending=False)\n",
        "\n",
        "    df = df.head(5)\n",
        "    w = df['Words'].values\n",
        "    v = df[col].values\n",
        "\n",
        "    s = pd.Series(data=v, index=w)\n",
        "    s.plot()\n",
        "    plt.show()"
      ]
    },
    {
      "cell_type": "code",
      "execution_count": 47,
      "metadata": {},
      "outputs": [],
      "source": [
        "df = pd.DataFrame(matrix, columns =['Claim', 'Concluding Statement', 'Counterclaim', 'Evidence', 'Lead', 'Position', 'Rebuttal'], index=list(word_list))"
      ]
    },
    {
      "cell_type": "code",
      "execution_count": 48,
      "metadata": {},
      "outputs": [
        {
          "data": {
            "text/html": [
              "<div>\n",
              "<style scoped>\n",
              "    .dataframe tbody tr th:only-of-type {\n",
              "        vertical-align: middle;\n",
              "    }\n",
              "\n",
              "    .dataframe tbody tr th {\n",
              "        vertical-align: top;\n",
              "    }\n",
              "\n",
              "    .dataframe thead th {\n",
              "        text-align: right;\n",
              "    }\n",
              "</style>\n",
              "<table border=\"1\" class=\"dataframe\">\n",
              "  <thead>\n",
              "    <tr style=\"text-align: right;\">\n",
              "      <th></th>\n",
              "      <th>Claim</th>\n",
              "      <th>Concluding Statement</th>\n",
              "      <th>Counterclaim</th>\n",
              "      <th>Evidence</th>\n",
              "      <th>Lead</th>\n",
              "      <th>Position</th>\n",
              "      <th>Rebuttal</th>\n",
              "    </tr>\n",
              "  </thead>\n",
              "  <tbody>\n",
              "    <tr>\n",
              "      <th>bribed</th>\n",
              "      <td>0.000000</td>\n",
              "      <td>0.000264</td>\n",
              "      <td>0.0</td>\n",
              "      <td>0.000401</td>\n",
              "      <td>0.000000</td>\n",
              "      <td>0.000000</td>\n",
              "      <td>0.000000</td>\n",
              "    </tr>\n",
              "    <tr>\n",
              "      <th>namedose</th>\n",
              "      <td>0.000000</td>\n",
              "      <td>0.000000</td>\n",
              "      <td>0.0</td>\n",
              "      <td>0.000000</td>\n",
              "      <td>0.000000</td>\n",
              "      <td>0.000000</td>\n",
              "      <td>0.000725</td>\n",
              "    </tr>\n",
              "    <tr>\n",
              "      <th>mountin</th>\n",
              "      <td>0.000179</td>\n",
              "      <td>0.000000</td>\n",
              "      <td>0.0</td>\n",
              "      <td>0.000000</td>\n",
              "      <td>0.000000</td>\n",
              "      <td>0.000000</td>\n",
              "      <td>0.000000</td>\n",
              "    </tr>\n",
              "    <tr>\n",
              "      <th>learining</th>\n",
              "      <td>0.000000</td>\n",
              "      <td>0.000277</td>\n",
              "      <td>0.0</td>\n",
              "      <td>0.000105</td>\n",
              "      <td>0.000313</td>\n",
              "      <td>0.000000</td>\n",
              "      <td>0.000000</td>\n",
              "    </tr>\n",
              "    <tr>\n",
              "      <th>thinkadvice</th>\n",
              "      <td>0.000000</td>\n",
              "      <td>0.000000</td>\n",
              "      <td>0.0</td>\n",
              "      <td>0.000000</td>\n",
              "      <td>0.000000</td>\n",
              "      <td>0.000463</td>\n",
              "      <td>0.000000</td>\n",
              "    </tr>\n",
              "    <tr>\n",
              "      <th>...</th>\n",
              "      <td>...</td>\n",
              "      <td>...</td>\n",
              "      <td>...</td>\n",
              "      <td>...</td>\n",
              "      <td>...</td>\n",
              "      <td>...</td>\n",
              "      <td>...</td>\n",
              "    </tr>\n",
              "    <tr>\n",
              "      <th>in2019</th>\n",
              "      <td>0.000179</td>\n",
              "      <td>0.000000</td>\n",
              "      <td>0.0</td>\n",
              "      <td>0.000000</td>\n",
              "      <td>0.000000</td>\n",
              "      <td>0.000000</td>\n",
              "      <td>0.000000</td>\n",
              "    </tr>\n",
              "    <tr>\n",
              "      <th>altogethernumerous</th>\n",
              "      <td>0.000000</td>\n",
              "      <td>0.000305</td>\n",
              "      <td>0.0</td>\n",
              "      <td>0.000000</td>\n",
              "      <td>0.000000</td>\n",
              "      <td>0.000000</td>\n",
              "      <td>0.000000</td>\n",
              "    </tr>\n",
              "    <tr>\n",
              "      <th>elaborated</th>\n",
              "      <td>0.000000</td>\n",
              "      <td>0.000000</td>\n",
              "      <td>0.0</td>\n",
              "      <td>0.000109</td>\n",
              "      <td>0.000000</td>\n",
              "      <td>0.000436</td>\n",
              "      <td>0.000000</td>\n",
              "    </tr>\n",
              "    <tr>\n",
              "      <th>profided</th>\n",
              "      <td>0.000000</td>\n",
              "      <td>0.000305</td>\n",
              "      <td>0.0</td>\n",
              "      <td>0.000000</td>\n",
              "      <td>0.000000</td>\n",
              "      <td>0.000000</td>\n",
              "      <td>0.000000</td>\n",
              "    </tr>\n",
              "    <tr>\n",
              "      <th>ehshe</th>\n",
              "      <td>0.000000</td>\n",
              "      <td>0.000000</td>\n",
              "      <td>0.0</td>\n",
              "      <td>0.000116</td>\n",
              "      <td>0.000000</td>\n",
              "      <td>0.000000</td>\n",
              "      <td>0.000000</td>\n",
              "    </tr>\n",
              "  </tbody>\n",
              "</table>\n",
              "<p>76173 rows × 7 columns</p>\n",
              "</div>"
            ],
            "text/plain": [
              "                       Claim  Concluding Statement  Counterclaim  Evidence  \\\n",
              "bribed              0.000000              0.000264           0.0  0.000401   \n",
              "namedose            0.000000              0.000000           0.0  0.000000   \n",
              "mountin             0.000179              0.000000           0.0  0.000000   \n",
              "learining           0.000000              0.000277           0.0  0.000105   \n",
              "thinkadvice         0.000000              0.000000           0.0  0.000000   \n",
              "...                      ...                   ...           ...       ...   \n",
              "in2019              0.000179              0.000000           0.0  0.000000   \n",
              "altogethernumerous  0.000000              0.000305           0.0  0.000000   \n",
              "elaborated          0.000000              0.000000           0.0  0.000109   \n",
              "profided            0.000000              0.000305           0.0  0.000000   \n",
              "ehshe               0.000000              0.000000           0.0  0.000116   \n",
              "\n",
              "                        Lead  Position  Rebuttal  \n",
              "bribed              0.000000  0.000000  0.000000  \n",
              "namedose            0.000000  0.000000  0.000725  \n",
              "mountin             0.000000  0.000000  0.000000  \n",
              "learining           0.000313  0.000000  0.000000  \n",
              "thinkadvice         0.000000  0.000463  0.000000  \n",
              "...                      ...       ...       ...  \n",
              "in2019              0.000000  0.000000  0.000000  \n",
              "altogethernumerous  0.000000  0.000000  0.000000  \n",
              "elaborated          0.000000  0.000436  0.000000  \n",
              "profided            0.000000  0.000000  0.000000  \n",
              "ehshe               0.000000  0.000000  0.000000  \n",
              "\n",
              "[76173 rows x 7 columns]"
            ]
          },
          "execution_count": 48,
          "metadata": {},
          "output_type": "execute_result"
        }
      ],
      "source": [
        "df"
      ]
    },
    {
      "cell_type": "code",
      "execution_count": 69,
      "metadata": {},
      "outputs": [
        {
          "data": {
            "text/plain": [
              "38"
            ]
          },
          "execution_count": 69,
          "metadata": {},
          "output_type": "execute_result"
        }
      ],
      "source": [
        "keep = []\n",
        "\n",
        "for i, data in df.iterrows():\n",
        "    if (data > 0.15).any():\n",
        "        keep.append(i)\n",
        "len(keep)"
      ]
    },
    {
      "cell_type": "code",
      "execution_count": 72,
      "metadata": {},
      "outputs": [],
      "source": [
        "df_filt = df.loc[keep]"
      ]
    },
    {
      "cell_type": "code",
      "execution_count": 73,
      "metadata": {},
      "outputs": [
        {
          "data": {
            "text/plain": [
              "<AxesSubplot:>"
            ]
          },
          "execution_count": 73,
          "metadata": {},
          "output_type": "execute_result"
        },
        {
          "data": {
            "image/png": "[encoded data removed]",
            "text/plain": [
              "<Figure size 432x288 with 2 Axes>"
            ]
          },
          "metadata": {
            "needs_background": "light"
          },
          "output_type": "display_data"
        }
      ],
      "source": [
        "import seaborn as sns\n",
        "sns.heatmap(df_filt)"
      ]
    },
    {
      "cell_type": "code",
      "execution_count": null,
      "metadata": {},
      "outputs": [],
      "source": []
    }
  ],
  "metadata": {
    "colab": {
      "collapsed_sections": [],
      "name": "class_correlation.ipynb",
      "provenance": []
    },
    "kernelspec": {
      "display_name": "Python 3",
      "name": "python3"
    },
    "language_info": {
      "codemirror_mode": {
        "name": "ipython",
        "version": 3
      },
      "file_extension": ".py",
      "mimetype": "text/x-python",
      "name": "python",
      "nbconvert_exporter": "python",
      "pygments_lexer": "ipython3",
      "version": "3.8.12"
    }
  },
  "nbformat": 4,
  "nbformat_minor": 0
}
