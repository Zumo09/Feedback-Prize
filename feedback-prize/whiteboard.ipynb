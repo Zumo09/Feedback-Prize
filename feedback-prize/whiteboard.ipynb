{
 "cells": [
  {
   "cell_type": "code",
   "execution_count": 26,
   "metadata": {},
   "outputs": [],
   "source": [
    "import os\n",
    "import pandas as pd\n",
    "\n",
    "from typing import Tuple\n",
    "\n",
    "from spacy import displacy\n",
    "import matplotlib.pyplot as plt\n",
    "\n",
    "from tqdm import tqdm"
   ]
  },
  {
   "cell_type": "code",
   "execution_count": 2,
   "metadata": {},
   "outputs": [],
   "source": [
    "DATASET_FOLDER = 'feedback-prize-2021'\n",
    "\n",
    "def load_data_csv() -> pd.DataFrame:\n",
    "    return pd.read_csv(\n",
    "        os.path.join(DATASET_FOLDER, 'train.csv'), \n",
    "        dtype={'discourse_id': 'int64', 'discourse_start': int, 'discourse_end': int})\n",
    "\n",
    "def load_file(file_id: str, folder: str = 'train') -> str:\n",
    "    path = os.path.join(DATASET_FOLDER, folder, file_id + '.txt')\n",
    "    with open(path, 'r') as f:\n",
    "        text = f.read()\n",
    "    return text\n",
    "\n",
    "def load_texts(folder: str = 'train') -> pd.Series:\n",
    "    data_path = os.path.join(DATASET_FOLDER, folder)\n",
    "\n",
    "    def read(filename):\n",
    "        with open(os.path.join(data_path, filename), 'r') as f:\n",
    "            text = f.read()\n",
    "        return text\n",
    "\n",
    "    return pd.Series({fname.replace('.txt', ''): read(fname) for fname in tqdm(os.listdir(data_path))})     \n",
    "\n",
    "def load_dataset() -> Tuple[pd.Series, pd.DataFrame]:\n",
    "    return load_texts(), load_data_csv()"
   ]
  },
  {
   "cell_type": "code",
   "execution_count": 13,
   "metadata": {},
   "outputs": [],
   "source": [
    "# Credits for this part of visualisation _> https://www.kaggle.com/thedrcat\n",
    "\n",
    "DISCOURSE_TYPES_COLORS = {\n",
    "    'Lead': '#8000ff',\n",
    "    'Position': '#2b7ff6',\n",
    "    'Evidence': '#2adddd',\n",
    "    'Claim': '#80ffb4',\n",
    "    'Concluding Statement': 'd4dd80',\n",
    "    'Counterclaim': '#ff8042',\n",
    "    'Rebuttal': '#ff0000'\n",
    "}\n",
    "\n",
    "def highlight_segments(id_example, texts, data):         \n",
    "    ents = []\n",
    "    for _, row in data[data['id'] == id_example].iterrows():\n",
    "        ents.append({\n",
    "            'start': int(row['discourse_start']), \n",
    "            'end': int(row['discourse_end']), \n",
    "            'label': row['discourse_type']\n",
    "            })\n",
    "    doc2 = {'text': texts[id_example], 'ents': ents, 'title': id_example}\n",
    "    options = {'ents': data.discourse_type.unique().tolist(), 'colors': DISCOURSE_TYPES_COLORS}\n",
    "    displacy.render(doc2, style='ent', options=options, manual=True, jupyter=True)"
   ]
  },
  {
   "cell_type": "code",
   "execution_count": 14,
   "metadata": {},
   "outputs": [
    {
     "name": "stderr",
     "output_type": "stream",
     "text": [
      "100%|██████████| 15594/15594 [00:01<00:00, 10634.38it/s]\n"
     ]
    }
   ],
   "source": [
    "train_texts, train_data = load_dataset()"
   ]
  },
  {
   "cell_type": "code",
   "execution_count": 15,
   "metadata": {},
   "outputs": [
    {
     "name": "stderr",
     "output_type": "stream",
     "text": [
      "100%|██████████| 5/5 [00:00<?, ?it/s]\n"
     ]
    }
   ],
   "source": [
    "test_texts = load_texts('test')"
   ]
  },
  {
   "cell_type": "code",
   "execution_count": 16,
   "metadata": {},
   "outputs": [
    {
     "data": {
      "text/html": [
       "<div>\n",
       "<style scoped>\n",
       "    .dataframe tbody tr th:only-of-type {\n",
       "        vertical-align: middle;\n",
       "    }\n",
       "\n",
       "    .dataframe tbody tr th {\n",
       "        vertical-align: top;\n",
       "    }\n",
       "\n",
       "    .dataframe thead th {\n",
       "        text-align: right;\n",
       "    }\n",
       "</style>\n",
       "<table border=\"1\" class=\"dataframe\">\n",
       "  <thead>\n",
       "    <tr style=\"text-align: right;\">\n",
       "      <th></th>\n",
       "      <th>id</th>\n",
       "      <th>discourse_id</th>\n",
       "      <th>discourse_start</th>\n",
       "      <th>discourse_end</th>\n",
       "      <th>discourse_text</th>\n",
       "      <th>discourse_type</th>\n",
       "      <th>discourse_type_num</th>\n",
       "      <th>predictionstring</th>\n",
       "    </tr>\n",
       "  </thead>\n",
       "  <tbody>\n",
       "    <tr>\n",
       "      <th>0</th>\n",
       "      <td>423A1CA112E2</td>\n",
       "      <td>1622627660524</td>\n",
       "      <td>8</td>\n",
       "      <td>229</td>\n",
       "      <td>Modern humans today are always on their phone....</td>\n",
       "      <td>Lead</td>\n",
       "      <td>Lead 1</td>\n",
       "      <td>1 2 3 4 5 6 7 8 9 10 11 12 13 14 15 16 17 18 1...</td>\n",
       "    </tr>\n",
       "    <tr>\n",
       "      <th>1</th>\n",
       "      <td>423A1CA112E2</td>\n",
       "      <td>1622627653021</td>\n",
       "      <td>230</td>\n",
       "      <td>312</td>\n",
       "      <td>They are some really bad consequences when stu...</td>\n",
       "      <td>Position</td>\n",
       "      <td>Position 1</td>\n",
       "      <td>45 46 47 48 49 50 51 52 53 54 55 56 57 58 59</td>\n",
       "    </tr>\n",
       "    <tr>\n",
       "      <th>2</th>\n",
       "      <td>423A1CA112E2</td>\n",
       "      <td>1622627671020</td>\n",
       "      <td>313</td>\n",
       "      <td>401</td>\n",
       "      <td>Some certain areas in the United States ban ph...</td>\n",
       "      <td>Evidence</td>\n",
       "      <td>Evidence 1</td>\n",
       "      <td>60 61 62 63 64 65 66 67 68 69 70 71 72 73 74 75</td>\n",
       "    </tr>\n",
       "    <tr>\n",
       "      <th>3</th>\n",
       "      <td>423A1CA112E2</td>\n",
       "      <td>1622627696365</td>\n",
       "      <td>402</td>\n",
       "      <td>758</td>\n",
       "      <td>When people have phones, they know about certa...</td>\n",
       "      <td>Evidence</td>\n",
       "      <td>Evidence 2</td>\n",
       "      <td>76 77 78 79 80 81 82 83 84 85 86 87 88 89 90 9...</td>\n",
       "    </tr>\n",
       "    <tr>\n",
       "      <th>4</th>\n",
       "      <td>423A1CA112E2</td>\n",
       "      <td>1622627759780</td>\n",
       "      <td>759</td>\n",
       "      <td>886</td>\n",
       "      <td>Driving is one of the way how to get around. P...</td>\n",
       "      <td>Claim</td>\n",
       "      <td>Claim 1</td>\n",
       "      <td>139 140 141 142 143 144 145 146 147 148 149 15...</td>\n",
       "    </tr>\n",
       "  </tbody>\n",
       "</table>\n",
       "</div>"
      ],
      "text/plain": [
       "             id   discourse_id  discourse_start  discourse_end  \\\n",
       "0  423A1CA112E2  1622627660524                8            229   \n",
       "1  423A1CA112E2  1622627653021              230            312   \n",
       "2  423A1CA112E2  1622627671020              313            401   \n",
       "3  423A1CA112E2  1622627696365              402            758   \n",
       "4  423A1CA112E2  1622627759780              759            886   \n",
       "\n",
       "                                      discourse_text discourse_type  \\\n",
       "0  Modern humans today are always on their phone....           Lead   \n",
       "1  They are some really bad consequences when stu...       Position   \n",
       "2  Some certain areas in the United States ban ph...       Evidence   \n",
       "3  When people have phones, they know about certa...       Evidence   \n",
       "4  Driving is one of the way how to get around. P...          Claim   \n",
       "\n",
       "  discourse_type_num                                   predictionstring  \n",
       "0             Lead 1  1 2 3 4 5 6 7 8 9 10 11 12 13 14 15 16 17 18 1...  \n",
       "1         Position 1       45 46 47 48 49 50 51 52 53 54 55 56 57 58 59  \n",
       "2         Evidence 1    60 61 62 63 64 65 66 67 68 69 70 71 72 73 74 75  \n",
       "3         Evidence 2  76 77 78 79 80 81 82 83 84 85 86 87 88 89 90 9...  \n",
       "4            Claim 1  139 140 141 142 143 144 145 146 147 148 149 15...  "
      ]
     },
     "execution_count": 16,
     "metadata": {},
     "output_type": "execute_result"
    }
   ],
   "source": [
    "train_data.head()"
   ]
  },
  {
   "cell_type": "code",
   "execution_count": 32,
   "metadata": {},
   "outputs": [
    {
     "data": {
      "image/png": "[encoded data removed]",
      "text/plain": [
       "<Figure size 1080x360 with 1 Axes>"
      ]
     },
     "metadata": {
      "needs_background": "light"
     },
     "output_type": "display_data"
    }
   ],
   "source": [
    "# Most annotation used:\n",
    "\n",
    "ax = (\n",
    "    train_data.groupby(by='discourse_type')[['id']]\n",
    "    .count()\n",
    "    .sort_values('id')\n",
    "    .plot(kind=\"barh\", figsize=(15, 5))\n",
    ")\n",
    "ax.set_title(\"Discourse Label Frequency (in train)\", fontsize=16)\n",
    "ax.bar_label(ax.containers[0], label_type=\"edge\")\n",
    "plt.show()"
   ]
  },
  {
   "cell_type": "code",
   "execution_count": 34,
   "metadata": {},
   "outputs": [
    {
     "data": {
      "image/png": "[encoded data removed]",
      "text/plain": [
       "<Figure size 1080x504 with 1 Axes>"
      ]
     },
     "metadata": {
      "needs_background": "light"
     },
     "output_type": "display_data"
    }
   ],
   "source": [
    "ax = (\n",
    "    train_data.groupby(\"discourse_type\")[[\"discourse_start\", \"discourse_end\"]]\n",
    "    .mean()\n",
    "    .sort_values(\"discourse_start\")\n",
    "    .plot(kind=\"barh\", figsize=(15, 7))\n",
    ")\n",
    "ax.set_title(\"Average Discourse Start and End\", fontsize=24)\n",
    "ax.bar_label(ax.containers[0], label_type=\"edge\")\n",
    "plt.show()"
   ]
  },
  {
   "cell_type": "code",
   "execution_count": 23,
   "metadata": {},
   "outputs": [],
   "source": [
    "ids_with_parts_no_label = []\n",
    "\n",
    "for group_id, group in train_data.groupby(by='id'):\n",
    "    init = -1\n",
    "    for _, row in group.iterrows():\n",
    "        g_init = row.discourse_start\n",
    "        if g_init > init + 1:\n",
    "            part = train_texts[group_id][init: g_init]\n",
    "            if len(part) > 500: # keep only that ones with large parts without label\n",
    "                ids_with_parts_no_label.append(group_id)\n",
    "                break\n",
    "        init = row.discourse_end\n",
    "    if len(ids_with_parts_no_label) > 5: # only the firsts\n",
    "        break\n",
    "    "
   ]
  },
  {
   "cell_type": "code",
   "execution_count": 24,
   "metadata": {},
   "outputs": [
    {
     "data": {
      "text/html": [
       "<span class=\"tex2jax_ignore\"><h2 style=\"margin: 0\">007E0CBA8852</h2>\n",
       "\n",
       "<div class=\"entities\" style=\"line-height: 2.5; direction: ltr\">\n",
       "<mark class=\"entity\" style=\"background: #8000ff; padding: 0.45em 0.6em; margin: 0 0.25em; line-height: 1; border-radius: 0.35em;\">\n",
       "    In life all of us suffer many trials and obstacles of different extremes. As humans a normal way to deal with these trials is to look to someone for comfort and advice. Whether that may be many people or just one person it is usually someone we confide in with our thoughts and someone that can confide in us to be able to tell the truth. At times, we may find it better to talk to more than one person when asking for advice. We may go to one person to get an outside opinion on the situation. By getting this outside opinion this person may not necessarily be biased to one side of the story and it gives this person a chance to be truthful. You may also go to someone who has a different way of thinking as you, someone with a different mindset. This person could bring up new points to you and new sides of the situation to open up your mind to new possibilities. There might also be someone who has a similar way of thinking as you that could help you reassure and understand your thoughts and emotions. Another reason why you may go to a different person is just to vent. By simply telling this person everything thats going on it could help you organize thoughts in your own head. You may not look for this person for advice but someone to be there to listen to you while you figure out how you want to move forward in the situation. By expressing your feelings to this one person it could help you organize and address thoughts in your own head. \n",
       "    <span style=\"font-size: 0.8em; font-weight: bold; line-height: 1; border-radius: 0.35em; vertical-align: middle; margin-left: 0.5rem\">Lead</span>\n",
       "</mark>\n",
       "By asking for advice from multiple people\n",
       "<mark class=\"entity\" style=\"background: #80ffb4; padding: 0.45em 0.6em; margin: 0 0.25em; line-height: 1; border-radius: 0.35em;\">\n",
       "     it could help you explore different mindsets,\n",
       "    <span style=\"font-size: 0.8em; font-weight: bold; line-height: 1; border-radius: 0.35em; vertical-align: middle; margin-left: 0.5rem\">Claim</span>\n",
       "</mark>\n",
       " \n",
       "<mark class=\"entity\" style=\"background: #80ffb4; padding: 0.45em 0.6em; margin: 0 0.25em; line-height: 1; border-radius: 0.35em;\">\n",
       "    get an outside unbiased opinion, \n",
       "    <span style=\"font-size: 0.8em; font-weight: bold; line-height: 1; border-radius: 0.35em; vertical-align: middle; margin-left: 0.5rem\">Claim</span>\n",
       "</mark>\n",
       "and \n",
       "<mark class=\"entity\" style=\"background: #80ffb4; padding: 0.45em 0.6em; margin: 0 0.25em; line-height: 1; border-radius: 0.35em;\">\n",
       "    give you a chance to express and organize your thoughts and emotions.\n",
       "\n",
       "    <span style=\"font-size: 0.8em; font-weight: bold; line-height: 1; border-radius: 0.35em; vertical-align: middle; margin-left: 0.5rem\">Claim</span>\n",
       "</mark>\n",
       "</br>At times in stressful situations or in situations where you simply need advice it may be better to talk to a distant friend or an adult who isn't exactly in the loop of things that are happening in your life. \n",
       "<mark class=\"entity\" style=\"background: #2adddd; padding: 0.45em 0.6em; margin: 0 0.25em; line-height: 1; border-radius: 0.35em;\">\n",
       "    Talking to someone to get an outside opinion could help because this person doesn't know all parts of the story or maybe doesn't know everybody involved personally. This is helpful because they have no sense of bias on who is involved and what is happening in the situation. This person isn't going to sugar coat their words and tell you the truth even if it's something that you don't want to hear. They may simply listen to what you have to say and will already be ready to introduce to you new opinions and will help you look at it fromÂ a different perspective. They may tell us the truth to address the things we may be avoiding in the situation such as something that is right or wrong. This helps us because sometimes we need to hear the truth to see why we are right or wrong in these situations. By hearing the truth and possibly getting advice to move forward you get to move forward with all your facts laid out\n",
       "    <span style=\"font-size: 0.8em; font-weight: bold; line-height: 1; border-radius: 0.35em; vertical-align: middle; margin-left: 0.5rem\">Evidence</span>\n",
       "</mark>\n",
       ".</br></br>Another type of person that you may seek for advice is someone who you know has a different mindset than you and maybe even someone who has a similar mindset than you.\n",
       "<mark class=\"entity\" style=\"background: #2adddd; padding: 0.45em 0.6em; margin: 0 0.25em; line-height: 1; border-radius: 0.35em;\">\n",
       "     By talking to someone who has an opposing mindset as yours they will be able to give you new perspectives and new ways at looking at the situation. It may not always be a positive mindset but it's good to look at the negatives just as much as the positives. This persons different way of thinking and looking at things may introduce new and different ideas on how you should move forward and how you should address the situation. You may also seek someone who has a similar way of thinking as you. Theres always a possibility of this person help you discover new thoughts and information but this person will also assure you about the thoughts youre already having and make you feel better about them. They will give you this sense of reassurance it will help you move forward confidently and effectively\n",
       "    <span style=\"font-size: 0.8em; font-weight: bold; line-height: 1; border-radius: 0.35em; vertical-align: middle; margin-left: 0.5rem\">Evidence</span>\n",
       "</mark>\n",
       ".</br></br>The last type of person you may seek for advice is someone who is a good listener.\n",
       "<mark class=\"entity\" style=\"background: #2adddd; padding: 0.45em 0.6em; margin: 0 0.25em; line-height: 1; border-radius: 0.35em;\">\n",
       "     This person will listen to everything you have to say and will just let you vent all your emotions and that may be the only advice they give you to just vent. This person will not only listen but support you on your choices and on what you have to say no matter what.\n",
       "    <span style=\"font-size: 0.8em; font-weight: bold; line-height: 1; border-radius: 0.35em; vertical-align: middle; margin-left: 0.5rem\">Evidence</span>\n",
       "</mark>\n",
       " By venting to this person it could help you organize your thoughts by simply expressing them all out loud. It is likely that it may even help you come to realizations you hadn't come to before. This person is very important when going through this stressful process of not knowing what to do of getting that reassurance that everybody needs from time to time. This person may or may not be the best person for advice but they are really good of being there when you need them and listening to you when you are going through a stressful. By expressing and addressing these thoughts it could help you move forward content with your thoughts and confident on your decisions.</br></br>In conclusion, I think tha\n",
       "<mark class=\"entity\" style=\"background: #2b7ff6; padding: 0.45em 0.6em; margin: 0 0.25em; line-height: 1; border-radius: 0.35em;\">\n",
       "    t by seeking more than one person for advice it helps you get the support you need to make new and smart choices\n",
       "    <span style=\"font-size: 0.8em; font-weight: bold; line-height: 1; border-radius: 0.35em; vertical-align: middle; margin-left: 0.5rem\">Position</span>\n",
       "</mark>\n",
       "\n",
       "<mark class=\"entity\" style=\"background: d4dd80; padding: 0.45em 0.6em; margin: 0 0.25em; line-height: 1; border-radius: 0.35em;\">\n",
       "    . Different people that are helpful to seek advice from is someone who is more of an outside opinion because they tell you the truth and dont sugar coat their thoughts. If you seek someone who has a different mindset they will introduce new ways of thinking and different approaches you could take in the situation.\n",
       "\n",
       "By expressing all your feelings, thoughts, and emotions you are letting someone know how you feel and getting the support you need to move forward confidently. By talking to multiple people exploring new thoughts and mindsets,\n",
       "\n",
       "getting an unbiased opinion, and being able to express and organize your thoughts you are getting set up to make good choices rationally. I personally believe that when someone asks multiple people for advice it and seeking multiple opinions it helps them be able to make smart and rational choices while being confident with their choice and content with their thoughts and emotions.\n",
       "    <span style=\"font-size: 0.8em; font-weight: bold; line-height: 1; border-radius: 0.35em; vertical-align: middle; margin-left: 0.5rem\">Concluding Statement</span>\n",
       "</mark>\n",
       "Â    Â Â  Â  Â  Â  Â  Â  Â  Â  Â  Â  Â  Â  Â  Â  Â  Â  Â  Â  Â  Â  Â  Â  Â  Â Â    Â Â Â </div></span>"
      ],
      "text/plain": [
       "<IPython.core.display.HTML object>"
      ]
     },
     "metadata": {},
     "output_type": "display_data"
    },
    {
     "name": "stdout",
     "output_type": "stream",
     "text": [
      "\n",
      "\n"
     ]
    },
    {
     "data": {
      "text/html": [
       "<span class=\"tex2jax_ignore\"><h2 style=\"margin: 0\">00885C23A764</h2>\n",
       "\n",
       "<div class=\"entities\" style=\"line-height: 2.5; direction: ltr\">\n",
       "<mark class=\"entity\" style=\"background: #8000ff; padding: 0.45em 0.6em; margin: 0 0.25em; line-height: 1; border-radius: 0.35em;\">\n",
       "    The idea of having cars that can do the driving for us is something we are getting close to. The stresses and dangers of driving could be eradicated by not controling a car. At this point we are not quite there; cars are not driverless and may cause more harm than good in situation that sensors can not yet deal with. Human control is important and relaxing too much can cause problems with that.\n",
       "    <span style=\"font-size: 0.8em; font-weight: bold; line-height: 1; border-radius: 0.35em; vertical-align: middle; margin-left: 0.5rem\">Lead</span>\n",
       "</mark>\n",
       " \n",
       "<mark class=\"entity\" style=\"background: #2b7ff6; padding: 0.45em 0.6em; margin: 0 0.25em; line-height: 1; border-radius: 0.35em;\">\n",
       "    Not having to think about driving and instead just enjoying the ride is something that most desire, but the safety of these vehicals has to be taken into consideration.\n",
       "\n",
       "    <span style=\"font-size: 0.8em; font-weight: bold; line-height: 1; border-radius: 0.35em; vertical-align: middle; margin-left: 0.5rem\">Position</span>\n",
       "</mark>\n",
       "</br>\n",
       "<mark class=\"entity\" style=\"background: #2adddd; padding: 0.45em 0.6em; margin: 0 0.25em; line-height: 1; border-radius: 0.35em;\">\n",
       "    Driving can be a stressful part of one's day and eliminating the need to pay such close attention and relax is what most people want. Right now, driving involves paying close attention to everything around a car and features within the car as well. All of this can be stressful and hectic and the ability to mess up and cause damage to ones own self, someone else, or to property becomes too easy. Smart cars not only get rid of the stresses of driving, but include safety features that could do better that a human. Sensors are the main factor of making these cars work and have safety features that can, &quot;..apply brakes on individual wheels and reduce power from the engine, allowing far better response and control than a human driver could manage.&quot; At this point smart cars still involve a human element with drivers still having to take over in difficult situations. To get drivers attention many ideas have come about. Some such as the in-car entertainment system even allow for leisure and then turn off when a driver when they need to take over. All of these features sound nice, but is it really that much safer?\n",
       "\n",
       "    <span style=\"font-size: 0.8em; font-weight: bold; line-height: 1; border-radius: 0.35em; vertical-align: middle; margin-left: 0.5rem\">Evidence</span>\n",
       "</mark>\n",
       "</br>\n",
       "<mark class=\"entity\" style=\"background: #80ffb4; padding: 0.45em 0.6em; margin: 0 0.25em; line-height: 1; border-radius: 0.35em;\">\n",
       "    The cars that have been developed and even the ones proposed for the near future are not completly driverless. \n",
       "    <span style=\"font-size: 0.8em; font-weight: bold; line-height: 1; border-radius: 0.35em; vertical-align: middle; margin-left: 0.5rem\">Claim</span>\n",
       "</mark>\n",
       "That means that drivers have to stay alert. There are systems to alert a driver, but if a driver is relaxed the transition could be difficult. It would not be a completly stress free ride if a driver has to think about when they will have to take over and in what difficult situation that would be in, because drivers are expected to take over in difficult situations. &quot;Google cars aren't truly driverless; they still alert the driver to take over when pulling in and out of driveways of dealing with complicated traffic issues, such as navigating through roadwork of accidents.&quot; When learning to drive we may reach a point that what is primarily being taught is the dificult things and when the computer stops working one would just have to get off the road or drive dangorously. Or we could reach the point that teaching people how to drive stops. Once we reach the point of not needing a human driver people become completly at the mercy of a computer and we lose the ability to drive because we don't need to know how. Computers can always malfunction and then it's not even a human at fault when people die because of it. Driving teaches control, awareness, and even patience, if a computer is doing all that those life skills are not readily learned and lost to more people. These factors do not sound any better to me.</br></br>\n",
       "<mark class=\"entity\" style=\"background: #80ffb4; padding: 0.45em 0.6em; margin: 0 0.25em; line-height: 1; border-radius: 0.35em;\">\n",
       "    I think we should have smart cars, but with the right percautions and keeping an element of human control.\n",
       "    <span style=\"font-size: 0.8em; font-weight: bold; line-height: 1; border-radius: 0.35em; vertical-align: middle; margin-left: 0.5rem\">Claim</span>\n",
       "</mark>\n",
       " \n",
       "<mark class=\"entity\" style=\"background: #2adddd; padding: 0.45em 0.6em; margin: 0 0.25em; line-height: 1; border-radius: 0.35em;\">\n",
       "    Sensors giving warnings and keeping drivers alert should be enough to help with the safety concerns. Stress is reduced in this situation because a driver has the help of the sensors, but is not relient upon it either. The systems that allow entertainment are too controled by a computer and cause issues with transitioning between relaxing and paying attention to driving. Driving still has to be taught and if a computer dosen't work humans still have the knowledge to take over without extra danger.\n",
       "\n",
       "    <span style=\"font-size: 0.8em; font-weight: bold; line-height: 1; border-radius: 0.35em; vertical-align: middle; margin-left: 0.5rem\">Evidence</span>\n",
       "</mark>\n",
       "</br>\n",
       "<mark class=\"entity\" style=\"background: d4dd80; padding: 0.45em 0.6em; margin: 0 0.25em; line-height: 1; border-radius: 0.35em;\">\n",
       "    Having humans do more of the controling, but having safety features sounds like the best thing to me. It still reduces stress because sensors are used as early warning systems and features keeping one alert. Skills that go along with driving are not lost and a driver doesn't get too relaxed. Drivers are not completely relient upon a device that could malfunction, but the help is not gone. The idea of doing nothing sounds nice, but I just don't think it is the safest option. \n",
       "    <span style=\"font-size: 0.8em; font-weight: bold; line-height: 1; border-radius: 0.35em; vertical-align: middle; margin-left: 0.5rem\">Concluding Statement</span>\n",
       "</mark>\n",
       "</div></span>"
      ],
      "text/plain": [
       "<IPython.core.display.HTML object>"
      ]
     },
     "metadata": {},
     "output_type": "display_data"
    },
    {
     "name": "stdout",
     "output_type": "stream",
     "text": [
      "\n",
      "\n"
     ]
    },
    {
     "data": {
      "text/html": [
       "<span class=\"tex2jax_ignore\"><h2 style=\"margin: 0\">03EA9F90F814</h2>\n",
       "\n",
       "<div class=\"entities\" style=\"line-height: 2.5; direction: ltr\">\n",
       "<mark class=\"entity\" style=\"background: #8000ff; padding: 0.45em 0.6em; margin: 0 0.25em; line-height: 1; border-radius: 0.35em;\">\n",
       "    The matter of wreckless driving and car crashes due to things like texting is not something anyone should look at lightly. Aside from such, there is also the issue of people not having the ability to drive due to several reasons yet still needing to get around somehow. Cars today are more often than not entirely controlled by the driver, so the thought of purchasing a driverless car is foreign to many individuals. People have come to be so used to the idea of driving vehicles themselves that not only do driverless cars sound odd to them, but also trepidatious.\n",
       "    <span style=\"font-size: 0.8em; font-weight: bold; line-height: 1; border-radius: 0.35em; vertical-align: middle; margin-left: 0.5rem\">Lead</span>\n",
       "</mark>\n",
       " \n",
       "<mark class=\"entity\" style=\"background: #2b7ff6; padding: 0.45em 0.6em; margin: 0 0.25em; line-height: 1; border-radius: 0.35em;\">\n",
       "    However, driverless cars should be looked at as useful and a positive alternative to everyday cars\n",
       "    <span style=\"font-size: 0.8em; font-weight: bold; line-height: 1; border-radius: 0.35em; vertical-align: middle; margin-left: 0.5rem\">Position</span>\n",
       "</mark>\n",
       " as \n",
       "<mark class=\"entity\" style=\"background: #80ffb4; padding: 0.45em 0.6em; margin: 0 0.25em; line-height: 1; border-radius: 0.35em;\">\n",
       "    they are aware\n",
       "    <span style=\"font-size: 0.8em; font-weight: bold; line-height: 1; border-radius: 0.35em; vertical-align: middle; margin-left: 0.5rem\">Claim</span>\n",
       "</mark>\n",
       " and \n",
       "<mark class=\"entity\" style=\"background: #80ffb4; padding: 0.45em 0.6em; margin: 0 0.25em; line-height: 1; border-radius: 0.35em;\">\n",
       "    self-sufficient for their owner's benefit.\n",
       "\n",
       "    <span style=\"font-size: 0.8em; font-weight: bold; line-height: 1; border-radius: 0.35em; vertical-align: middle; margin-left: 0.5rem\">Claim</span>\n",
       "</mark>\n",
       "</br>\n",
       "<mark class=\"entity\" style=\"background: #2adddd; padding: 0.45em 0.6em; margin: 0 0.25em; line-height: 1; border-radius: 0.35em;\">\n",
       "    First, consider the matter of how driverless cars could be aware. Unlike typical cars today, these cars, which are under development by Google and other significant companies, are built with different types of sensors. These sensors all serve different purposes that make the vehicle more aware of its surroundings by constantly generating a 3-D interpretation of the car's general area. Not only that, but they also feature things like GPS recievers, position-estimating and motion sensors, and even inner features that keep tabs on the driver so they are able to take over the wheel if need be.\n",
       "    <span style=\"font-size: 0.8em; font-weight: bold; line-height: 1; border-radius: 0.35em; vertical-align: middle; margin-left: 0.5rem\">Evidence</span>\n",
       "</mark>\n",
       " \n",
       "<mark class=\"entity\" style=\"background: #80ffb4; padding: 0.45em 0.6em; margin: 0 0.25em; line-height: 1; border-radius: 0.35em;\">\n",
       "    With these functions in place, these driverless vehicles are able to be just as aware as humans are in the driver's seat, if not more so.\n",
       "\n",
       "    <span style=\"font-size: 0.8em; font-weight: bold; line-height: 1; border-radius: 0.35em; vertical-align: middle; margin-left: 0.5rem\">Claim</span>\n",
       "</mark>\n",
       "</br>\n",
       "<mark class=\"entity\" style=\"background: #2adddd; padding: 0.45em 0.6em; margin: 0 0.25em; line-height: 1; border-radius: 0.35em;\">\n",
       "    However, even with this in mind, how are these driverless cars more self-sufficient than regular cars? Maybe they have sensors and are just as aware as humans, but what else can they do that makes them so much better than regular vehicles? Unlike everyday vehicles, these driverless cars are in fact driverless with a few unprofound exceptions. \n",
       "    <span style=\"font-size: 0.8em; font-weight: bold; line-height: 1; border-radius: 0.35em; vertical-align: middle; margin-left: 0.5rem\">Evidence</span>\n",
       "</mark>\n",
       "\n",
       "<mark class=\"entity\" style=\"background: #80ffb4; padding: 0.45em 0.6em; margin: 0 0.25em; line-height: 1; border-radius: 0.35em;\">\n",
       "    These cars are able to not only be as conscious of its surroundings as a human can be, but it can also drive just like a human, too.\n",
       "    <span style=\"font-size: 0.8em; font-weight: bold; line-height: 1; border-radius: 0.35em; vertical-align: middle; margin-left: 0.5rem\">Claim</span>\n",
       "</mark>\n",
       " This vehicle, which is sometimes addressed as a &quot;smart car&quot;, has full control of the car's functions. It can brake, handle, and steer itself while on the road, only having the driver take over if there is a particular situation that needs careful maneuvering through. In such events, the vehicle will then notify the driver with an obvious display that signifies a need to be manually directed. Likewise, it can also handle some situations on its own with its ability to reduce engine power and apply brakes when necessary, making it a truly &quot;smart car&quot;.</br></br>\n",
       "<mark class=\"entity\" style=\"background: d4dd80; padding: 0.45em 0.6em; margin: 0 0.25em; line-height: 1; border-radius: 0.35em;\">\n",
       "    While efficient and benefitial to drivers, it must be remembered that as driverless cars they are very technology driven, which stands to be a problem in the face of the law. All that is needed for them to make their rise and overturn normal cars is for technology to make some progress. With these ideas in mind, let it not be doubted that with its awareness and self-sufficiency, the driverless car could stand to benefit many and should be further developed.\n",
       "    <span style=\"font-size: 0.8em; font-weight: bold; line-height: 1; border-radius: 0.35em; vertical-align: middle; margin-left: 0.5rem\">Concluding Statement</span>\n",
       "</mark>\n",
       "</div></span>"
      ],
      "text/plain": [
       "<IPython.core.display.HTML object>"
      ]
     },
     "metadata": {},
     "output_type": "display_data"
    },
    {
     "name": "stdout",
     "output_type": "stream",
     "text": [
      "\n",
      "\n"
     ]
    },
    {
     "data": {
      "text/html": [
       "<span class=\"tex2jax_ignore\"><h2 style=\"margin: 0\">04AA83899997</h2>\n",
       "\n",
       "<div class=\"entities\" style=\"line-height: 2.5; direction: ltr\">Some of the advantages of limiting car usage is definitely that \n",
       "<mark class=\"entity\" style=\"background: #80ffb4; padding: 0.45em 0.6em; margin: 0 0.25em; line-height: 1; border-radius: 0.35em;\">\n",
       "    it would help not polute the air.\n",
       "    <span style=\"font-size: 0.8em; font-weight: bold; line-height: 1; border-radius: 0.35em; vertical-align: middle; margin-left: 0.5rem\">Claim</span>\n",
       "</mark>\n",
       " \n",
       "<mark class=\"entity\" style=\"background: #2adddd; padding: 0.45em 0.6em; margin: 0 0.25em; line-height: 1; border-radius: 0.35em;\">\n",
       "    With so many people driving cars in small towns that can quickly polute the air, especially in paris in source two where it says &quot;After days of near-record pollution, paris enforced a partail driving ban to clear the air of the global city&quot; With all of that pollution it can cause things such as global warming, and unhealthy air for our bodies. With just a small break of not driving the congestion was down to 60 percent in the capital of france, after five days of intensifying smog. Also with cold nights and warm days that also causes air to trap car emissions.\n",
       "    <span style=\"font-size: 0.8em; font-weight: bold; line-height: 1; border-radius: 0.35em; vertical-align: middle; margin-left: 0.5rem\">Evidence</span>\n",
       "</mark>\n",
       "</br></br>Another advantage of not driving cars, would be \n",
       "<mark class=\"entity\" style=\"background: #80ffb4; padding: 0.45em 0.6em; margin: 0 0.25em; line-height: 1; border-radius: 0.35em;\">\n",
       "    exercise.\n",
       "    <span style=\"font-size: 0.8em; font-weight: bold; line-height: 1; border-radius: 0.35em; vertical-align: middle; margin-left: 0.5rem\">Claim</span>\n",
       "</mark>\n",
       " \n",
       "<mark class=\"entity\" style=\"background: #2adddd; padding: 0.45em 0.6em; margin: 0 0.25em; line-height: 1; border-radius: 0.35em;\">\n",
       "    That would be such a good work out because you would have no other option except to walk/ride your bikes. You would get to socialize with everyone else who is walking to their jobs, or the grocerey store all while getting a little bit of exercise with your family. With everyone walking and having nothing better to do, sports centers and parks activity has bloomed throughough the city, and new restaurants and upscale shopping districts have cropped up with sales.\n",
       "    <span style=\"font-size: 0.8em; font-weight: bold; line-height: 1; border-radius: 0.35em; vertical-align: middle; margin-left: 0.5rem\">Evidence</span>\n",
       "</mark>\n",
       "</br></br>More and more people have stopped getting cars/licenses and instead taking the city bus, walking or riding their bike. A study last year found that driving by young people decreased 23 percent between 2001 and 2009. If more people would continue to either car pool or find a different way to get where they're going the worlds pollution would definitely begin to go down. Without all of the pollution that comes out of cars and that gets trap into the air, our air would begin to get so much more cleaner and safer for us to breathe.</br></br>\n",
       "<mark class=\"entity\" style=\"background: #80ffb4; padding: 0.45em 0.6em; margin: 0 0.25em; line-height: 1; border-radius: 0.35em;\">\n",
       "    With all of the money it takes to repair the roads, and the electricity it takes to run all of the stop lights, that money could go towards other things if people didnt drive as much as they do.\n",
       "    <span style=\"font-size: 0.8em; font-weight: bold; line-height: 1; border-radius: 0.35em; vertical-align: middle; margin-left: 0.5rem\">Claim</span>\n",
       "</mark>\n",
       " \n",
       "<mark class=\"entity\" style=\"background: #2adddd; padding: 0.45em 0.6em; margin: 0 0.25em; line-height: 1; border-radius: 0.35em;\">\n",
       "    Although many people need and use their cars for transportation theres always other ways to getting around town. It would also help save you money that is spent on gas every week, with the gas prices being unpredicatable every day.\n",
       "\n",
       "    <span style=\"font-size: 0.8em; font-weight: bold; line-height: 1; border-radius: 0.35em; vertical-align: middle; margin-left: 0.5rem\">Evidence</span>\n",
       "</mark>\n",
       "</br>\n",
       "<mark class=\"entity\" style=\"background: #2b7ff6; padding: 0.45em 0.6em; margin: 0 0.25em; line-height: 1; border-radius: 0.35em;\">\n",
       "    With all of these advantages of not driving cars as much or at all, it would really help protect the worlds air, and could be a great source of exercise!\n",
       "    <span style=\"font-size: 0.8em; font-weight: bold; line-height: 1; border-radius: 0.35em; vertical-align: middle; margin-left: 0.5rem\">Position</span>\n",
       "</mark>\n",
       " \n",
       "<mark class=\"entity\" style=\"background: d4dd80; padding: 0.45em 0.6em; margin: 0 0.25em; line-height: 1; border-radius: 0.35em;\">\n",
       "    Walking or riding your bike to wherever you need to go, or even just taking the city bus for two dollars. Also saving your money and spendind it on something else rather than wasting it on gas, or getting your car fixed. Or simply even buying a car, which can cost thousands of dollars.    \n",
       "    <span style=\"font-size: 0.8em; font-weight: bold; line-height: 1; border-radius: 0.35em; vertical-align: middle; margin-left: 0.5rem\">Concluding Statement</span>\n",
       "</mark>\n",
       "</div></span>"
      ],
      "text/plain": [
       "<IPython.core.display.HTML object>"
      ]
     },
     "metadata": {},
     "output_type": "display_data"
    },
    {
     "name": "stdout",
     "output_type": "stream",
     "text": [
      "\n",
      "\n"
     ]
    },
    {
     "data": {
      "text/html": [
       "<span class=\"tex2jax_ignore\"><h2 style=\"margin: 0\">04EB912FE84F</h2>\n",
       "\n",
       "<div class=\"entities\" style=\"line-height: 2.5; direction: ltr\">\n",
       "<mark class=\"entity\" style=\"background: #8000ff; padding: 0.45em 0.6em; margin: 0 0.25em; line-height: 1; border-radius: 0.35em;\">\n",
       "    As a child, I, as well as most others, desperately counted the days until summer break. In the classroom, we had a bright, beach themed poster boardÂ with the school days remaining plastered in big, bold letters in the middle. On my sports teams, we always had fun and easy practices during the last week of school. I always looked forward to summer, especially when everyone else was so enthusiastic about it. However, this changed as I got older when I was introduced to summer assignments. They felt like the exact opposite of summer. They were boring and restrictive, so I always procrastinated doing them until the very end. Today, many school systems are looking to implement summer projects, as they can help tackle the lost and wasted time during the summer. Simultaneously, it is important that schools don't impose overly restrictive projects that take away what it means to be on summer brea\n",
       "    <span style=\"font-size: 0.8em; font-weight: bold; line-height: 1; border-radius: 0.35em; vertical-align: middle; margin-left: 0.5rem\">Lead</span>\n",
       "</mark>\n",
       "k\n",
       "<mark class=\"entity\" style=\"background: #2b7ff6; padding: 0.45em 0.6em; margin: 0 0.25em; line-height: 1; border-radius: 0.35em;\">\n",
       "    . One solution to this is to implement student-designed projects\n",
       "    <span style=\"font-size: 0.8em; font-weight: bold; line-height: 1; border-radius: 0.35em; vertical-align: middle; margin-left: 0.5rem\">Position</span>\n",
       "</mark>\n",
       ".\n",
       "<mark class=\"entity\" style=\"background: #2adddd; padding: 0.45em 0.6em; margin: 0 0.25em; line-height: 1; border-radius: 0.35em;\">\n",
       "     These allow students to create what they want their summer project to b\n",
       "    <span style=\"font-size: 0.8em; font-weight: bold; line-height: 1; border-radius: 0.35em; vertical-align: middle; margin-left: 0.5rem\">Evidence</span>\n",
       "</mark>\n",
       "e\n",
       "<mark class=\"entity\" style=\"background: #ff8042; padding: 0.45em 0.6em; margin: 0 0.25em; line-height: 1; border-radius: 0.35em;\">\n",
       "    . Although many may say teacher-designed summer projects better preserve the students' learning,\n",
       "    <span style=\"font-size: 0.8em; font-weight: bold; line-height: 1; border-radius: 0.35em; vertical-align: middle; margin-left: 0.5rem\">Counterclaim</span>\n",
       "</mark>\n",
       "\n",
       "<mark class=\"entity\" style=\"background: #ff0000; padding: 0.45em 0.6em; margin: 0 0.25em; line-height: 1; border-radius: 0.35em;\">\n",
       "     student-designed projects are overall superior because they give more freedom, creativity, and flexibility for the students during their summer brea\n",
       "    <span style=\"font-size: 0.8em; font-weight: bold; line-height: 1; border-radius: 0.35em; vertical-align: middle; margin-left: 0.5rem\">Rebuttal</span>\n",
       "</mark>\n",
       "k.</br>\n",
       "<mark class=\"entity\" style=\"background: #80ffb4; padding: 0.45em 0.6em; margin: 0 0.25em; line-height: 1; border-radius: 0.35em;\">\n",
       "    \n",
       "Student-designed summer projects are a phenomenal chance to give students more freedom and let them be creative\n",
       "    <span style=\"font-size: 0.8em; font-weight: bold; line-height: 1; border-radius: 0.35em; vertical-align: middle; margin-left: 0.5rem\">Claim</span>\n",
       "</mark>\n",
       "\n",
       "<mark class=\"entity\" style=\"background: #2adddd; padding: 0.45em 0.6em; margin: 0 0.25em; line-height: 1; border-radius: 0.35em;\">\n",
       "    . In school, students have very few opportunities to express their creativity, so summer break is seen by many as a chance to break away from overly structured school days. Forcing students to follow a teacher-designed project will only remove its specialty, and further limit chances students have to be creative. On the other hand, student-designed projects could be the spark needed by some to make use of their summer. Additionally, if students feel the teacher-designed projects were too restrictive, there is a chance they would put as little effort into them as possible, or forgo them entirely. If this happens, it is a waste of time for both the student and the teacher. In my own experience, I have seen that most summer assignments had very little or no impact on my grade, so it often made far more sense not to do them. However, when teachers did try to tie these assignments to a grade, lots of students and parents complained. Whereas, when students are able to design a project about something they are passionate about, this is far less likely to happen, and could even lead to further interest about that topic.\n",
       "    <span style=\"font-size: 0.8em; font-weight: bold; line-height: 1; border-radius: 0.35em; vertical-align: middle; margin-left: 0.5rem\">Evidence</span>\n",
       "</mark>\n",
       "</br>\n",
       "<mark class=\"entity\" style=\"background: #2adddd; padding: 0.45em 0.6em; margin: 0 0.25em; line-height: 1; border-radius: 0.35em;\">\n",
       "    \n",
       "Another important aspect of summer projects is the various time restraints every student has. Students may have sports, vacations, jobs, and many other activities. Designing a project which accommodates everyone's complex and ever-changing needs can be impossible. By allowing students to design the project, much of this problem is eliminated. They know the time they have better than anyone else, so they can design a project which fits far better to their own schedule\n",
       "    <span style=\"font-size: 0.8em; font-weight: bold; line-height: 1; border-radius: 0.35em; vertical-align: middle; margin-left: 0.5rem\">Evidence</span>\n",
       "</mark>\n",
       ".\n",
       "<mark class=\"entity\" style=\"background: #80ffb4; padding: 0.45em 0.6em; margin: 0 0.25em; line-height: 1; border-radius: 0.35em;\">\n",
       "     If students were able to design their own projects, they could even tie it into the activities they're already doing.\n",
       "    <span style=\"font-size: 0.8em; font-weight: bold; line-height: 1; border-radius: 0.35em; vertical-align: middle; margin-left: 0.5rem\">Claim</span>\n",
       "</mark>\n",
       " This way, they're able to gain the benefits of a summer project, while not having to change much about their summer. Not having enough time is another reason why some students may not do their summer project, but can have other, additional, consequences. With a teacher-designed project, if students don't have the time to complete it, they may look towards cheating off of others, since everyone is following the same project. This not only negates any benefits of a summer project, but can also lead to some downsides. If a student cheats on a summer project because they didn't have the time to do it, they may feel encouraged to cheat again in the future, even if they wouldn't have otherwise. With a student-designed project, cheating is much less of a problem. Not only are there far fewer reasons to cheat, but it's much harder to as well, since every student has their own project, they can't simply copy off of what someone else has done.</br>\n",
       "<mark class=\"entity\" style=\"background: #ff8042; padding: 0.45em 0.6em; margin: 0 0.25em; line-height: 1; border-radius: 0.35em;\">\n",
       "    \n",
       "Many people may say that teacher-designed projects would be far better to maintain students' learning and allow them to learn new things\n",
       "    <span style=\"font-size: 0.8em; font-weight: bold; line-height: 1; border-radius: 0.35em; vertical-align: middle; margin-left: 0.5rem\">Counterclaim</span>\n",
       "</mark>\n",
       "\n",
       "<mark class=\"entity\" style=\"background: #ff0000; padding: 0.45em 0.6em; margin: 0 0.25em; line-height: 1; border-radius: 0.35em;\">\n",
       "    , but this is untrue.\n",
       "    <span style=\"font-size: 0.8em; font-weight: bold; line-height: 1; border-radius: 0.35em; vertical-align: middle; margin-left: 0.5rem\">Rebuttal</span>\n",
       "</mark>\n",
       "\n",
       "<mark class=\"entity\" style=\"background: #2adddd; padding: 0.45em 0.6em; margin: 0 0.25em; line-height: 1; border-radius: 0.35em;\">\n",
       "     It is far easier for students to learn new things if it's about a topic they're interested about; whereas, students may not absorb any knowledge about a topic they have no interest in. Even if student-designed projects were worse for learning, their other benefits still outweigh their downsides. Student-designed projects are a great way to develop creativity, and they let students with naturally high creativity use it, which they aren't given many chances to in school. Student-designed projects are also much better for students' time constraints, which will encourage more students to do the project.\n",
       "    <span style=\"font-size: 0.8em; font-weight: bold; line-height: 1; border-radius: 0.35em; vertical-align: middle; margin-left: 0.5rem\">Evidence</span>\n",
       "</mark>\n",
       "</br>\n",
       "<mark class=\"entity\" style=\"background: d4dd80; padding: 0.45em 0.6em; margin: 0 0.25em; line-height: 1; border-radius: 0.35em;\">\n",
       "    \n",
       "As more school systems begin to adopt summer projects, it is crucial that these projects are student-designed. Summer projects are important to build and preserve learning from throughout the year, but are extremely limiting on students freedom, creativity, and flexibility.Â By giving students the capability to design their own projects, it restores much of what is lost by giving them summer work. Student-designed projects also help to avoid many of the possible downsides of teacher-designed ones. Because of the lack of freedom and the inability to tailor a project to everyone schedule, teacher-designed projects can often lead to students cheating, or not doing the work at all. By putting students in the driver's seat of their own project, they can find a project that is enjoyable and encourages themselves to do it. By using student-designed projects, schools can obtain the needed balanced between a useful summer and an enjoyable on\n",
       "    <span style=\"font-size: 0.8em; font-weight: bold; line-height: 1; border-radius: 0.35em; vertical-align: middle; margin-left: 0.5rem\">Concluding Statement</span>\n",
       "</mark>\n",
       "e.</div></span>"
      ],
      "text/plain": [
       "<IPython.core.display.HTML object>"
      ]
     },
     "metadata": {},
     "output_type": "display_data"
    },
    {
     "name": "stdout",
     "output_type": "stream",
     "text": [
      "\n",
      "\n"
     ]
    },
    {
     "data": {
      "text/html": [
       "<span class=\"tex2jax_ignore\"><h2 style=\"margin: 0\">05BA34E2D72A</h2>\n",
       "\n",
       "<div class=\"entities\" style=\"line-height: 2.5; direction: ltr\">\n",
       "<mark class=\"entity\" style=\"background: #8000ff; padding: 0.45em 0.6em; margin: 0 0.25em; line-height: 1; border-radius: 0.35em;\">\n",
       "    With the years of technology advancement, Online and video classes have slowly become a popular alternative for those who prefer to not attend school in person. Many believe that those individuals that don't have a big enough income, or those who like learning in a sole person environment would benefit greatly from taking these classes, while others prefer to stick with the traditional way of learning which is sticking with regular traditional classes.\n",
       "    <span style=\"font-size: 0.8em; font-weight: bold; line-height: 1; border-radius: 0.35em; vertical-align: middle; margin-left: 0.5rem\">Lead</span>\n",
       "</mark>\n",
       " \n",
       "<mark class=\"entity\" style=\"background: #2b7ff6; padding: 0.45em 0.6em; margin: 0 0.25em; line-height: 1; border-radius: 0.35em;\">\n",
       "    Both sides have good benefits, but traditional classes overtake online classes by a big long shot.\n",
       "    <span style=\"font-size: 0.8em; font-weight: bold; line-height: 1; border-radius: 0.35em; vertical-align: middle; margin-left: 0.5rem\">Position</span>\n",
       "</mark>\n",
       "</br></br>The option to take classes online hasn't always been available. The access to mobile devices, computer, and wi-fiÂ didn't exist at one point in time. Going back thirty years; The option to attend classes from your phone or computer wasn't a thing. Every single student that attended school had to take classes in person, which forced them to adapt to a classroom environment. The big plethora of benefits that you receive from taking regular classes ranges very far and wide, but there are only a few that should be acknowledged.\n",
       "<mark class=\"entity\" style=\"background: #80ffb4; padding: 0.45em 0.6em; margin: 0 0.25em; line-height: 1; border-radius: 0.35em;\">\n",
       "     These include a hands on experience\n",
       "    <span style=\"font-size: 0.8em; font-weight: bold; line-height: 1; border-radius: 0.35em; vertical-align: middle; margin-left: 0.5rem\">Claim</span>\n",
       "</mark>\n",
       ",\n",
       "<mark class=\"entity\" style=\"background: #80ffb4; padding: 0.45em 0.6em; margin: 0 0.25em; line-height: 1; border-radius: 0.35em;\">\n",
       "     more valid information intake\n",
       "    <span style=\"font-size: 0.8em; font-weight: bold; line-height: 1; border-radius: 0.35em; vertical-align: middle; margin-left: 0.5rem\">Claim</span>\n",
       "</mark>\n",
       ",\n",
       "<mark class=\"entity\" style=\"background: #80ffb4; padding: 0.45em 0.6em; margin: 0 0.25em; line-height: 1; border-radius: 0.35em;\">\n",
       "     support from your classmates\n",
       "    <span style=\"font-size: 0.8em; font-weight: bold; line-height: 1; border-radius: 0.35em; vertical-align: middle; margin-left: 0.5rem\">Claim</span>\n",
       "</mark>\n",
       ",\n",
       "<mark class=\"entity\" style=\"background: #80ffb4; padding: 0.45em 0.6em; margin: 0 0.25em; line-height: 1; border-radius: 0.35em;\">\n",
       "     and it prepares you for the introduction of your future job.\n",
       "    <span style=\"font-size: 0.8em; font-weight: bold; line-height: 1; border-radius: 0.35em; vertical-align: middle; margin-left: 0.5rem\">Claim</span>\n",
       "</mark>\n",
       "</br>\n",
       "<mark class=\"entity\" style=\"background: #80ffb4; padding: 0.45em 0.6em; margin: 0 0.25em; line-height: 1; border-radius: 0.35em;\">\n",
       "    \n",
       "Hands on learning is the number one factor that differs online classes from regular classes\n",
       "    <span style=\"font-size: 0.8em; font-weight: bold; line-height: 1; border-radius: 0.35em; vertical-align: middle; margin-left: 0.5rem\">Claim</span>\n",
       "</mark>\n",
       ".\n",
       "<mark class=\"entity\" style=\"background: #2adddd; padding: 0.45em 0.6em; margin: 0 0.25em; line-height: 1; border-radius: 0.35em;\">\n",
       "     Having a professional in subjects like math in your vicinity at all times is the best way for a student to get a good grasp on information. Whether it be a professor or a student; The help and guidance of another mind will always have a more significant stretch over trying to learn a subject or topic by yourself\n",
       "    <span style=\"font-size: 0.8em; font-weight: bold; line-height: 1; border-radius: 0.35em; vertical-align: middle; margin-left: 0.5rem\">Evidence</span>\n",
       "</mark>\n",
       ".\n",
       "<mark class=\"entity\" style=\"background: #ff8042; padding: 0.45em 0.6em; margin: 0 0.25em; line-height: 1; border-radius: 0.35em;\">\n",
       "     Taking online classes will have some guidance\n",
       "    <span style=\"font-size: 0.8em; font-weight: bold; line-height: 1; border-radius: 0.35em; vertical-align: middle; margin-left: 0.5rem\">Counterclaim</span>\n",
       "</mark>\n",
       ";\n",
       "<mark class=\"entity\" style=\"background: #ff0000; padding: 0.45em 0.6em; margin: 0 0.25em; line-height: 1; border-radius: 0.35em;\">\n",
       "     However, if you're stuck on your work and your not in a video call with your professor, then how are you supposed to get the answer, and looking on the internet for the answer is not the most trustworthy thing to do.\n",
       "    <span style=\"font-size: 0.8em; font-weight: bold; line-height: 1; border-radius: 0.35em; vertical-align: middle; margin-left: 0.5rem\">Rebuttal</span>\n",
       "</mark>\n",
       "</br>\n",
       "<mark class=\"entity\" style=\"background: #80ffb4; padding: 0.45em 0.6em; margin: 0 0.25em; line-height: 1; border-radius: 0.35em;\">\n",
       "    \n",
       "Classmates have such a huge impact because they'll be the next best thing to a professor when it comes to helping you learn\n",
       "    <span style=\"font-size: 0.8em; font-weight: bold; line-height: 1; border-radius: 0.35em; vertical-align: middle; margin-left: 0.5rem\">Claim</span>\n",
       "</mark>\n",
       ".\n",
       "<mark class=\"entity\" style=\"background: #2adddd; padding: 0.45em 0.6em; margin: 0 0.25em; line-height: 1; border-radius: 0.35em;\">\n",
       "     You might not understand the information, but chances are that one of your classmates fully understands it, and they will help you understand the concept most of the time.\n",
       "    <span style=\"font-size: 0.8em; font-weight: bold; line-height: 1; border-radius: 0.35em; vertical-align: middle; margin-left: 0.5rem\">Evidence</span>\n",
       "</mark>\n",
       "\n",
       "<mark class=\"entity\" style=\"background: #ff8042; padding: 0.45em 0.6em; margin: 0 0.25em; line-height: 1; border-radius: 0.35em;\">\n",
       "     In certain situations; One might take online courses because their income cannot support them\n",
       "    <span style=\"font-size: 0.8em; font-weight: bold; line-height: 1; border-radius: 0.35em; vertical-align: middle; margin-left: 0.5rem\">Counterclaim</span>\n",
       "</mark>\n",
       ",\n",
       "<mark class=\"entity\" style=\"background: #ff0000; padding: 0.45em 0.6em; margin: 0 0.25em; line-height: 1; border-radius: 0.35em;\">\n",
       "     which is totally understandable, but the circumstances of the benefits from taking online or traditional classes still apply.\n",
       "    <span style=\"font-size: 0.8em; font-weight: bold; line-height: 1; border-radius: 0.35em; vertical-align: middle; margin-left: 0.5rem\">Rebuttal</span>\n",
       "</mark>\n",
       "\n",
       "<mark class=\"entity\" style=\"background: #80ffb4; padding: 0.45em 0.6em; margin: 0 0.25em; line-height: 1; border-radius: 0.35em;\">\n",
       "     Being in a classroom when taking classes for your career are vital\n",
       "    <span style=\"font-size: 0.8em; font-weight: bold; line-height: 1; border-radius: 0.35em; vertical-align: middle; margin-left: 0.5rem\">Claim</span>\n",
       "</mark>\n",
       ".\n",
       "<mark class=\"entity\" style=\"background: #2adddd; padding: 0.45em 0.6em; margin: 0 0.25em; line-height: 1; border-radius: 0.35em;\">\n",
       "     Most businesses don't allow you to take online classes. They require you to have a certain number of hours in a certain class, and an internship on top of that.\n",
       "    <span style=\"font-size: 0.8em; font-weight: bold; line-height: 1; border-radius: 0.35em; vertical-align: middle; margin-left: 0.5rem\">Evidence</span>\n",
       "</mark>\n",
       "</br>\n",
       "<mark class=\"entity\" style=\"background: #ff8042; padding: 0.45em 0.6em; margin: 0 0.25em; line-height: 1; border-radius: 0.35em;\">\n",
       "    \n",
       "There will always be the few that counterclaim that online classes are so much better than regular classes, and they might even go as far as claiming that they're a blessing in disguise\n",
       "    <span style=\"font-size: 0.8em; font-weight: bold; line-height: 1; border-radius: 0.35em; vertical-align: middle; margin-left: 0.5rem\">Counterclaim</span>\n",
       "</mark>\n",
       ";\n",
       "<mark class=\"entity\" style=\"background: #ff0000; padding: 0.45em 0.6em; margin: 0 0.25em; line-height: 1; border-radius: 0.35em;\">\n",
       "     However, those individuals tend to throw off the potential downfalls and only look at the few benefits that exist.\n",
       "    <span style=\"font-size: 0.8em; font-weight: bold; line-height: 1; border-radius: 0.35em; vertical-align: middle; margin-left: 0.5rem\">Rebuttal</span>\n",
       "</mark>\n",
       "\n",
       "<mark class=\"entity\" style=\"background: d4dd80; padding: 0.45em 0.6em; margin: 0 0.25em; line-height: 1; border-radius: 0.35em;\">\n",
       "     I agree with most of the benefits like the independent work environment, the accessibility of class from home, and the exception of taking these classes because of financial reasons, but online class students are yet and still cheating themselves out of the large mass of benefits that regular classes offer. To get the most promising outcome; Sticking with traditional classes is the way to go\n",
       "    <span style=\"font-size: 0.8em; font-weight: bold; line-height: 1; border-radius: 0.35em; vertical-align: middle; margin-left: 0.5rem\">Concluding Statement</span>\n",
       "</mark>\n",
       " .</div></span>"
      ],
      "text/plain": [
       "<IPython.core.display.HTML object>"
      ]
     },
     "metadata": {},
     "output_type": "display_data"
    },
    {
     "name": "stdout",
     "output_type": "stream",
     "text": [
      "\n",
      "\n"
     ]
    }
   ],
   "source": [
    "# examples = data['id'].sample(n=1, random_state=42).values.tolist()\n",
    "examples = ids_with_parts_no_label\n",
    "for ex in examples:\n",
    "    highlight_segments(ex, train_texts, train_data)\n",
    "    print('\\n')"
   ]
  },
  {
   "cell_type": "code",
   "execution_count": null,
   "metadata": {},
   "outputs": [],
   "source": []
  }
 ],
 "metadata": {
  "interpreter": {
   "hash": "344fb4929a2c4de8a02de028343d6ccfb10559c13adb78f8f8f8ae2b621d77d5"
  },
  "kernelspec": {
   "display_name": "Python 3.8.5 64-bit ('masterAI': conda)",
   "language": "python",
   "name": "python3"
  },
  "language_info": {
   "codemirror_mode": {
    "name": "ipython",
    "version": 3
   },
   "file_extension": ".py",
   "mimetype": "text/x-python",
   "name": "python",
   "nbconvert_exporter": "python",
   "pygments_lexer": "ipython3",
   "version": "3.8.12"
  },
  "orig_nbformat": 4
 },
 "nbformat": 4,
 "nbformat_minor": 2
}
