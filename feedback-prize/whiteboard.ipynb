{
 "cells": [
  {
   "cell_type": "code",
   "execution_count": 22,
   "metadata": {},
   "outputs": [
    {
     "name": "stdout",
     "output_type": "stream",
     "text": [
      "The autoreload extension is already loaded. To reload it, use:\n",
      "  %reload_ext autoreload\n"
     ]
    }
   ],
   "source": [
    "import os\n",
    "import pandas as pd\n",
    "\n",
    "from typing import Tuple"
   ]
  },
  {
   "cell_type": "code",
   "execution_count": null,
   "metadata": {},
   "outputs": [],
   "source": [
    "DATASET_FOLDER = 'feedback-prize-2021'\n",
    "\n",
    "def load_data_csv() -> pd.DataFrame:\n",
    "    return pd.read_csv(\n",
    "        os.path.join(DATASET_FOLDER, 'train.csv'), \n",
    "        dtype={'discourse_id': 'int64', 'discourse_start': int, 'discourse_end': int})\n",
    "\n",
    "def load_file(file_id: str, folder: str = 'train') -> str:\n",
    "    path = os.path.join(DATASET_FOLDER, folder, file_id + '.txt')\n",
    "    with open(path, 'r') as f:\n",
    "        text = f.read()\n",
    "    return text\n",
    "\n",
    "def load_texts(folder: str = 'train') -> pd.Series:\n",
    "    data_path = os.path.join(DATASET_FOLDER, folder)\n",
    "\n",
    "    def read(filename):\n",
    "        with open(os.path.join(data_path, filename), 'r') as f:\n",
    "            text = f.read()\n",
    "        return text\n",
    "\n",
    "    return pd.Series({fname.replace('.txt', ''): read(fname) for fname in os.listdir(data_path)})     \n",
    "\n",
    "def load_dataset() -> Tuple[pd.Series, pd.DataFrame]:\n",
    "    return load_texts(), load_data_csv()\n"
   ]
  },
  {
   "cell_type": "code",
   "execution_count": 23,
   "metadata": {},
   "outputs": [],
   "source": [
    "texts, data = load_dataset()"
   ]
  },
  {
   "cell_type": "code",
   "execution_count": 7,
   "metadata": {},
   "outputs": [
    {
     "name": "stdout",
     "output_type": "stream",
     "text": [
      "['Lead' 'Position' 'Evidence' 'Claim' 'Concluding Statement'\n",
      " 'Counterclaim' 'Rebuttal']\n"
     ]
    }
   ],
   "source": [
    "labels = data['discourse_type'].unique()\n",
    "\n",
    "print(labels)"
   ]
  },
  {
   "cell_type": "code",
   "execution_count": 27,
   "metadata": {},
   "outputs": [
    {
     "data": {
      "text/plain": [
       "0FB0700DAF44    During a group project, have you ever asked a ...\n",
       "18409261F5C2    80% of Americans believe seeking multiple opin...\n",
       "D46BCB48440A    When people ask for advice,they sometimes talk...\n",
       "D72CB1C11673    Making choices in life can be very difficult. ...\n",
       "DF920E0A7337    Have you ever asked more than one person for h...\n",
       "dtype: object"
      ]
     },
     "execution_count": 27,
     "metadata": {},
     "output_type": "execute_result"
    }
   ],
   "source": [
    "test_texts = load_texts('test')\n",
    "\n",
    "test_texts"
   ]
  },
  {
   "cell_type": "code",
   "execution_count": 21,
   "metadata": {},
   "outputs": [
    {
     "name": "stdout",
     "output_type": "stream",
     "text": [
      "0045BE2791A2\n",
      "[\"Why would you want bad grades? you should pass. Also it just doesn't seem right. Or you could get a scholarship into a college for sports but it wouldn't boost your grade up all the way to get in a great college. \"]\n",
      "004EA492DA04\n",
      "[\"\\n\\nCommunity service should be something that somebody wants to do, not something that they have to do. Some people don't have time to do community service and some people have obligated their time to other things such as piano, dance, football, basketball, and etc. \", '\\nIf my reasons did not convince you then, I think you must have a good reason why you want to do all the community service. ']\n"
     ]
    }
   ],
   "source": [
    "parts_no_label = {}\n",
    "\n",
    "for group_id, group in data.groupby(by='id'):\n",
    "    init = -1\n",
    "    for _, row in group.iterrows():\n",
    "        g_init = row.discourse_start\n",
    "        if g_init > init + 1:\n",
    "            part = texts[group_id][init: g_init]\n",
    "            if len(part) > 100:\n",
    "                if group_id not in parts_no_label.keys():\n",
    "                    parts_no_label[group_id] = [part]\n",
    "                else:\n",
    "                    parts_no_label[group_id].append(part)\n",
    "        init = row.discourse_end\n",
    "    if len(parts_no_label) > 1:\n",
    "        break\n",
    "\n",
    "for g, l in parts_no_label.items():\n",
    "    print(g)\n",
    "    print(l)\n",
    "    "
   ]
  },
  {
   "cell_type": "code",
   "execution_count": 31,
   "metadata": {},
   "outputs": [],
   "source": [
    "# example_id = '423A1CA112E2'\n",
    "# example_id = '00203C45FC55'\n",
    "# example_id = '0491C7BFA9B4'\n",
    "\n",
    "example_id = '004EA492DA04'\n",
    "\n",
    "example_text = texts[example_id]\n",
    "group = data.groupby(by='id').get_group(example_id)"
   ]
  },
  {
   "cell_type": "code",
   "execution_count": 32,
   "metadata": {},
   "outputs": [
    {
     "data": {
      "text/plain": [
       "\"Dear Principal,\\n\\nI think that making someone choose to do community service is the right thing to do. To make people do community service is unfair to the people who have after-school activities, tutoring, and other things they have committed to.\\n\\nCommunity service should be something that somebody wants to do, not something that they have to do. Some people don't have time to do community service and some people have obligated their time to other things such as piano, dance, football, basketball, and etc. It would be nice for people to give back ,but people can do it on their own time, not on a schedule.\\n\\nIf you did make people do community service, kids will not have extra time to do homework or study. You might see some of the smarter kids grades drop and that means that if you had kids that aren't already doing well in school would be worse in school than usual. I also think that it would put more work on the faculty. Which also means that you would have to start paying more to the teachers and less on what really matters to help educate the kids at this school. You have to pay money towards books, utensils for teaching, and other things needed to get the kids educated.\\n\\nIf my reasons did not convince you then, I think you must have a good reason why you want to do all the community service. I have had many good reasons why you should not make everyone do community service like, money, after school activities and other reasons i hope I have changed your mind. I look forward to what you will choose I think that community service should be something that people want to do and not what you are making them do. This might make people think that community service is a punishment and it isn't, so I feel like they might think that this is a bad thing to do and never want to do it again. I hope that you have taking this letter seriously and have listed your options. Always give things second thoughts because one thing you might think is a good idea, but then later find out that it isn't.\\n\\nFrom, a student      \""
      ]
     },
     "execution_count": 32,
     "metadata": {},
     "output_type": "execute_result"
    }
   ],
   "source": [
    "example_text"
   ]
  },
  {
   "cell_type": "code",
   "execution_count": 33,
   "metadata": {},
   "outputs": [
    {
     "data": {
      "text/html": [
       "<div>\n",
       "<style scoped>\n",
       "    .dataframe tbody tr th:only-of-type {\n",
       "        vertical-align: middle;\n",
       "    }\n",
       "\n",
       "    .dataframe tbody tr th {\n",
       "        vertical-align: top;\n",
       "    }\n",
       "\n",
       "    .dataframe thead th {\n",
       "        text-align: right;\n",
       "    }\n",
       "</style>\n",
       "<table border=\"1\" class=\"dataframe\">\n",
       "  <thead>\n",
       "    <tr style=\"text-align: right;\">\n",
       "      <th></th>\n",
       "      <th>id</th>\n",
       "      <th>discourse_id</th>\n",
       "      <th>discourse_start</th>\n",
       "      <th>discourse_end</th>\n",
       "      <th>discourse_text</th>\n",
       "      <th>discourse_type</th>\n",
       "      <th>discourse_type_num</th>\n",
       "      <th>predictionstring</th>\n",
       "    </tr>\n",
       "  </thead>\n",
       "  <tbody>\n",
       "    <tr>\n",
       "      <th>68446</th>\n",
       "      <td>004EA492DA04</td>\n",
       "      <td>1615153210579</td>\n",
       "      <td>17</td>\n",
       "      <td>102</td>\n",
       "      <td>I think that making someone choose to do commu...</td>\n",
       "      <td>Position</td>\n",
       "      <td>Position 1</td>\n",
       "      <td>2 3 4 5 6 7 8 9 10 11 12 13 14 15 16 17</td>\n",
       "    </tr>\n",
       "    <tr>\n",
       "      <th>68447</th>\n",
       "      <td>004EA492DA04</td>\n",
       "      <td>1615153219763</td>\n",
       "      <td>102</td>\n",
       "      <td>246</td>\n",
       "      <td>To make people do community service is unfair ...</td>\n",
       "      <td>Claim</td>\n",
       "      <td>Claim 1</td>\n",
       "      <td>18 19 20 21 22 23 24 25 26 27 28 29 30 31 32 3...</td>\n",
       "    </tr>\n",
       "    <tr>\n",
       "      <th>68448</th>\n",
       "      <td>004EA492DA04</td>\n",
       "      <td>1615153264329</td>\n",
       "      <td>512</td>\n",
       "      <td>613</td>\n",
       "      <td>It would be nice for people to give back ,but ...</td>\n",
       "      <td>Evidence</td>\n",
       "      <td>Evidence 1</td>\n",
       "      <td>85 86 87 88 89 90 91 92 93 94 95 96 97 98 99 1...</td>\n",
       "    </tr>\n",
       "    <tr>\n",
       "      <th>68449</th>\n",
       "      <td>004EA492DA04</td>\n",
       "      <td>1615153278009</td>\n",
       "      <td>614</td>\n",
       "      <td>714</td>\n",
       "      <td>If you did make people do community service, k...</td>\n",
       "      <td>Claim</td>\n",
       "      <td>Claim 2</td>\n",
       "      <td>107 108 109 110 111 112 113 114 115 116 117 11...</td>\n",
       "    </tr>\n",
       "    <tr>\n",
       "      <th>68450</th>\n",
       "      <td>004EA492DA04</td>\n",
       "      <td>1615153291966</td>\n",
       "      <td>714</td>\n",
       "      <td>879</td>\n",
       "      <td>You might see some of the smarter kids grades ...</td>\n",
       "      <td>Evidence</td>\n",
       "      <td>Evidence 2</td>\n",
       "      <td>126 127 128 129 130 131 132 133 134 135 136 13...</td>\n",
       "    </tr>\n",
       "    <tr>\n",
       "      <th>68451</th>\n",
       "      <td>004EA492DA04</td>\n",
       "      <td>1615153308612</td>\n",
       "      <td>879</td>\n",
       "      <td>936</td>\n",
       "      <td>I also think that it would put more work on th...</td>\n",
       "      <td>Claim</td>\n",
       "      <td>Claim 3</td>\n",
       "      <td>158 159 160 161 162 163 164 165 166 167 168 169</td>\n",
       "    </tr>\n",
       "    <tr>\n",
       "      <th>68452</th>\n",
       "      <td>004EA492DA04</td>\n",
       "      <td>1615153321443</td>\n",
       "      <td>936</td>\n",
       "      <td>1193</td>\n",
       "      <td>Which also means that you would have to start ...</td>\n",
       "      <td>Evidence</td>\n",
       "      <td>Evidence 3</td>\n",
       "      <td>170 171 172 173 174 175 176 177 178 179 180 18...</td>\n",
       "    </tr>\n",
       "    <tr>\n",
       "      <th>68453</th>\n",
       "      <td>004EA492DA04</td>\n",
       "      <td>1615247034583</td>\n",
       "      <td>1317</td>\n",
       "      <td>1814</td>\n",
       "      <td>I have had many good reasons why you should no...</td>\n",
       "      <td>Concluding Statement</td>\n",
       "      <td>Concluding Statement 1</td>\n",
       "      <td>242 243 244 245 246 247 248 249 250 251 252 25...</td>\n",
       "    </tr>\n",
       "  </tbody>\n",
       "</table>\n",
       "</div>"
      ],
      "text/plain": [
       "                 id   discourse_id  discourse_start  discourse_end  \\\n",
       "68446  004EA492DA04  1615153210579               17            102   \n",
       "68447  004EA492DA04  1615153219763              102            246   \n",
       "68448  004EA492DA04  1615153264329              512            613   \n",
       "68449  004EA492DA04  1615153278009              614            714   \n",
       "68450  004EA492DA04  1615153291966              714            879   \n",
       "68451  004EA492DA04  1615153308612              879            936   \n",
       "68452  004EA492DA04  1615153321443              936           1193   \n",
       "68453  004EA492DA04  1615247034583             1317           1814   \n",
       "\n",
       "                                          discourse_text  \\\n",
       "68446  I think that making someone choose to do commu...   \n",
       "68447  To make people do community service is unfair ...   \n",
       "68448  It would be nice for people to give back ,but ...   \n",
       "68449  If you did make people do community service, k...   \n",
       "68450  You might see some of the smarter kids grades ...   \n",
       "68451  I also think that it would put more work on th...   \n",
       "68452  Which also means that you would have to start ...   \n",
       "68453  I have had many good reasons why you should no...   \n",
       "\n",
       "             discourse_type      discourse_type_num  \\\n",
       "68446              Position              Position 1   \n",
       "68447                 Claim                 Claim 1   \n",
       "68448              Evidence              Evidence 1   \n",
       "68449                 Claim                 Claim 2   \n",
       "68450              Evidence              Evidence 2   \n",
       "68451                 Claim                 Claim 3   \n",
       "68452              Evidence              Evidence 3   \n",
       "68453  Concluding Statement  Concluding Statement 1   \n",
       "\n",
       "                                        predictionstring  \n",
       "68446            2 3 4 5 6 7 8 9 10 11 12 13 14 15 16 17  \n",
       "68447  18 19 20 21 22 23 24 25 26 27 28 29 30 31 32 3...  \n",
       "68448  85 86 87 88 89 90 91 92 93 94 95 96 97 98 99 1...  \n",
       "68449  107 108 109 110 111 112 113 114 115 116 117 11...  \n",
       "68450  126 127 128 129 130 131 132 133 134 135 136 13...  \n",
       "68451    158 159 160 161 162 163 164 165 166 167 168 169  \n",
       "68452  170 171 172 173 174 175 176 177 178 179 180 18...  \n",
       "68453  242 243 244 245 246 247 248 249 250 251 252 25...  "
      ]
     },
     "execution_count": 33,
     "metadata": {},
     "output_type": "execute_result"
    }
   ],
   "source": [
    "group"
   ]
  },
  {
   "cell_type": "code",
   "execution_count": 34,
   "metadata": {},
   "outputs": [
    {
     "data": {
      "text/plain": [
       "\"I have had many good reasons why you should not make everyone do community service like, money, after school activities and other reasons i hope I have changed your mind. I look forward to what you will choose I think that community service should be something that people want to do and not what you are making them do. This might make people think that community service is a punishment and it isn't, so I feel like they might think that this is a bad thing to do and never want to do it again. \""
      ]
     },
     "execution_count": 34,
     "metadata": {},
     "output_type": "execute_result"
    }
   ],
   "source": [
    "group['discourse_text'][68453]"
   ]
  },
  {
   "cell_type": "code",
   "execution_count": 35,
   "metadata": {},
   "outputs": [
    {
     "data": {
      "text/plain": [
       "\"I have had many good reasons why you should not make everyone do community service like, money, after school activities and other reasons i hope I have changed your mind. I look forward to what you will choose I think that community service should be something that people want to do and not what you are making them do. This might make people think that community service is a punishment and it isn't, so I feel like they might think that this is a bad thing to do and never want to do it again. I hope that you have taking this letter seriously and have listed your options. Always give things second thoughts because one thing you might think is a good idea, but then later find out that it isn't.\\n\\nFrom, a student      \""
      ]
     },
     "execution_count": 35,
     "metadata": {},
     "output_type": "execute_result"
    }
   ],
   "source": [
    "example_text[1317:]"
   ]
  },
  {
   "cell_type": "code",
   "execution_count": null,
   "metadata": {},
   "outputs": [],
   "source": []
  }
 ],
 "metadata": {
  "interpreter": {
   "hash": "344fb4929a2c4de8a02de028343d6ccfb10559c13adb78f8f8f8ae2b621d77d5"
  },
  "kernelspec": {
   "display_name": "Python 3.8.5 64-bit ('masterAI': conda)",
   "language": "python",
   "name": "python3"
  },
  "language_info": {
   "codemirror_mode": {
    "name": "ipython",
    "version": 3
   },
   "file_extension": ".py",
   "mimetype": "text/x-python",
   "name": "python",
   "nbconvert_exporter": "python",
   "pygments_lexer": "ipython3",
   "version": "3.8.5"
  },
  "orig_nbformat": 4
 },
 "nbformat": 4,
 "nbformat_minor": 2
}
