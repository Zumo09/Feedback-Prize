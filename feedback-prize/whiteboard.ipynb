{
  "cells": [
    {
      "cell_type": "code",
      "execution_count": null,
      "metadata": {
        "colab": {
          "base_uri": "https://localhost:8080/"
        },
        "id": "_3_aB__1RjHG",
        "outputId": "8d1bef6b-3aee-4d92-de1d-2550707e301d"
      },
      "outputs": [
        {
          "output_type": "stream",
          "name": "stdout",
          "text": [
            "Requirement already satisfied: python-Levenshtein in /usr/local/lib/python3.7/dist-packages (0.12.2)\n",
            "Requirement already satisfied: setuptools in /usr/local/lib/python3.7/dist-packages (from python-Levenshtein) (57.4.0)\n",
            "Collecting polyleven\n",
            "  Downloading polyleven-0.7.tar.gz (5.1 kB)\n",
            "Building wheels for collected packages: polyleven\n",
            "  Building wheel for polyleven (setup.py) ... \u001b[?25l\u001b[?25hdone\n",
            "  Created wheel for polyleven: filename=polyleven-0.7-cp37-cp37m-linux_x86_64.whl size=22682 sha256=86a284d5a067eba54b958cd6723fdfac94703c938984027c3227508c3a7bb478\n",
            "  Stored in directory: /root/.cache/pip/wheels/95/39/76/e4f5069aff443cc7c01b6ced8d5c17fcdcc74c6f91adc1faed\n",
            "Successfully built polyleven\n",
            "Installing collected packages: polyleven\n",
            "Successfully installed polyleven-0.7\n"
          ]
        }
      ],
      "source": [
        "%matplotlib inline\n",
        "\n",
        "import os\n",
        "import requests\n",
        "import zipfile\n",
        "import re\n",
        "import copy\n",
        "import json\n",
        "import pickle\n",
        "\n",
        "import pandas as pd\n",
        "import numpy as np\n",
        "import matplotlib.pyplot as plt\n",
        "import seaborn as sns\n",
        "\n",
        "from spacy import displacy\n",
        "\n",
        "import nltk\n",
        "from nltk.corpus import stopwords\n",
        "from nltk import word_tokenize, pos_tag\n",
        "nltk.download('punkt')\n",
        "nltk.download('averaged_perceptron_tagger')\n",
        "nltk.download('maxent_ne_chunker')\n",
        "nltk.download('words')\n",
        "\n",
        "\n",
        "from sklearn.metrics import classification_report\n",
        "\n",
        "import torch\n",
        "import torch.nn as nn\n",
        "import torch.optim as optim\n",
        "\n",
        "from torch.utils.data import Dataset, DataLoader\n",
        "from torch.utils.tensorboard.writer import SummaryWriter\n",
        "\n",
        "from tqdm import tqdm\n",
        "from pprint import pprint\n",
        "\n",
        "import gensim.downloader as gloader\n",
        "from gensim.models.keyedvectors import KeyedVectors\n",
        "\n",
        "!pip install python-Levenshtein\n",
        "import Levenshtein\n",
        "\n",
        "!pip install polyleven\n",
        "import polyleven\n",
        "\n",
        "from functools import reduce\n",
        "from typing import List, Set, Tuple, Dict, Any, Callable, Optional\n",
        "from collections.abc import Iterable\n",
        "\n",
        "from unicodedata import normalize\n",
        "\n",
        "plt.style.use('ggplot')\n",
        "\n",
        "random_seed = 42\n",
        "\n",
        "np.random.seed(random_seed)\n",
        "torch.manual_seed(random_seed)\n",
        "torch.backends.cudnn.deterministic = True\n",
        "\n",
        "device = torch.device(\"cuda\" if torch.cuda.is_available() else \"cpu\")"
      ]
    },
    {
      "cell_type": "code",
      "execution_count": null,
      "metadata": {
        "id": "T1R-5n0vRjHM"
      },
      "outputs": [],
      "source": [
        "REPLACE_BY_SPACE_RE = re.compile('[/(){}\\[\\]\\|@_-]')\n",
        "GOOD_SYMBOLS_RE = re.compile('[^0-9a-z .,;!?]')\n",
        "\n",
        "def normalize(text: str) -> str:\n",
        "  '''\n",
        "  Delete strange charachters such as \\xa0 due to the format\n",
        "  '''\n",
        "  return normalize('NFKD', txt)\n",
        "\n",
        "def lower(text: str) -> str:\n",
        "    return text.lower()\n",
        "\n",
        "def replace_special_characters(text: str) -> str:\n",
        "    return REPLACE_BY_SPACE_RE.sub(' ', text)\n",
        "\n",
        "def filter_out_uncommon_symbols(text: str) -> str:\n",
        "    return GOOD_SYMBOLS_RE.sub('', text)\n",
        "\n",
        "def strip_text(text: str) -> str:\n",
        "    return text.strip()\n",
        "\n",
        "PREPROC_PIPELINE = [\n",
        "    normalize\n",
        "    lower,\n",
        "    replace_special_characters,\n",
        "    filter_out_uncommon_symbols,\n",
        "    strip_text\n",
        "]\n",
        "\n",
        "# Anchor method\n",
        "\n",
        "def text_prepare(text: str,\n",
        "                 filter_methods: List[Callable[[str], str]] = None) -> str:\n",
        "    \"\"\"\n",
        "    Applies a list of pre-processing functions in sequence (reduce).\n",
        "    Note that the order is important here!\n",
        "    \"\"\"\n",
        "    filter_methods = PREPROC_PIPELINE if filter_methods is None else filter_methods\n",
        "    return reduce(lambda txt, f: f(txt), filter_methods, text)\n"
      ]
    },
    {
      "cell_type": "code",
      "source": [
        "# To check\n",
        "def IOB_tagset(train_data: pd.DataFrame) -> list:\n",
        "    '''\n",
        "    It creates a list of list with a label for each word following the IOB-tagset.\n",
        "    Each list is referred to a txt file.\n",
        "    Arg-B means the beggining of an argumentative span.\n",
        "    Arg-I means inside and argumentative span.\n",
        "    O outside an argumentative span.\n",
        "    '''\n",
        "  \n",
        "    label_list = []\n",
        "    #print(len(np.unique(train_data['id'])))\n",
        "    for id in np.unique(train_data['id']):\n",
        "\n",
        "      data = train_data[train_data['id'] == id]\n",
        "      index = data['predictionstring'].apply(lambda x : x.split(' '))\n",
        "        \n",
        "\n",
        "      #print(index.iloc[data.shape[0]-1])\n",
        "      length = int(index.iloc[data.shape[0]-1][-1]) + 1\n",
        "      labels = ['O']*int(length)\n",
        "\n",
        "      for i in range(data.shape[0]):\n",
        "        for j, k in zip(index.iloc[i], range(len(index.iloc[i]))):\n",
        "          if k == 0:\n",
        "            labels[int(j)] = 'ARG-B'\n",
        "\n",
        "          else:\n",
        "\n",
        "            labels[int(j)] = 'ARG-I'\n",
        "\n",
        "      label_list.append(labels)\n",
        "\n",
        "    return label_list\n",
        "\n",
        "def bio_counter(labels: list, display_plot=True) -> list:\n",
        "  '''\n",
        "  Computes the occurences of each class.\n",
        "  if display_plot = True plots the histogram\n",
        "  '''\n",
        "  labels_flat = np.array([val for sublist in labels for val in sublist])\n",
        "  arg_b = np.sum(np.where(labels_flat == 'ARG-B'))\n",
        "  arg_i = np.sum(np.where(labels_flat == 'ARG-I'))\n",
        "  o = np.sum(np.where(labels_flat == 'O'))\n",
        "\n",
        "  if display_plot:\n",
        "    plt.stem([arg_b, arg_i, o], use_line_collection=True)\n",
        "    plt.xticks([0, 1, 2], ['ARG-B', 'ARG-I', 'O'])\n",
        "    plt.show()\n",
        "\n",
        "\n",
        "  return np.array((arg_b, arg_i, o))\n",
        "\n",
        "# to check\n",
        "def pos_tagger(text: list) -> list:\n",
        "  '''\n",
        "  It computes the POS labels for each words in the text using nltk function.\n",
        "  '''\n",
        "\n",
        "  tagged_words= pos_tag(word_tokenize(text))\n",
        "  \n",
        "  return [tagged_words[i][1] for i in range(len(tagged_words))]\n",
        "\n",
        "\n"
      ],
      "metadata": {
        "id": "N5Ad993Jv0y2"
      },
      "execution_count": null,
      "outputs": []
    },
    {
      "cell_type": "code",
      "execution_count": null,
      "metadata": {
        "id": "sIf3i0E7RjHN"
      },
      "outputs": [],
      "source": [
        "DATASET_FOLDER = \"../input/feedback-prize-2021\"\n",
        "\n",
        "def load_data_csv() -> pd.DataFrame:\n",
        "    return pd.read_csv(\n",
        "        os.path.join(DATASET_FOLDER, 'train.csv'), \n",
        "        dtype={'discourse_id': 'int64', 'discourse_start': int, 'discourse_end': int})\n",
        "\n",
        "def load_file(file_id: str, folder: str = 'train') -> str:\n",
        "    path = os.path.join(DATASET_FOLDER, folder, file_id + '.txt')\n",
        "    with open(path, 'r') as f:\n",
        "        text = f.read()\n",
        "    return text\n",
        "\n",
        "def load_texts(folder: str = 'train', preprocess: bool = False) -> pd.Series:\n",
        "    data_path = os.path.join(DATASET_FOLDER, folder)\n",
        "\n",
        "    def read(filename):\n",
        "        with open(os.path.join(data_path, filename), 'r') as f:\n",
        "            text = f.read()\n",
        "        if preprocess:\n",
        "            return text_prepare(text)\n",
        "        else:\n",
        "            return text\n",
        "\n",
        "    return pd.Series({fname.replace('.txt', ''): read(fname) for fname in tqdm(os.listdir(data_path))})     \n",
        "\n",
        "def load_dataset(preprocess: bool = False) -> Tuple[pd.Series, pd.DataFrame]:\n",
        "    return load_texts(preprocess=preprocess), load_data_csv()"
      ]
    },
    {
      "cell_type": "code",
      "execution_count": null,
      "metadata": {
        "id": "9zjIzDvfRjHP"
      },
      "outputs": [],
      "source": [
        "def load_glove_embedding(embedding_size: int=50) -> KeyedVectors:\n",
        "    download_path = f'glove-wiki-gigaword-{embedding_size}'\n",
        "\n",
        "    try:\n",
        "        emb_model = gloader.load(download_path)\n",
        "    except ValueError as e:\n",
        "        print(\"Invalid embedding model name! Check the embedding dimension:\")\n",
        "        print(\"Glove: 50, 100, 200, 300\")\n",
        "        raise e\n",
        "\n",
        "    return emb_model\n",
        "\n",
        "REPLACE_POINTS = re.compile('[.,;!?]')\n",
        "\n",
        "def get_unique_words(texts: pd.Series) -> Set[str]:\n",
        "    words = []\n",
        "\n",
        "    for text in texts:\n",
        "        text = REPLACE_POINTS.sub(' ', text)\n",
        "        words.extend(text.split())\n",
        "            \n",
        "    return set(words)"
      ]
    },
    {
      "cell_type": "code",
      "execution_count": null,
      "metadata": {
        "id": "RMvJsH7-RjHP"
      },
      "outputs": [],
      "source": [
        "class TypoCorrecter:\n",
        "    def __init__(self, vocab_keys: List[str]) -> None:\n",
        "        self.vocab_keys = vocab_keys\n",
        "        self.vocab_array = np.array(list(self.vocab_keys))\n",
        "        self.str_number_keys = [n for n in self.vocab_keys if self.isNumber(n)]\n",
        "        self.number_keys = np.array(self.str_number_keys, dtype=np.float32)\n",
        "\n",
        "        self.LETTERS = re.compile('[a-z]')\n",
        "\n",
        "    def __call__(self, word: str, threshold=1) -> str:\n",
        "        if word in self.vocab_keys:\n",
        "            return word\n",
        "\n",
        "        if self.LETTERS.match(word): # avoid to use Levenshtein on numbers\n",
        "            dist = lambda elem: polyleven.levenshtein(word, elem, threshold)\n",
        "            distances = np.vectorize(dist)(self.vocab_array)\n",
        "            idx_min = np.argmin(distances)\n",
        "            if distances[idx_min] <= threshold:\n",
        "                return self.vocab_array[idx_min]\n",
        "\n",
        "        try:\n",
        "            # maybe it is a number, convert to the nearest one\n",
        "            word = word.replace(',', '')\n",
        "            number = float(word)\n",
        "\n",
        "            idx = np.argmin(np.abs(self.number_keys - number))\n",
        "            return self.str_number_keys[idx]\n",
        "\n",
        "        except ValueError:\n",
        "            # nothing can be done, return the old word\n",
        "            return word\n",
        "\n",
        "    @staticmethod\n",
        "    def isNumber(n) -> bool:\n",
        "        if n == 'nan':\n",
        "            return False\n",
        "        try:\n",
        "            float(n)\n",
        "            return True\n",
        "        except ValueError:\n",
        "            return False\n",
        "\n",
        "def handling_OOV(words: Set[str], OOV: Set[str], embedder: KeyedVectors):\n",
        "    '''\n",
        "    Try to check if OOV are due to:\n",
        "        1)Decimal numbers; \n",
        "        2)words separated by special character (-, \\\\/)compuound words ;\n",
        "        3)Words compuound by two words present in the vocabulary; \n",
        "        4)Typos;\n",
        "    '''\n",
        "\n",
        "    '''\n",
        "    Words separated by special characters are encoded using the embedding of the two words.\n",
        "    For other words we just check the spelling and try to approximate number.\n",
        "    '''\n",
        "    vocab_keys: List[str] = embedder.index_to_key\n",
        "    correct_typo = TypoCorrecter(vocab_keys)\n",
        "\n",
        "    print(\"Correcting numbers, typos and words separated by special characters.\")\n",
        "\n",
        "    to_add = {}\n",
        "    for w in tqdm(OOV):\n",
        "        try:\n",
        "            if '-' in w:\n",
        "                subWords = w.split('-')\n",
        "                embedded_words = [embedder[correct_typo(subW)] for subW in subWords if subW]\n",
        "                to_add[w] = np.mean(embedded_words, axis=0)\n",
        "\n",
        "            elif '_' in w:\n",
        "                subWords = w.split('-')\n",
        "                embedded_words = [embedder[correct_typo(subW)] for subW in subWords if subW]\n",
        "                to_add[w] = np.mean(embedded_words, axis=0)\n",
        "            \n",
        "            elif '\\\\/' in w:\n",
        "                subWords = w.split('\\\\/')\n",
        "                embedded_words = [embedder[correct_typo(subW)] for subW in subWords]\n",
        "                to_add[w] = np.mean(embedded_words, axis=0)\n",
        "\n",
        "            else:\n",
        "                to_add[w] = embedder[correct_typo(w)]\n",
        "\n",
        "        except KeyError:\n",
        "            pass\n",
        "    \n",
        "    embedder.add_vectors(list(to_add.keys()), list(to_add.values()))\n",
        "    \n",
        "    vocab_keys: List[str] = embedder.index_to_key\n",
        "    OOV = words.difference(set(vocab_keys))\n",
        "    print(\"There are\", len(OOV), \"OOV\")\n",
        "    \n",
        "    # Compound words\n",
        "    print('Analyzing compound words')\n",
        "    to_add = {}\n",
        "    for w in tqdm(OOV):\n",
        "        for i in range(2, len(w)-2):\n",
        "            w1 = w[:i]\n",
        "            w2 = w[i:]\n",
        "            if w1 in vocab_keys and w2 in vocab_keys:\n",
        "                embedding = (embedder[w1] + embedder[w2]) / 2\n",
        "                to_add[w] = embedding\n",
        "                break\n",
        "    embedder.add_vectors(list(to_add.keys()), list(to_add.values()))\n",
        "  \n",
        "    vocab_keys: List[str] = embedder.index_to_key\n",
        "    OOV = words.difference(set(vocab_keys))\n",
        "    print(\"There are\", len(OOV), \"OOV\")\n",
        "\n",
        "    # Typos\n",
        "    print('Correcting typos with Levenshtein distance up to 2')\n",
        "    correct_typo = TypoCorrecter(vocab_keys)\n",
        "    to_add = {}\n",
        "\n",
        "    for w in tqdm(OOV):\n",
        "        try:\n",
        "            new_w = correct_typo(w, threshold=2)\n",
        "            to_add[w] = embedder[new_w]\n",
        "        except KeyError:\n",
        "            pass\n",
        "\n",
        "    embedder.add_vectors(list(to_add.keys()), list(to_add.values()))\n",
        "\n",
        "    vocab_keys: List[str] = embedder.index_to_key\n",
        "    OOV = words.difference(set(vocab_keys))\n",
        "    print(\"There are\", len(OOV), \"OOV\")\n",
        "    return OOV"
      ]
    },
    {
      "cell_type": "code",
      "execution_count": null,
      "metadata": {
        "id": "rDILzFD9RjHR"
      },
      "outputs": [],
      "source": [
        "# Credits for this part of visualisation _> https://www.kaggle.com/thedrcat\n",
        "\n",
        "DISCOURSE_TYPES_COLORS = {\n",
        "    'Lead': '#8000ff',\n",
        "    'Position': '#2b7ff6',\n",
        "    'Evidence': '#2adddd',\n",
        "    'Claim': '#80ffb4',\n",
        "    'Concluding Statement': 'd4dd80',\n",
        "    'Counterclaim': '#ff8042',\n",
        "    'Rebuttal': '#ff0000'\n",
        "}\n",
        "\n",
        "def highlight_segments(id_example, texts, data):         \n",
        "    ents = []\n",
        "    for _, row in data[data['id'] == id_example].iterrows():\n",
        "        ents.append({\n",
        "            'start': int(row['discourse_start']), \n",
        "            'end': int(row['discourse_end']), \n",
        "            'label': row['discourse_type']\n",
        "            })\n",
        "    doc2 = {'text': texts[id_example], 'ents': ents, 'title': id_example}\n",
        "    options = {'ents': data.discourse_type.unique().tolist(), 'colors': DISCOURSE_TYPES_COLORS}\n",
        "    displacy.render(doc2, style='ent', options=options, manual=True, jupyter=True)"
      ]
    },
    {
      "cell_type": "markdown",
      "source": [
        "Pesno che dobbiamo mettere la repository come pubblica per poter accedere"
      ],
      "metadata": {
        "id": "F6zD2_MDbaX0"
      }
    },
    {
      "cell_type": "code",
      "execution_count": null,
      "metadata": {
        "colab": {
          "base_uri": "https://localhost:8080/",
          "height": 310
        },
        "id": "zdxUYloeRjHS",
        "outputId": "4b7947fc-df8a-4c8c-9cdd-75cfd9a7ef86"
      },
      "outputs": [
        {
          "output_type": "error",
          "ename": "FileNotFoundError",
          "evalue": "ignored",
          "traceback": [
            "\u001b[0;31m---------------------------------------------------------------------------\u001b[0m",
            "\u001b[0;31mFileNotFoundError\u001b[0m                         Traceback (most recent call last)",
            "\u001b[0;32m<ipython-input-17-81b5a58dd878>\u001b[0m in \u001b[0;36m<module>\u001b[0;34m()\u001b[0m\n\u001b[0;32m----> 1\u001b[0;31m \u001b[0mtrain_texts\u001b[0m\u001b[0;34m,\u001b[0m \u001b[0mtrain_data\u001b[0m \u001b[0;34m=\u001b[0m \u001b[0mload_dataset\u001b[0m\u001b[0;34m(\u001b[0m\u001b[0mpreprocess\u001b[0m\u001b[0;34m=\u001b[0m\u001b[0;32mTrue\u001b[0m\u001b[0;34m)\u001b[0m\u001b[0;34m\u001b[0m\u001b[0;34m\u001b[0m\u001b[0m\n\u001b[0m",
            "\u001b[0;32m<ipython-input-5-79cc19708a5c>\u001b[0m in \u001b[0;36mload_dataset\u001b[0;34m(preprocess)\u001b[0m\n\u001b[1;32m     26\u001b[0m \u001b[0;34m\u001b[0m\u001b[0m\n\u001b[1;32m     27\u001b[0m \u001b[0;32mdef\u001b[0m \u001b[0mload_dataset\u001b[0m\u001b[0;34m(\u001b[0m\u001b[0mpreprocess\u001b[0m\u001b[0;34m:\u001b[0m \u001b[0mbool\u001b[0m \u001b[0;34m=\u001b[0m \u001b[0;32mFalse\u001b[0m\u001b[0;34m)\u001b[0m \u001b[0;34m->\u001b[0m \u001b[0mTuple\u001b[0m\u001b[0;34m[\u001b[0m\u001b[0mpd\u001b[0m\u001b[0;34m.\u001b[0m\u001b[0mSeries\u001b[0m\u001b[0;34m,\u001b[0m \u001b[0mpd\u001b[0m\u001b[0;34m.\u001b[0m\u001b[0mDataFrame\u001b[0m\u001b[0;34m]\u001b[0m\u001b[0;34m:\u001b[0m\u001b[0;34m\u001b[0m\u001b[0;34m\u001b[0m\u001b[0m\n\u001b[0;32m---> 28\u001b[0;31m     \u001b[0;32mreturn\u001b[0m \u001b[0mload_texts\u001b[0m\u001b[0;34m(\u001b[0m\u001b[0mpreprocess\u001b[0m\u001b[0;34m=\u001b[0m\u001b[0mpreprocess\u001b[0m\u001b[0;34m)\u001b[0m\u001b[0;34m,\u001b[0m \u001b[0mload_data_csv\u001b[0m\u001b[0;34m(\u001b[0m\u001b[0;34m)\u001b[0m\u001b[0;34m\u001b[0m\u001b[0;34m\u001b[0m\u001b[0m\n\u001b[0m",
            "\u001b[0;32m<ipython-input-5-79cc19708a5c>\u001b[0m in \u001b[0;36mload_texts\u001b[0;34m(folder, preprocess)\u001b[0m\n\u001b[1;32m     23\u001b[0m             \u001b[0;32mreturn\u001b[0m \u001b[0mtext\u001b[0m\u001b[0;34m\u001b[0m\u001b[0;34m\u001b[0m\u001b[0m\n\u001b[1;32m     24\u001b[0m \u001b[0;34m\u001b[0m\u001b[0m\n\u001b[0;32m---> 25\u001b[0;31m     \u001b[0;32mreturn\u001b[0m \u001b[0mpd\u001b[0m\u001b[0;34m.\u001b[0m\u001b[0mSeries\u001b[0m\u001b[0;34m(\u001b[0m\u001b[0;34m{\u001b[0m\u001b[0mfname\u001b[0m\u001b[0;34m.\u001b[0m\u001b[0mreplace\u001b[0m\u001b[0;34m(\u001b[0m\u001b[0;34m'.txt'\u001b[0m\u001b[0;34m,\u001b[0m \u001b[0;34m''\u001b[0m\u001b[0;34m)\u001b[0m\u001b[0;34m:\u001b[0m \u001b[0mread\u001b[0m\u001b[0;34m(\u001b[0m\u001b[0mfname\u001b[0m\u001b[0;34m)\u001b[0m \u001b[0;32mfor\u001b[0m \u001b[0mfname\u001b[0m \u001b[0;32min\u001b[0m \u001b[0mtqdm\u001b[0m\u001b[0;34m(\u001b[0m\u001b[0mos\u001b[0m\u001b[0;34m.\u001b[0m\u001b[0mlistdir\u001b[0m\u001b[0;34m(\u001b[0m\u001b[0mdata_path\u001b[0m\u001b[0;34m)\u001b[0m\u001b[0;34m)\u001b[0m\u001b[0;34m}\u001b[0m\u001b[0;34m)\u001b[0m\u001b[0;34m\u001b[0m\u001b[0;34m\u001b[0m\u001b[0m\n\u001b[0m\u001b[1;32m     26\u001b[0m \u001b[0;34m\u001b[0m\u001b[0m\n\u001b[1;32m     27\u001b[0m \u001b[0;32mdef\u001b[0m \u001b[0mload_dataset\u001b[0m\u001b[0;34m(\u001b[0m\u001b[0mpreprocess\u001b[0m\u001b[0;34m:\u001b[0m \u001b[0mbool\u001b[0m \u001b[0;34m=\u001b[0m \u001b[0;32mFalse\u001b[0m\u001b[0;34m)\u001b[0m \u001b[0;34m->\u001b[0m \u001b[0mTuple\u001b[0m\u001b[0;34m[\u001b[0m\u001b[0mpd\u001b[0m\u001b[0;34m.\u001b[0m\u001b[0mSeries\u001b[0m\u001b[0;34m,\u001b[0m \u001b[0mpd\u001b[0m\u001b[0;34m.\u001b[0m\u001b[0mDataFrame\u001b[0m\u001b[0;34m]\u001b[0m\u001b[0;34m:\u001b[0m\u001b[0;34m\u001b[0m\u001b[0;34m\u001b[0m\u001b[0m\n",
            "\u001b[0;31mFileNotFoundError\u001b[0m: [Errno 2] No such file or directory: '../input/feedback-prize-2021/train'"
          ]
        }
      ],
      "source": [
        "train_texts, train_data = load_dataset(preprocess=True)"
      ]
    },
    {
      "cell_type": "code",
      "execution_count": null,
      "metadata": {
        "id": "-1ID34VRRjHU",
        "outputId": "c66a0384-1b41-4d93-f217-df0f11bdeefc"
      },
      "outputs": [
        {
          "name": "stderr",
          "output_type": "stream",
          "text": [
            "100%|██████████| 5/5 [00:00<00:00, 1669.44it/s]\n"
          ]
        }
      ],
      "source": [
        "test_texts = load_texts('test', preprocess=True)"
      ]
    },
    {
      "cell_type": "code",
      "execution_count": null,
      "metadata": {
        "id": "O-BQB_MfRjHU",
        "outputId": "beff395a-5adb-49c6-d15c-243683aaafaf"
      },
      "outputs": [
        {
          "data": {
            "text/html": [
              "<div>\n",
              "<style scoped>\n",
              "    .dataframe tbody tr th:only-of-type {\n",
              "        vertical-align: middle;\n",
              "    }\n",
              "\n",
              "    .dataframe tbody tr th {\n",
              "        vertical-align: top;\n",
              "    }\n",
              "\n",
              "    .dataframe thead th {\n",
              "        text-align: right;\n",
              "    }\n",
              "</style>\n",
              "<table border=\"1\" class=\"dataframe\">\n",
              "  <thead>\n",
              "    <tr style=\"text-align: right;\">\n",
              "      <th></th>\n",
              "      <th>id</th>\n",
              "      <th>discourse_id</th>\n",
              "      <th>discourse_start</th>\n",
              "      <th>discourse_end</th>\n",
              "      <th>discourse_text</th>\n",
              "      <th>discourse_type</th>\n",
              "      <th>discourse_type_num</th>\n",
              "      <th>predictionstring</th>\n",
              "    </tr>\n",
              "  </thead>\n",
              "  <tbody>\n",
              "    <tr>\n",
              "      <th>0</th>\n",
              "      <td>423A1CA112E2</td>\n",
              "      <td>1622627660524</td>\n",
              "      <td>8</td>\n",
              "      <td>229</td>\n",
              "      <td>Modern humans today are always on their phone....</td>\n",
              "      <td>Lead</td>\n",
              "      <td>Lead 1</td>\n",
              "      <td>1 2 3 4 5 6 7 8 9 10 11 12 13 14 15 16 17 18 1...</td>\n",
              "    </tr>\n",
              "    <tr>\n",
              "      <th>1</th>\n",
              "      <td>423A1CA112E2</td>\n",
              "      <td>1622627653021</td>\n",
              "      <td>230</td>\n",
              "      <td>312</td>\n",
              "      <td>They are some really bad consequences when stu...</td>\n",
              "      <td>Position</td>\n",
              "      <td>Position 1</td>\n",
              "      <td>45 46 47 48 49 50 51 52 53 54 55 56 57 58 59</td>\n",
              "    </tr>\n",
              "    <tr>\n",
              "      <th>2</th>\n",
              "      <td>423A1CA112E2</td>\n",
              "      <td>1622627671020</td>\n",
              "      <td>313</td>\n",
              "      <td>401</td>\n",
              "      <td>Some certain areas in the United States ban ph...</td>\n",
              "      <td>Evidence</td>\n",
              "      <td>Evidence 1</td>\n",
              "      <td>60 61 62 63 64 65 66 67 68 69 70 71 72 73 74 75</td>\n",
              "    </tr>\n",
              "    <tr>\n",
              "      <th>3</th>\n",
              "      <td>423A1CA112E2</td>\n",
              "      <td>1622627696365</td>\n",
              "      <td>402</td>\n",
              "      <td>758</td>\n",
              "      <td>When people have phones, they know about certa...</td>\n",
              "      <td>Evidence</td>\n",
              "      <td>Evidence 2</td>\n",
              "      <td>76 77 78 79 80 81 82 83 84 85 86 87 88 89 90 9...</td>\n",
              "    </tr>\n",
              "    <tr>\n",
              "      <th>4</th>\n",
              "      <td>423A1CA112E2</td>\n",
              "      <td>1622627759780</td>\n",
              "      <td>759</td>\n",
              "      <td>886</td>\n",
              "      <td>Driving is one of the way how to get around. P...</td>\n",
              "      <td>Claim</td>\n",
              "      <td>Claim 1</td>\n",
              "      <td>139 140 141 142 143 144 145 146 147 148 149 15...</td>\n",
              "    </tr>\n",
              "  </tbody>\n",
              "</table>\n",
              "</div>"
            ],
            "text/plain": [
              "             id   discourse_id  discourse_start  discourse_end  \\\n",
              "0  423A1CA112E2  1622627660524                8            229   \n",
              "1  423A1CA112E2  1622627653021              230            312   \n",
              "2  423A1CA112E2  1622627671020              313            401   \n",
              "3  423A1CA112E2  1622627696365              402            758   \n",
              "4  423A1CA112E2  1622627759780              759            886   \n",
              "\n",
              "                                      discourse_text discourse_type  \\\n",
              "0  Modern humans today are always on their phone....           Lead   \n",
              "1  They are some really bad consequences when stu...       Position   \n",
              "2  Some certain areas in the United States ban ph...       Evidence   \n",
              "3  When people have phones, they know about certa...       Evidence   \n",
              "4  Driving is one of the way how to get around. P...          Claim   \n",
              "\n",
              "  discourse_type_num                                   predictionstring  \n",
              "0             Lead 1  1 2 3 4 5 6 7 8 9 10 11 12 13 14 15 16 17 18 1...  \n",
              "1         Position 1       45 46 47 48 49 50 51 52 53 54 55 56 57 58 59  \n",
              "2         Evidence 1    60 61 62 63 64 65 66 67 68 69 70 71 72 73 74 75  \n",
              "3         Evidence 2  76 77 78 79 80 81 82 83 84 85 86 87 88 89 90 9...  \n",
              "4            Claim 1  139 140 141 142 143 144 145 146 147 148 149 15...  "
            ]
          },
          "execution_count": 64,
          "metadata": {},
          "output_type": "execute_result"
        }
      ],
      "source": [
        "train_data.head()"
      ]
    },
    {
      "cell_type": "code",
      "execution_count": null,
      "metadata": {
        "id": "AvDb_5R1RjHV"
      },
      "outputs": [],
      "source": [
        "EMBEDDING_DIM = 50\n",
        "glove_embedding = load_glove_embedding(EMBEDDING_DIM)"
      ]
    },
    {
      "cell_type": "code",
      "execution_count": null,
      "metadata": {
        "id": "TMqRxUxwRjHW"
      },
      "outputs": [],
      "source": [
        "from textblob import TextBlob\n",
        "\n",
        "def correct(texts: pd.Series) -> None:\n",
        "    texts.map(lambda text: TextBlob(text).correct())"
      ]
    },
    {
      "cell_type": "code",
      "execution_count": null,
      "metadata": {
        "id": "E9AlqYbPRjHW",
        "outputId": "c42440bd-4756-4f31-fc88-08d77ad82fc6"
      },
      "outputs": [
        {
          "name": "stdout",
          "output_type": "stream",
          "text": [
            "Train unique words : 61055\n",
            "Test unique words  : 727\n",
            "Total unique words : 61079\n"
          ]
        }
      ],
      "source": [
        "train_words = get_unique_words(train_texts)\n",
        "test_words = get_unique_words(test_texts)\n",
        "unique_words = set.union(train_words, test_words)\n",
        "\n",
        "print(f'Train unique words : {len(train_words)}')\n",
        "print(f'Test unique words  : {len(test_words)}')\n",
        "print(f'Total unique words : {len(unique_words)}')"
      ]
    },
    {
      "cell_type": "code",
      "execution_count": null,
      "metadata": {
        "id": "X6Vv-CdyRjHX"
      },
      "outputs": [],
      "source": [
        "train_words = get_unique_words(train_texts)\n",
        "test_words = get_unique_words(test_texts)\n",
        "unique_words = set.union(train_words, test_words)\n",
        "\n",
        "print(f'Train unique words : {len(train_words)}')\n",
        "print(f'Test unique words  : {len(test_words)}')\n",
        "print(f'Total unique words : {len(unique_words)}')"
      ]
    },
    {
      "cell_type": "code",
      "execution_count": null,
      "metadata": {
        "id": "P5s0V_vhRjHX",
        "outputId": "c273a6cb-06c3-4e55-dfc1-38d853ba8ed7"
      },
      "outputs": [
        {
          "name": "stdout",
          "output_type": "stream",
          "text": [
            "Before processing\n",
            "Train OOV : 35571 (58.26%)\n",
            "Test OOV  : 10  (1.38%)\n",
            "Total OOV : 35573 (58.24%)\n"
          ]
        }
      ],
      "source": [
        "glove_keys = set(glove_embedding.index_to_key)\n",
        "train_oov= set(train_words).difference(glove_keys)\n",
        "test_oov = set(test_words).difference(glove_keys)\n",
        "OOV = set(unique_words).difference(glove_keys)\n",
        "\n",
        "print('Before processing')\n",
        "print(f'Train OOV : {len(train_oov)} ({100*len(train_oov)/len(train_words):.2f}%)')\n",
        "print(f'Test OOV  : {len(test_oov)}  ({100*len(test_oov)/len(test_words):.2f}%)')\n",
        "print(f'Total OOV : {len(OOV)} ({100*len(OOV)/len(unique_words):.2f}%)')"
      ]
    },
    {
      "cell_type": "code",
      "execution_count": null,
      "metadata": {
        "id": "0FGVnWS3RjHY"
      },
      "outputs": [],
      "source": [
        "OOV = handling_OOV(unique_words, OOV, glove_embedding)"
      ]
    },
    {
      "cell_type": "code",
      "execution_count": null,
      "metadata": {
        "id": "nm4s58jERjHY",
        "outputId": "290cdd7f-b628-4ac2-9c1c-dfa0aec74eb8"
      },
      "outputs": [
        {
          "name": "stdout",
          "output_type": "stream",
          "text": [
            "Correcting numbers, typos and words separated by special characters.\n"
          ]
        },
        {
          "name": "stderr",
          "output_type": "stream",
          "text": [
            "100%|██████████| 10/10 [00:02<00:00,  4.79it/s]\n"
          ]
        },
        {
          "name": "stdout",
          "output_type": "stream",
          "text": [
            "There are 3 OOV\n",
            "Analyzing compound words\n"
          ]
        },
        {
          "name": "stderr",
          "output_type": "stream",
          "text": [
            "100%|██████████| 3/3 [00:00<00:00, 24.39it/s]\n"
          ]
        },
        {
          "name": "stdout",
          "output_type": "stream",
          "text": [
            "There are 1 OOV\n",
            "Correcting typos with Levenshtein distance up to 2\n"
          ]
        },
        {
          "name": "stderr",
          "output_type": "stream",
          "text": [
            "100%|██████████| 1/1 [00:00<00:00,  4.12it/s]"
          ]
        },
        {
          "name": "stdout",
          "output_type": "stream",
          "text": [
            "There are 0 OOV\n"
          ]
        },
        {
          "name": "stderr",
          "output_type": "stream",
          "text": [
            "\n"
          ]
        }
      ],
      "source": [
        "test_oov = handling_OOV(test_words, test_oov, glove_embedding)"
      ]
    },
    {
      "cell_type": "code",
      "execution_count": null,
      "metadata": {
        "id": "Ow3ef21jRjHZ",
        "outputId": "2374b518-9a0e-448c-b07f-c867251e0758"
      },
      "outputs": [
        {
          "name": "stdout",
          "output_type": "stream",
          "text": [
            "After processing\n",
            "Train OOV : 35563 (58.25%)\n",
            "Test OOV  : 0  (0.00%)\n",
            "Total OOV : 35563 (58.22%)\n"
          ]
        }
      ],
      "source": [
        "glove_keys = set(glove_embedding.index_to_key)\n",
        "train_oov= set(train_words).difference(glove_keys)\n",
        "test_oov = set(test_words).difference(glove_keys)\n",
        "OOV = set(unique_words).difference(glove_keys)\n",
        "\n",
        "print('After processing')\n",
        "print(f'Train OOV : {len(train_oov)} ({100*len(train_oov)/len(train_words):.2f}%)')\n",
        "print(f'Test OOV  : {len(test_oov)}  ({100*len(test_oov)/len(test_words):.2f}%)')\n",
        "print(f'Total OOV : {len(OOV)} ({100*len(OOV)/len(unique_words):.2f}%)')"
      ]
    },
    {
      "cell_type": "code",
      "execution_count": null,
      "metadata": {
        "id": "7NwrUbjBRjHZ",
        "outputId": "5a35a295-5d05-44df-bed0-a4d5b4f4d1a0"
      },
      "outputs": [
        {
          "data": {
            "text/plain": [
              "<AxesSubplot:>"
            ]
          },
          "execution_count": 78,
          "metadata": {},
          "output_type": "execute_result"
        },
        {
          "data": {
            "image/png": "[encoded data removed]",
            "text/plain": [
              "<Figure size 432x288 with 1 Axes>"
            ]
          },
          "metadata": {},
          "output_type": "display_data"
        }
      ],
      "source": [
        "txt_len = train_texts.map(lambda x: len(x.split()))\n",
        "txt_len.hist(bins=100)"
      ]
    },
    {
      "cell_type": "code",
      "execution_count": null,
      "metadata": {
        "id": "DT1zlIw0RjHZ",
        "outputId": "563f97b5-78f9-49bd-a84a-76027fb03918"
      },
      "outputs": [
        {
          "data": {
            "text/plain": [
              "<AxesSubplot:>"
            ]
          },
          "execution_count": 79,
          "metadata": {},
          "output_type": "execute_result"
        },
        {
          "data": {
            "image/png": "[encoded data removed]",
            "text/plain": [
              "<Figure size 432x288 with 1 Axes>"
            ]
          },
          "metadata": {},
          "output_type": "display_data"
        }
      ],
      "source": [
        "txt_len = test_texts.map(lambda x: len(x.split()))\n",
        "txt_len.hist(bins=100)"
      ]
    },
    {
      "cell_type": "code",
      "execution_count": null,
      "metadata": {
        "id": "PwEki6g9RjHa",
        "outputId": "a61e0592-c865-4cbb-ad77-e64c88d97aaf"
      },
      "outputs": [
        {
          "data": {
            "image/png": "[encoded data removed]",
            "text/plain": [
              "<Figure size 1080x360 with 1 Axes>"
            ]
          },
          "metadata": {},
          "output_type": "display_data"
        }
      ],
      "source": [
        "# Most annotation used:\n",
        "\n",
        "ax = (\n",
        "    train_data.groupby(by='discourse_type')[['id']]\n",
        "    .count()\n",
        "    .sort_values('id')\n",
        "    .plot(kind=\"barh\", figsize=(15, 5))\n",
        ")\n",
        "ax.set_title(\"Discourse Label Frequency (in train)\", fontsize=16)\n",
        "ax.bar_label(ax.containers[0], label_type=\"edge\")\n",
        "plt.show()"
      ]
    },
    {
      "cell_type": "code",
      "execution_count": null,
      "metadata": {
        "id": "eMP7SBlDRjHb",
        "outputId": "4f572bd3-5d60-4e94-dfd2-ae81153e631f"
      },
      "outputs": [
        {
          "data": {
            "image/png": "[encoded data removed]",
            "text/plain": [
              "<Figure size 1080x504 with 1 Axes>"
            ]
          },
          "metadata": {},
          "output_type": "display_data"
        }
      ],
      "source": [
        "ax = (\n",
        "    train_data.groupby(\"discourse_type\")[[\"discourse_start\", \"discourse_end\"]]\n",
        "    .mean()\n",
        "    .sort_values(\"discourse_start\")\n",
        "    .plot(kind=\"barh\", figsize=(15, 7))\n",
        ")\n",
        "ax.set_title(\"Average Discourse Start and End\", fontsize=24)\n",
        "plt.show()"
      ]
    },
    {
      "cell_type": "code",
      "execution_count": null,
      "metadata": {
        "id": "nZMyNbX1RjHb",
        "outputId": "2d068dc0-766f-4651-f91c-b32a9da60dc9"
      },
      "outputs": [
        {
          "data": {
            "image/png": "[encoded data removed]",
            "text/plain": [
              "<Figure size 1080x360 with 1 Axes>"
            ]
          },
          "metadata": {},
          "output_type": "display_data"
        }
      ],
      "source": [
        "# The length of each label\n",
        "tmp = train_data.copy()\n",
        "tmp['discourse_len'] = (tmp['discourse_end'] - tmp['discourse_start']).astype('int')\n",
        "\n",
        "fig, ax = plt.subplots(figsize=(15, 5))\n",
        "sns.barplot(x='discourse_type', y='discourse_len', data=tmp)\n",
        "ax.set_title('The Average Length of each Discourse')\n",
        "ax.set_xlabel('Discourse Type')\n",
        "ax.set_ylabel('Average Text Length')\n",
        "plt.show()"
      ]
    },
    {
      "cell_type": "code",
      "execution_count": null,
      "metadata": {
        "id": "kqWIel4gRjHb",
        "outputId": "1e3ffe09-735d-4fe9-bbe5-2a82ebe22592"
      },
      "outputs": [
        {
          "data": {
            "text/html": [
              "<div>\n",
              "<style scoped>\n",
              "    .dataframe tbody tr th:only-of-type {\n",
              "        vertical-align: middle;\n",
              "    }\n",
              "\n",
              "    .dataframe tbody tr th {\n",
              "        vertical-align: top;\n",
              "    }\n",
              "\n",
              "    .dataframe thead th {\n",
              "        text-align: right;\n",
              "    }\n",
              "</style>\n",
              "<table border=\"1\" class=\"dataframe\">\n",
              "  <thead>\n",
              "    <tr style=\"text-align: right;\">\n",
              "      <th></th>\n",
              "      <th>id</th>\n",
              "      <th>largest_gap</th>\n",
              "    </tr>\n",
              "  </thead>\n",
              "  <tbody>\n",
              "    <tr>\n",
              "      <th>0</th>\n",
              "      <td>0000D23A521A</td>\n",
              "      <td>0</td>\n",
              "    </tr>\n",
              "    <tr>\n",
              "      <th>1</th>\n",
              "      <td>7BE3B580C5DB</td>\n",
              "      <td>0</td>\n",
              "    </tr>\n",
              "    <tr>\n",
              "      <th>2</th>\n",
              "      <td>7BC12E549AF3</td>\n",
              "      <td>0</td>\n",
              "    </tr>\n",
              "    <tr>\n",
              "      <th>3</th>\n",
              "      <td>7BB808935B65</td>\n",
              "      <td>0</td>\n",
              "    </tr>\n",
              "    <tr>\n",
              "      <th>4</th>\n",
              "      <td>7BA662FCD635</td>\n",
              "      <td>0</td>\n",
              "    </tr>\n",
              "  </tbody>\n",
              "</table>\n",
              "</div>"
            ],
            "text/plain": [
              "             id  largest_gap\n",
              "0  0000D23A521A            0\n",
              "1  7BE3B580C5DB            0\n",
              "2  7BC12E549AF3            0\n",
              "3  7BB808935B65            0\n",
              "4  7BA662FCD635            0"
            ]
          },
          "execution_count": 12,
          "metadata": {},
          "output_type": "execute_result"
        }
      ],
      "source": [
        "largest_gap = []\n",
        "\n",
        "for group_id, group in train_data.groupby(by='id'):\n",
        "    end = -1\n",
        "    largest = 0\n",
        "    for _, row in group.iterrows():\n",
        "        init = row.discourse_start\n",
        "        diff = init - end - 1\n",
        "        largest = max(largest, diff)\n",
        "        end = row.discourse_end\n",
        "    largest_gap.append({'id': group_id, 'largest_gap': largest})\n",
        "gaps = pd.DataFrame(largest_gap).sort_values(by='largest_gap').reset_index(drop=True)\n",
        "gaps.head()"
      ]
    },
    {
      "cell_type": "code",
      "execution_count": null,
      "metadata": {
        "id": "nYp8gDSnRjHc",
        "outputId": "3cb1d9ff-55fe-443c-9160-40dd63d9dc0f"
      },
      "outputs": [
        {
          "data": {
            "image/png": "[encoded data removed]",
            "text/plain": [
              "<Figure size 720x540 with 1 Axes>"
            ]
          },
          "metadata": {},
          "output_type": "display_data"
        },
        {
          "data": {
            "text/html": [
              "<div>\n",
              "<style scoped>\n",
              "    .dataframe tbody tr th:only-of-type {\n",
              "        vertical-align: middle;\n",
              "    }\n",
              "\n",
              "    .dataframe tbody tr th {\n",
              "        vertical-align: top;\n",
              "    }\n",
              "\n",
              "    .dataframe thead th {\n",
              "        text-align: right;\n",
              "    }\n",
              "</style>\n",
              "<table border=\"1\" class=\"dataframe\">\n",
              "  <thead>\n",
              "    <tr style=\"text-align: right;\">\n",
              "      <th></th>\n",
              "      <th>largest_gap</th>\n",
              "    </tr>\n",
              "  </thead>\n",
              "  <tbody>\n",
              "    <tr>\n",
              "      <th>count</th>\n",
              "      <td>11194.000000</td>\n",
              "    </tr>\n",
              "    <tr>\n",
              "      <th>mean</th>\n",
              "      <td>83.413793</td>\n",
              "    </tr>\n",
              "    <tr>\n",
              "      <th>std</th>\n",
              "      <td>145.294047</td>\n",
              "    </tr>\n",
              "    <tr>\n",
              "      <th>min</th>\n",
              "      <td>1.000000</td>\n",
              "    </tr>\n",
              "    <tr>\n",
              "      <th>25%</th>\n",
              "      <td>15.000000</td>\n",
              "    </tr>\n",
              "    <tr>\n",
              "      <th>50%</th>\n",
              "      <td>28.000000</td>\n",
              "    </tr>\n",
              "    <tr>\n",
              "      <th>75%</th>\n",
              "      <td>101.000000</td>\n",
              "    </tr>\n",
              "    <tr>\n",
              "      <th>max</th>\n",
              "      <td>2246.000000</td>\n",
              "    </tr>\n",
              "  </tbody>\n",
              "</table>\n",
              "</div>"
            ],
            "text/plain": [
              "        largest_gap\n",
              "count  11194.000000\n",
              "mean      83.413793\n",
              "std      145.294047\n",
              "min        1.000000\n",
              "25%       15.000000\n",
              "50%       28.000000\n",
              "75%      101.000000\n",
              "max     2246.000000"
            ]
          },
          "execution_count": 11,
          "metadata": {},
          "output_type": "execute_result"
        }
      ],
      "source": [
        "non_zero_gaps = gaps[gaps['largest_gap'] != 0]\n",
        "ax = (non_zero_gaps['largest_gap'].apply(lambda x: np.log10(x + 1)).hist(bins=30, figsize=(10, 7.5)))\n",
        "ax.set_title('Distribution of maixmum length of unlabelled parts')\n",
        "plt.show()\n",
        "non_zero_gaps.describe()"
      ]
    },
    {
      "cell_type": "code",
      "execution_count": null,
      "metadata": {
        "id": "ibBUSh7kRjHc",
        "outputId": "dfda0185-ccfc-408e-d727-490ed3cf82b8"
      },
      "outputs": [
        {
          "data": {
            "text/html": [
              "<span class=\"tex2jax_ignore\"><h2 style=\"margin: 0\">F4A4E65ADD95</h2>\n",
              "\n",
              "<div class=\"entities\" style=\"line-height: 2.5; direction: ltr\">\n",
              "<mark class=\"entity\" style=\"background: #8000ff; padding: 0.45em 0.6em; margin: 0 0.25em; line-height: 1; border-radius: 0.35em;\">\n",
              "    Other people can be a helpful source of information when you need advice. They might have a different opinion on a certain subject, or have prior experience. If you were looking to buy a car you would ask people you know who have bought cars and see what kind of car that they recommend.\n",
              "    <span style=\"font-size: 0.8em; font-weight: bold; line-height: 1; border-radius: 0.35em; vertical-align: middle; margin-left: 0.5rem\">Lead</span>\n",
              "</mark>\n",
              " \n",
              "<mark class=\"entity\" style=\"background: #2b7ff6; padding: 0.45em 0.6em; margin: 0 0.25em; line-height: 1; border-radius: 0.35em;\">\n",
              "    You would be a lot more confident in the car that you chose if it wasÂ recommended to you by multiple people\n",
              "    <span style=\"font-size: 0.8em; font-weight: bold; line-height: 1; border-radius: 0.35em; vertical-align: middle; margin-left: 0.5rem\">Position</span>\n",
              "</mark>\n",
              ".\n",
              "<mark class=\"entity\" style=\"background: #80ffb4; padding: 0.45em 0.6em; margin: 0 0.25em; line-height: 1; border-radius: 0.35em;\">\n",
              "     Confiding in multiple different people when looking for advice will allow you to learn from the experiences of multiple other peopl\n",
              "    <span style=\"font-size: 0.8em; font-weight: bold; line-height: 1; border-radius: 0.35em; vertical-align: middle; margin-left: 0.5rem\">Claim</span>\n",
              "</mark>\n",
              "e\n",
              "<mark class=\"entity\" style=\"background: #80ffb4; padding: 0.45em 0.6em; margin: 0 0.25em; line-height: 1; border-radius: 0.35em;\">\n",
              "    , listen to multiple different ideas/opinions,\n",
              "    <span style=\"font-size: 0.8em; font-weight: bold; line-height: 1; border-radius: 0.35em; vertical-align: middle; margin-left: 0.5rem\">Claim</span>\n",
              "</mark>\n",
              " an\n",
              "<mark class=\"entity\" style=\"background: #80ffb4; padding: 0.45em 0.6em; margin: 0 0.25em; line-height: 1; border-radius: 0.35em;\">\n",
              "    d get a more detailed response.\n",
              "    <span style=\"font-size: 0.8em; font-weight: bold; line-height: 1; border-radius: 0.35em; vertical-align: middle; margin-left: 0.5rem\">Claim</span>\n",
              "</mark>\n",
              "</br>\n",
              "<mark class=\"entity\" style=\"background: #80ffb4; padding: 0.45em 0.6em; margin: 0 0.25em; line-height: 1; border-radius: 0.35em;\">\n",
              "    \n",
              "The experiences of other people are a valuable tool if you need advice on something.\n",
              "    <span style=\"font-size: 0.8em; font-weight: bold; line-height: 1; border-radius: 0.35em; vertical-align: middle; margin-left: 0.5rem\">Claim</span>\n",
              "</mark>\n",
              "\n",
              "<mark class=\"entity\" style=\"background: #2adddd; padding: 0.45em 0.6em; margin: 0 0.25em; line-height: 1; border-radius: 0.35em;\">\n",
              "     Asking people about their experiences will give you some foresightÂ into how something might be affected by what you do. Furthermore, asking multiple people about their experiences will give you an even more reliable source of advice. The information that you receive after talking to people could change the way you viewÂ somethingÂ and affect what you will do. The experiences of other people can help you make decisions and change the way that you view thi\n",
              "    <span style=\"font-size: 0.8em; font-weight: bold; line-height: 1; border-radius: 0.35em; vertical-align: middle; margin-left: 0.5rem\">Evidence</span>\n",
              "</mark>\n",
              "n\n",
              "<mark class=\"entity\" style=\"background: #2adddd; padding: 0.45em 0.6em; margin: 0 0.25em; line-height: 1; border-radius: 0.35em;\">\n",
              "    gs.\n",
              "\n",
              "If you were planning a vacation and you couldn't decide where to go, you might ask for the opinions of people such as you family members or people who have traveled the world and might know a good place to go on vacation. You might never have been to Hawaii, but someone you know has, and they tell you that Hawaii is a great place to go on vacation. After asking around, you get lots of recommendations to go to Hawaii, and people give you lots of ideas on things that you could do while your there. You feel much more confident in your decision to go to Hawaii than you would have been had you not gotten so many recommendations to go th\n",
              "    <span style=\"font-size: 0.8em; font-weight: bold; line-height: 1; border-radius: 0.35em; vertical-align: middle; margin-left: 0.5rem\">Evidence</span>\n",
              "</mark>\n",
              "e\n",
              "<mark class=\"entity\" style=\"background: #80ffb4; padding: 0.45em 0.6em; margin: 0 0.25em; line-height: 1; border-radius: 0.35em;\">\n",
              "    re. The ideas and opinions of other can be a very helpful tool when you need to decide on somethi\n",
              "    <span style=\"font-size: 0.8em; font-weight: bold; line-height: 1; border-radius: 0.35em; vertical-align: middle; margin-left: 0.5rem\">Claim</span>\n",
              "</mark>\n",
              "n\n",
              "<mark class=\"entity\" style=\"background: #80ffb4; padding: 0.45em 0.6em; margin: 0 0.25em; line-height: 1; border-radius: 0.35em;\">\n",
              "    g.\n",
              "\n",
              "You can get a much more detailed response if you ask multiple people for their advi\n",
              "    <span style=\"font-size: 0.8em; font-weight: bold; line-height: 1; border-radius: 0.35em; vertical-align: middle; margin-left: 0.5rem\">Claim</span>\n",
              "</mark>\n",
              "\n",
              "<mark class=\"entity\" style=\"background: #2adddd; padding: 0.45em 0.6em; margin: 0 0.25em; line-height: 1; border-radius: 0.35em;\">\n",
              "    ce. If you were to ask for one person's advice on something, you wouldn't get very much information. Instead, you could ask multiple people and get lots of different information. This information will help you to decide on a course of action. Asking multiple people for their advice can help you get a more detailed response, and help you know what to \n",
              "    <span style=\"font-size: 0.8em; font-weight: bold; line-height: 1; border-radius: 0.35em; vertical-align: middle; margin-left: 0.5rem\">Evidence</span>\n",
              "</mark>\n",
              "d\n",
              "<mark class=\"entity\" style=\"background: d4dd80; padding: 0.45em 0.6em; margin: 0 0.25em; line-height: 1; border-radius: 0.35em;\">\n",
              "    o.\n",
              "\n",
              "People are a valuable source of advice when you need to decide on something. The people around you may have prior experience or opinions that can help you with whatever it is that you need help with. You could ask random people at a bus stop if they know a good car to buy, or if they know one youÂ shouldn't buy. Their opinions could help you decide on the right car to buy, and make you feel good about what you chose. Asking multiple different people for their advice will show you the experiences of multiple other people, show you different ideas/opinions, and give you a more detailed resp\n",
              "    <span style=\"font-size: 0.8em; font-weight: bold; line-height: 1; border-radius: 0.35em; vertical-align: middle; margin-left: 0.5rem\">Concluding Statement</span>\n",
              "</mark>\n",
              "onse.</div></span>"
            ],
            "text/plain": [
              "<IPython.core.display.HTML object>"
            ]
          },
          "metadata": {},
          "output_type": "display_data"
        }
      ],
      "source": [
        "max_gap_id = gaps[gaps.largest_gap == 2].reset_index()['id'][15]\n",
        "highlight_segments(max_gap_id, train_texts, train_data)"
      ]
    },
    {
      "cell_type": "markdown",
      "source": [
        "#**Useless code, just for some test**"
      ],
      "metadata": {
        "id": "2BF89Cvju1xB"
      }
    },
    {
      "cell_type": "code",
      "execution_count": null,
      "metadata": {
        "id": "nBUPogSIRjHc",
        "outputId": "92f776f0-672d-4ea1-dc00-337ac75b5886"
      },
      "outputs": [
        {
          "data": {
            "text/html": [
              "<div>\n",
              "<style scoped>\n",
              "    .dataframe tbody tr th:only-of-type {\n",
              "        vertical-align: middle;\n",
              "    }\n",
              "\n",
              "    .dataframe tbody tr th {\n",
              "        vertical-align: top;\n",
              "    }\n",
              "\n",
              "    .dataframe thead th {\n",
              "        text-align: right;\n",
              "    }\n",
              "</style>\n",
              "<table border=\"1\" class=\"dataframe\">\n",
              "  <thead>\n",
              "    <tr style=\"text-align: right;\">\n",
              "      <th></th>\n",
              "      <th>id</th>\n",
              "      <th>discourse_id</th>\n",
              "      <th>discourse_start</th>\n",
              "      <th>discourse_end</th>\n",
              "      <th>discourse_text</th>\n",
              "      <th>discourse_type</th>\n",
              "      <th>discourse_type_num</th>\n",
              "      <th>predictionstring</th>\n",
              "    </tr>\n",
              "  </thead>\n",
              "  <tbody>\n",
              "    <tr>\n",
              "      <th>134826</th>\n",
              "      <td>F4A4E65ADD95</td>\n",
              "      <td>1618271320788</td>\n",
              "      <td>0</td>\n",
              "      <td>287</td>\n",
              "      <td>Other people can be a helpful source of inform...</td>\n",
              "      <td>Lead</td>\n",
              "      <td>Lead 1</td>\n",
              "      <td>0 1 2 3 4 5 6 7 8 9 10 11 12 13 14 15 16 17 18...</td>\n",
              "    </tr>\n",
              "    <tr>\n",
              "      <th>134827</th>\n",
              "      <td>F4A4E65ADD95</td>\n",
              "      <td>1618271316656</td>\n",
              "      <td>288</td>\n",
              "      <td>396</td>\n",
              "      <td>You would be a lot more confident in the car t...</td>\n",
              "      <td>Position</td>\n",
              "      <td>Position 1</td>\n",
              "      <td>54 55 56 57 58 59 60 61 62 63 64 65 66 67 68 6...</td>\n",
              "    </tr>\n",
              "    <tr>\n",
              "      <th>134828</th>\n",
              "      <td>F4A4E65ADD95</td>\n",
              "      <td>1618271327288</td>\n",
              "      <td>397</td>\n",
              "      <td>529</td>\n",
              "      <td>Confiding in multiple different people when lo...</td>\n",
              "      <td>Claim</td>\n",
              "      <td>Claim 1</td>\n",
              "      <td>76 77 78 79 80 81 82 83 84 85 86 87 88 89 90 9...</td>\n",
              "    </tr>\n",
              "    <tr>\n",
              "      <th>134829</th>\n",
              "      <td>F4A4E65ADD95</td>\n",
              "      <td>1618271332879</td>\n",
              "      <td>530</td>\n",
              "      <td>576</td>\n",
              "      <td>listen to multiple different ideas/opinions,</td>\n",
              "      <td>Claim</td>\n",
              "      <td>Claim 2</td>\n",
              "      <td>97 98 99 100 101</td>\n",
              "    </tr>\n",
              "    <tr>\n",
              "      <th>134830</th>\n",
              "      <td>F4A4E65ADD95</td>\n",
              "      <td>1618271337647</td>\n",
              "      <td>579</td>\n",
              "      <td>610</td>\n",
              "      <td>get a more detailed response.</td>\n",
              "      <td>Claim</td>\n",
              "      <td>Claim 3</td>\n",
              "      <td>103 104 105 106 107</td>\n",
              "    </tr>\n",
              "    <tr>\n",
              "      <th>134831</th>\n",
              "      <td>F4A4E65ADD95</td>\n",
              "      <td>1618271342048</td>\n",
              "      <td>611</td>\n",
              "      <td>696</td>\n",
              "      <td>The experiences of other people are a valuable...</td>\n",
              "      <td>Claim</td>\n",
              "      <td>Claim 4</td>\n",
              "      <td>108 109 110 111 112 113 114 115 116 117 118 11...</td>\n",
              "    </tr>\n",
              "    <tr>\n",
              "      <th>134832</th>\n",
              "      <td>F4A4E65ADD95</td>\n",
              "      <td>1618271349728</td>\n",
              "      <td>696</td>\n",
              "      <td>1156</td>\n",
              "      <td>Asking people about their experiences will giv...</td>\n",
              "      <td>Evidence</td>\n",
              "      <td>Evidence 1</td>\n",
              "      <td>123 124 125 126 127 128 129 130 131 132 133 13...</td>\n",
              "    </tr>\n",
              "    <tr>\n",
              "      <th>134833</th>\n",
              "      <td>F4A4E65ADD95</td>\n",
              "      <td>1618271377462</td>\n",
              "      <td>1157</td>\n",
              "      <td>1801</td>\n",
              "      <td>\\nIf you were planning a vacation and you coul...</td>\n",
              "      <td>Evidence</td>\n",
              "      <td>Evidence 2</td>\n",
              "      <td>200 201 202 203 204 205 206 207 208 209 210 21...</td>\n",
              "    </tr>\n",
              "    <tr>\n",
              "      <th>134834</th>\n",
              "      <td>F4A4E65ADD95</td>\n",
              "      <td>1618271363994</td>\n",
              "      <td>1802</td>\n",
              "      <td>1899</td>\n",
              "      <td>The ideas and opinions of other can be a very ...</td>\n",
              "      <td>Claim</td>\n",
              "      <td>Claim 5</td>\n",
              "      <td>324 325 326 327 328 329 330 331 332 333 334 33...</td>\n",
              "    </tr>\n",
              "    <tr>\n",
              "      <th>134835</th>\n",
              "      <td>F4A4E65ADD95</td>\n",
              "      <td>1618271398384</td>\n",
              "      <td>1900</td>\n",
              "      <td>1987</td>\n",
              "      <td>You can get a much more detailed response if y...</td>\n",
              "      <td>Claim</td>\n",
              "      <td>Claim 6</td>\n",
              "      <td>343 344 345 346 347 348 349 350 351 352 353 35...</td>\n",
              "    </tr>\n",
              "    <tr>\n",
              "      <th>134836</th>\n",
              "      <td>F4A4E65ADD95</td>\n",
              "      <td>1618271404565</td>\n",
              "      <td>1987</td>\n",
              "      <td>2339</td>\n",
              "      <td>If you were to ask for one person's advice on ...</td>\n",
              "      <td>Evidence</td>\n",
              "      <td>Evidence 3</td>\n",
              "      <td>359 360 361 362 363 364 365 366 367 368 369 37...</td>\n",
              "    </tr>\n",
              "    <tr>\n",
              "      <th>134837</th>\n",
              "      <td>F4A4E65ADD95</td>\n",
              "      <td>1618271412865</td>\n",
              "      <td>2340</td>\n",
              "      <td>2939</td>\n",
              "      <td>People are a valuable source of advice when yo...</td>\n",
              "      <td>Concluding Statement</td>\n",
              "      <td>Concluding Statement 1</td>\n",
              "      <td>421 422 423 424 425 426 427 428 429 430 431 43...</td>\n",
              "    </tr>\n",
              "  </tbody>\n",
              "</table>\n",
              "</div>"
            ],
            "text/plain": [
              "                  id   discourse_id  discourse_start  discourse_end  \\\n",
              "134826  F4A4E65ADD95  1618271320788                0            287   \n",
              "134827  F4A4E65ADD95  1618271316656              288            396   \n",
              "134828  F4A4E65ADD95  1618271327288              397            529   \n",
              "134829  F4A4E65ADD95  1618271332879              530            576   \n",
              "134830  F4A4E65ADD95  1618271337647              579            610   \n",
              "134831  F4A4E65ADD95  1618271342048              611            696   \n",
              "134832  F4A4E65ADD95  1618271349728              696           1156   \n",
              "134833  F4A4E65ADD95  1618271377462             1157           1801   \n",
              "134834  F4A4E65ADD95  1618271363994             1802           1899   \n",
              "134835  F4A4E65ADD95  1618271398384             1900           1987   \n",
              "134836  F4A4E65ADD95  1618271404565             1987           2339   \n",
              "134837  F4A4E65ADD95  1618271412865             2340           2939   \n",
              "\n",
              "                                           discourse_text  \\\n",
              "134826  Other people can be a helpful source of inform...   \n",
              "134827  You would be a lot more confident in the car t...   \n",
              "134828  Confiding in multiple different people when lo...   \n",
              "134829      listen to multiple different ideas/opinions,    \n",
              "134830                     get a more detailed response.    \n",
              "134831  The experiences of other people are a valuable...   \n",
              "134832  Asking people about their experiences will giv...   \n",
              "134833  \\nIf you were planning a vacation and you coul...   \n",
              "134834  The ideas and opinions of other can be a very ...   \n",
              "134835  You can get a much more detailed response if y...   \n",
              "134836  If you were to ask for one person's advice on ...   \n",
              "134837  People are a valuable source of advice when yo...   \n",
              "\n",
              "              discourse_type      discourse_type_num  \\\n",
              "134826                  Lead                  Lead 1   \n",
              "134827              Position              Position 1   \n",
              "134828                 Claim                 Claim 1   \n",
              "134829                 Claim                 Claim 2   \n",
              "134830                 Claim                 Claim 3   \n",
              "134831                 Claim                 Claim 4   \n",
              "134832              Evidence              Evidence 1   \n",
              "134833              Evidence              Evidence 2   \n",
              "134834                 Claim                 Claim 5   \n",
              "134835                 Claim                 Claim 6   \n",
              "134836              Evidence              Evidence 3   \n",
              "134837  Concluding Statement  Concluding Statement 1   \n",
              "\n",
              "                                         predictionstring  \n",
              "134826  0 1 2 3 4 5 6 7 8 9 10 11 12 13 14 15 16 17 18...  \n",
              "134827  54 55 56 57 58 59 60 61 62 63 64 65 66 67 68 6...  \n",
              "134828  76 77 78 79 80 81 82 83 84 85 86 87 88 89 90 9...  \n",
              "134829                                   97 98 99 100 101  \n",
              "134830                                103 104 105 106 107  \n",
              "134831  108 109 110 111 112 113 114 115 116 117 118 11...  \n",
              "134832  123 124 125 126 127 128 129 130 131 132 133 13...  \n",
              "134833  200 201 202 203 204 205 206 207 208 209 210 21...  \n",
              "134834  324 325 326 327 328 329 330 331 332 333 334 33...  \n",
              "134835  343 344 345 346 347 348 349 350 351 352 353 35...  \n",
              "134836  359 360 361 362 363 364 365 366 367 368 369 37...  \n",
              "134837  421 422 423 424 425 426 427 428 429 430 431 43...  "
            ]
          },
          "execution_count": 24,
          "metadata": {},
          "output_type": "execute_result"
        }
      ],
      "source": [
        "train_data[train_data['id'] == 'F4A4E65ADD95']"
      ]
    },
    {
      "cell_type": "code",
      "execution_count": null,
      "metadata": {
        "id": "k_bs0Pl7RjHd"
      },
      "outputs": [],
      "source": [
        "# Test phase\n",
        "\n",
        "train_data = pd.read_csv('train.csv')\n",
        "train_data.head()\n"
      ]
    },
    {
      "cell_type": "code",
      "source": [
        "with open('F4A4E65ADD95.txt') as f:\n",
        "  text = f.read()\n",
        "\n",
        "print(text)"
      ],
      "metadata": {
        "colab": {
          "base_uri": "https://localhost:8080/"
        },
        "id": "HzXukL6-k_D4",
        "outputId": "d83b4c45-3555-49b2-c67e-2880c9d52a08"
      },
      "execution_count": null,
      "outputs": [
        {
          "output_type": "stream",
          "name": "stdout",
          "text": [
            "Other people can be a helpful source of information when you need advice. They might have a different opinion on a certain subject, or have prior experience. If you were looking to buy a car you would ask people you know who have bought cars and see what kind of car that they recommend. You would be a lot more confident in the car that you chose if it was recommended to you by multiple people. Confiding in multiple different people when looking for advice will allow you to learn from the experiences of multiple other people, listen to multiple different ideas/opinions, and get a more detailed response.\n",
            "\n",
            "The experiences of other people are a valuable tool if you need advice on something. Asking people about their experiences will give you some foresight into how something might be affected by what you do. Furthermore, asking multiple people about their experiences will give you an even more reliable source of advice. The information that you receive after talking to people could change the way you view something and affect what you will do. The experiences of other people can help you make decisions and change the way that you view things.\n",
            "\n",
            "If you were planning a vacation and you couldn't decide where to go, you might ask for the opinions of people such as you family members or people who have traveled the world and might know a good place to go on vacation. You might never have been to Hawaii, but someone you know has, and they tell you that Hawaii is a great place to go on vacation. After asking around, you get lots of recommendations to go to Hawaii, and people give you lots of ideas on things that you could do while your there. You feel much more confident in your decision to go to Hawaii than you would have been had you not gotten so many recommendations to go there. The ideas and opinions of other can be a very helpful tool when you need to decide on something.\n",
            "\n",
            "You can get a much more detailed response if you ask multiple people for their advice. If you were to ask for one person's advice on something, you wouldn't get very much information. Instead, you could ask multiple people and get lots of different information. This information will help you to decide on a course of action. Asking multiple people for their advice can help you get a more detailed response, and help you know what to do.\n",
            "\n",
            "People are a valuable source of advice when you need to decide on something. The people around you may have prior experience or opinions that can help you with whatever it is that you need help with. You could ask random people at a bus stop if they know a good car to buy, or if they know one you shouldn't buy. Their opinions could help you decide on the right car to buy, and make you feel good about what you chose. Asking multiple different people for their advice will show you the experiences of multiple other people, show you different ideas/opinions, and give you a more detailed response.\n"
          ]
        }
      ]
    },
    {
      "cell_type": "code",
      "source": [
        "data1 = train_data[train_data['id'] =='F4A4E65ADD95']\n",
        "data1.head(12)\n"
      ],
      "metadata": {
        "id": "SN2np2Bwfc54"
      },
      "execution_count": null,
      "outputs": []
    },
    {
      "cell_type": "code",
      "source": [
        "dict_color = {\n",
        "    'Position' : '\\033[31m', # Red\n",
        "    'Lead' : '\\033[32m',\n",
        "    'Concluding Statement' : '\\033[33m', # Yellow\n",
        "    'Evidence' : '\\033[34m', # Blue\n",
        "    'Claim' : '\\033[35m',\n",
        "    'Counterclaim' : '\\033[36m',\n",
        "    'Rebuttal' : '\\033[95m',\n",
        "    'bold' : '\\033[1m',\n",
        "    'end' : '\\033[0m',\n",
        "\n",
        "    }\n"
      ],
      "metadata": {
        "id": "1UzhW2RUo_Yq"
      },
      "execution_count": null,
      "outputs": []
    },
    {
      "cell_type": "code",
      "source": [
        "for i in range(data1.shape[0]):\n",
        "  prop_start = int(data1.iloc[i]['discourse_start'])\n",
        "  prop_end = int(data1.iloc[i]['discourse_end'])\n",
        "  prop = text[prop_start : prop_end]\n",
        "  label = data1.iloc[i]['discourse_type']\n",
        "  print(dict_color[label] + prop + '[' + label + ']')\n",
        "  print('\\n')\n",
        " "
      ],
      "metadata": {
        "colab": {
          "base_uri": "https://localhost:8080/"
        },
        "id": "WkYUhr5uiBaZ",
        "outputId": "02b9b3c6-2f9a-4b09-d88c-96cf228be948"
      },
      "execution_count": null,
      "outputs": [
        {
          "output_type": "stream",
          "name": "stdout",
          "text": [
            "\u001b[32mOther people can be a helpful source of information when you need advice. They might have a different opinion on a certain subject, or have prior experience. If you were looking to buy a car you would ask people you know who have bought cars and see what kind of car that they recommend.[Lead]\n",
            "\n",
            "\n",
            "\u001b[31mYou would be a lot more confident in the car that you chose if it was recommended to you by multiple people.[Position]\n",
            "\n",
            "\n",
            "\u001b[35mConfiding in multiple different people when looking for advice will allow you to learn from the experiences of multiple other people[Claim]\n",
            "\n",
            "\n",
            "\u001b[35m listen to multiple different ideas/opinions, [Claim]\n",
            "\n",
            "\n",
            "\u001b[35m get a more detailed response.\n",
            "[Claim]\n",
            "\n",
            "\n",
            "\u001b[35mThe experiences of other people are a valuable tool if you need advice on something. [Claim]\n",
            "\n",
            "\n",
            "\u001b[34mAsking people about their experiences will give you some foresight into how something might be affected by what you do. Furthermore, asking multiple people about their experiences will give you an even more reliable source of advice. The information that you receive after talking to people could change the way you view something and affect what you will do. The experiences of other people can help you make decisions and change the way that you view things.[Evidence]\n",
            "\n",
            "\n",
            "\u001b[34m\n",
            "If you were planning a vacation and you couldn't decide where to go, you might ask for the opinions of people such as you family members or people who have traveled the world and might know a good place to go on vacation. You might never have been to Hawaii, but someone you know has, and they tell you that Hawaii is a great place to go on vacation. After asking around, you get lots of recommendations to go to Hawaii, and people give you lots of ideas on things that you could do while your there. You feel much more confident in your decision to go to Hawaii than you would have been had you not gotten so many recommendations to go there.[Evidence]\n",
            "\n",
            "\n",
            "\u001b[35mThe ideas and opinions of other can be a very helpful tool when you need to decide on something.\n",
            "[Claim]\n",
            "\n",
            "\n",
            "\u001b[35mYou can get a much more detailed response if you ask multiple people for their advice. [Claim]\n",
            "\n",
            "\n",
            "\u001b[34mIf you were to ask for one person's advice on something, you wouldn't get very much information. Instead, you could ask multiple people and get lots of different information. This information will help you to decide on a course of action. Asking multiple people for their advice can help you get a more detailed response, and help you know what to do.\n",
            "[Evidence]\n",
            "\n",
            "\n",
            "\u001b[33mPeople are a valuable source of advice when you need to decide on something. The people around you may have prior experience or opinions that can help you with whatever it is that you need help with. You could ask random people at a bus stop if they know a good car to buy, or if they know one you shouldn't buy. Their opinions could help you decide on the right car to buy, and make you feel good about what you chose. Asking multiple different people for their advice will show you the experiences of multiple other people, show you different ideas/opinions, and give you a more detailed response.[Concluding Statement]\n",
            "\n",
            "\n"
          ]
        }
      ]
    }
  ],
  "metadata": {
    "interpreter": {
      "hash": "344fb4929a2c4de8a02de028343d6ccfb10559c13adb78f8f8f8ae2b621d77d5"
    },
    "kernelspec": {
      "display_name": "Python 3.8.5 64-bit ('masterAI': conda)",
      "language": "python",
      "name": "python3"
    },
    "language_info": {
      "codemirror_mode": {
        "name": "ipython",
        "version": 3
      },
      "file_extension": ".py",
      "mimetype": "text/x-python",
      "name": "python",
      "nbconvert_exporter": "python",
      "pygments_lexer": "ipython3",
      "version": "3.8.12"
    },
    "orig_nbformat": 4,
    "colab": {
      "name": "whiteboard.ipynb",
      "provenance": []
    }
  },
  "nbformat": 4,
  "nbformat_minor": 0
}