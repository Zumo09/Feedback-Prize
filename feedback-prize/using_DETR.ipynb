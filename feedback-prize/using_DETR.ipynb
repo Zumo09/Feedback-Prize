{
 "cells": [
  {
   "cell_type": "markdown",
   "metadata": {},
   "source": [
    "# DETR\n",
    "\n",
    "DETR infers a fixed-size set of $N$ predictions, in a single pass through the\n",
    "decoder, where $N$ is set to be significantly larger than the typical number of\n",
    "objects in an image. \n",
    "\n",
    "> Estimate the number $N$ by looking at the mean and std value of the number of labels per document. $N$ needs to be sufficient large\n",
    "\n",
    "One of the main difficulties of training is to score predicted\n",
    "objects (class, position, size) with respect to the ground truth. Our loss produces\n",
    "an optimal bipartite matching between predicted and ground truth objects, and\n",
    "then optimize object-specific (bounding box) losses.\n",
    "\n",
    "* $y$: ground truth set of objects\n",
    "* $\\hat{y} = \\{\\hat{y}_i\\}^N_{i = 1}$"
   ]
  },
  {
   "cell_type": "code",
   "execution_count": null,
   "metadata": {},
   "outputs": [],
   "source": []
  }
 ],
 "metadata": {
  "language_info": {
   "name": "python"
  },
  "orig_nbformat": 4
 },
 "nbformat": 4,
 "nbformat_minor": 2
}
