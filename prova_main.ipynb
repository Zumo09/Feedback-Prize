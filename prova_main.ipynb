{
 "cells": [
  {
   "cell_type": "code",
   "execution_count": 1,
   "metadata": {},
   "outputs": [],
   "source": [
    "%reload_ext autoreload\n",
    "%autoreload 2"
   ]
  },
  {
   "cell_type": "code",
   "execution_count": 2,
   "metadata": {},
   "outputs": [],
   "source": [
    "import torch"
   ]
  },
  {
   "cell_type": "code",
   "execution_count": 49,
   "metadata": {},
   "outputs": [],
   "source": [
    "from argparse import Namespace\n",
    "\n",
    "args = Namespace(\n",
    "    num_queries=20,\n",
    "    hidden_dim=10,\n",
    "    random_state=42,\n",
    "    preprocessing=True,\n",
    "    test_size=0.2,\n",
    "    batch_size = 5,\n",
    "    input_path=\"./input/feedback-prize-2021/\",\n",
    "    device=\"cpu\",\n",
    "    set_cost_class=1,\n",
    "    set_cost_bbox=1,\n",
    "    set_cost_giou=1,\n",
    "    bbox_loss_coef=0.5,\n",
    "    giou_loss_coef=0.1,\n",
    "    eos_coef=0.1,\n",
    "    num_workers=2,\n",
    "    start_epoch=0,\n",
    "    epochs=10,\n",
    "    lr=0.001,\n",
    "    weight_decay=0.1,\n",
    "    lr_drop=1,\n",
    "    clip_max_norm=0\n",
    ")\n",
    "\n",
    "device = torch.device(args.device)"
   ]
  },
  {
   "cell_type": "code",
   "execution_count": 33,
   "metadata": {},
   "outputs": [
    {
     "name": "stderr",
     "output_type": "stream",
     "text": [
      "100%|██████████| 15594/15594 [00:04<00:00, 3791.39it/s]\n"
     ]
    }
   ],
   "source": [
    "from datasets import build_fdb_data, collate_fn\n",
    "\n",
    "dataset_train, dataset_val, postprocessor, num_classes = build_fdb_data(args)"
   ]
  },
  {
   "cell_type": "code",
   "execution_count": 34,
   "metadata": {},
   "outputs": [
    {
     "name": "stderr",
     "output_type": "stream",
     "text": [
      "Some weights of the model checkpoint at allenai/led-base-16384 were not used when initializing LEDModel: ['lm_head.weight', 'final_logits_bias']\n",
      "- This IS expected if you are initializing LEDModel from the checkpoint of a model trained on another task or with another architecture (e.g. initializing a BertForSequenceClassification model from a BertForPreTraining model).\n",
      "- This IS NOT expected if you are initializing LEDModel from the checkpoint of a model that you expect to be exactly identical (initializing a BertForSequenceClassification model from a BertForSequenceClassification model).\n"
     ]
    },
    {
     "name": "stdout",
     "output_type": "stream",
     "text": [
      "number of params: 161950614\n"
     ]
    }
   ],
   "source": [
    "from models import build_models\n",
    "\n",
    "tokenizer, model, criterion = build_models(num_classes, args)\n",
    "model.to(device)\n",
    "\n",
    "n_parameters = sum(p.numel() for p in model.parameters() if p.requires_grad)\n",
    "print(\"number of params:\", n_parameters)"
   ]
  },
  {
   "cell_type": "code",
   "execution_count": 52,
   "metadata": {},
   "outputs": [],
   "source": [
    "import time\n",
    "import datetime\n",
    "from torch.utils.data import DataLoader\n",
    "\n",
    "optimizer = torch.optim.AdamW(\n",
    "    model.parameters(), lr=args.lr, weight_decay=args.weight_decay\n",
    ")\n",
    "lr_scheduler = torch.optim.lr_scheduler.StepLR(optimizer, args.lr_drop)\n",
    "\n",
    "data_loader_train = DataLoader(\n",
    "    dataset_train,\n",
    "    shuffle=True,\n",
    "    batch_size=args.batch_size,\n",
    "    collate_fn=collate_fn,\n",
    "    num_workers=args.num_workers,\n",
    ")\n",
    "data_loader_val = DataLoader(\n",
    "    dataset_val,\n",
    "    shuffle=False,\n",
    "    batch_size=args.batch_size,\n",
    "    drop_last=False,\n",
    "    collate_fn=collate_fn,\n",
    "    num_workers=args.num_workers,\n",
    ")"
   ]
  },
  {
   "cell_type": "code",
   "execution_count": null,
   "metadata": {},
   "outputs": [],
   "source": [
    "# from tqdm import tqdm\n",
    "\n",
    "# model.train()\n",
    "# criterion.train()\n",
    "\n",
    "# loss_list = []\n",
    "# data_bar = tqdm(data_loader_train, desc=f\"Train Epoch {0:4d}\")\n",
    "# for samples, targets, info in data_bar:\n",
    "#     st = time.time()\n",
    "\n",
    "#     targets = [{k: v.to(device) for k, v in t.items()} for t in targets]\n",
    "\n",
    "#     outputs = []\n",
    "#     for doc in samples:\n",
    "#         inputs = tokenizer([doc]).to(device)\n",
    "#         outputs.append(model(inputs))\n",
    "    \n",
    "#     batch_outputs = {\n",
    "#         key: torch.cat([o[key] for o in outputs])\n",
    "#         for key in outputs[0].keys()\n",
    "#     }\n",
    "    \n",
    "#     loss_dict = criterion(batch_outputs, targets)  # type: Dict[str, torch.Tensor]\n",
    "    \n",
    "#     mt = time.time()\n",
    "    \n",
    "#     weight_dict = criterion.weight_dict\n",
    "#     losses = sum(loss_dict[k] * weight_dict[k] for k in loss_dict.keys() if k in weight_dict)  # type: ignore\n",
    "\n",
    "#     loss_dict_unscaled = {f\"{k}_unscaled\": v for k, v in loss_dict.items()}\n",
    "#     loss_dict_scaled = {\n",
    "#         k: v * weight_dict[k] for k, v in loss_dict.items() if k in weight_dict\n",
    "#     }\n",
    "#     losses_scaled = sum(loss_dict_scaled.values())  # type: ignore\n",
    "\n",
    "#     loss_value = losses_scaled.item()  # type: ignore\n",
    "\n",
    "#     optimizer.zero_grad()\n",
    "#     losses.backward()  # type: ignore\n",
    "#     optimizer.step()\n",
    "    \n",
    "#     ot = time.time()\n",
    "    \n",
    "#     loss_list.append(losses.item())  # type: ignore\n",
    "#     data_bar.set_postfix(\n",
    "#         {\n",
    "#             \"lr\": optimizer.param_groups[0][\"lr\"],\n",
    "#             \"mean_loss\": sum(loss_list) / len(loss_list),\n",
    "#             \"model time\": f'{mt - st:.2f} s',\n",
    "#             \"optim time\": f'{ot - mt:.2f} s'\n",
    "#         }\n",
    "#     )\n"
   ]
  },
  {
   "cell_type": "code",
   "execution_count": null,
   "metadata": {},
   "outputs": [],
   "source": [
    "from engine import train_one_epoch, evaluate\n",
    "\n",
    "print(\"Start training\")\n",
    "start_time = time.time()\n",
    "for epoch in range(args.start_epoch, args.epochs):\n",
    "    train_one_epoch(\n",
    "        tokenizer=tokenizer,\n",
    "        model=model,\n",
    "        criterion=criterion,\n",
    "        data_loader=data_loader_train,\n",
    "        optimizer=optimizer,\n",
    "        device=device,\n",
    "        epoch=epoch,\n",
    "        max_norm=args.clip_max_norm,\n",
    "    )\n",
    "    lr_scheduler.step()\n",
    "\n",
    "    postprocessor.reset_results()\n",
    "    evaluate(\n",
    "        tokenizer=tokenizer,\n",
    "        model=model,\n",
    "        criterion=criterion,\n",
    "        postprocessor=postprocessor,\n",
    "        data_loader=data_loader_val,\n",
    "        epoch=epoch,\n",
    "        device=device,\n",
    "        tag=\"Validation\",\n",
    "    )\n",
    "total_time = time.time() - start_time\n",
    "total_time_str = str(datetime.timedelta(seconds=int(total_time)))\n",
    "print(\"Training time {}\".format(total_time_str))"
   ]
  }
 ],
 "metadata": {
  "interpreter": {
   "hash": "4767f2120b0e1f3c42e70d98d219d8808f08c9a00ef8432d45518bcb5d9764ac"
  },
  "kernelspec": {
   "display_name": "Python 3.8.12 ('nlp')",
   "language": "python",
   "name": "python3"
  },
  "language_info": {
   "codemirror_mode": {
    "name": "ipython",
    "version": 3
   },
   "file_extension": ".py",
   "mimetype": "text/x-python",
   "name": "python",
   "nbconvert_exporter": "python",
   "pygments_lexer": "ipython3",
   "version": "3.8.12"
  },
  "orig_nbformat": 4
 },
 "nbformat": 4,
 "nbformat_minor": 2
}
