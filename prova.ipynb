{
 "cells": [
  {
   "cell_type": "code",
   "execution_count": 2,
   "metadata": {},
   "outputs": [],
   "source": [
    "%load_ext autoreload\n",
    "%autoreload 2"
   ]
  },
  {
   "cell_type": "code",
   "execution_count": 3,
   "metadata": {},
   "outputs": [],
   "source": [
    "import torch"
   ]
  },
  {
   "cell_type": "code",
   "execution_count": 4,
   "metadata": {},
   "outputs": [],
   "source": [
    "from argparse import Namespace\n",
    "\n",
    "args = Namespace(\n",
    "    random_state=42,\n",
    "    preprocessing=True,\n",
    "    test_size=0.2,\n",
    "    num_queries=20,\n",
    "    batch_size = 5,\n",
    "    input_path=\"./input/feedback-prize-2021/\"\n",
    ")"
   ]
  },
  {
   "cell_type": "code",
   "execution_count": 5,
   "metadata": {},
   "outputs": [],
   "source": [
    "# from datasets import build_fdb_data, collate_fn\n",
    "\n",
    "# dataset, val, postprocessor, num_classes = build_fdb_data(args)"
   ]
  },
  {
   "cell_type": "code",
   "execution_count": 6,
   "metadata": {},
   "outputs": [
    {
     "name": "stderr",
     "output_type": "stream",
     "text": [
      "100%|██████████| 15594/15594 [00:08<00:00, 1751.77it/s]\n"
     ]
    }
   ],
   "source": [
    "import numpy as np\n",
    "\n",
    "from datasets.processing_funcs import PIPELINE\n",
    "from datasets.fbp_dataset import FBPDataset, load_texts\n",
    "from sklearn.preprocessing import OrdinalEncoder\n",
    "from sklearn.model_selection import train_test_split\n",
    "\n",
    "\n",
    "preprocess = PIPELINE if args.preprocessing else []\n",
    "documents, tags = load_texts(args.input_path, preprocess)  # type: ignore\n",
    "\n",
    "encoder = OrdinalEncoder()\n",
    "label_unique = np.array(tags[\"discourse_type\"].unique())  # type: ignore\n",
    "encoder.fit(label_unique.reshape(-1, 1))\n",
    "\n",
    "train_idx, val_idx = train_test_split(\n",
    "    documents.index, test_size=args.test_size, random_state=args.random_state\n",
    ")\n",
    "\n",
    "train_dataset = FBPDataset(documents[train_idx], tags, encoder)  # type:ignore\n",
    "val_dataset = FBPDataset(documents[val_idx], tags, encoder)  # type:ignore\n",
    "\n",
    "num_classes = len(label_unique)"
   ]
  },
  {
   "cell_type": "code",
   "execution_count": 7,
   "metadata": {},
   "outputs": [],
   "source": [
    "from torch.utils.data import DataLoader\n",
    "\n",
    "def collate_fn(batch):\n",
    "    return tuple(list(i) for i in zip(*batch))\n",
    "\n",
    "dl = DataLoader(train_dataset, args.batch_size, collate_fn=collate_fn)\n",
    "\n",
    "docs, targets, infos = next(iter(dl))"
   ]
  },
  {
   "cell_type": "code",
   "execution_count": 8,
   "metadata": {},
   "outputs": [],
   "source": [
    "predictions = {\n",
    "    'pred_logits': torch.rand([args.batch_size, args.num_queries, num_classes + 1]) * torch.Tensor([[1] * num_classes + [10]]),\n",
    "    'pred_boxes': torch.rand([args.batch_size, args.num_queries, 2]) * torch.Tensor([[1, 0.1]])\n",
    "}"
   ]
  },
  {
   "cell_type": "code",
   "execution_count": 9,
   "metadata": {},
   "outputs": [],
   "source": [
    "from models.matcher import HungarianMatcher\n",
    "from models.criterion import CriterionDETR\n",
    "\n",
    "matcher = HungarianMatcher()\n",
    "\n",
    "weight_dict = {'loss_ce': 1., 'loss_bbox': 1., 'loss_giou': 1.}\n",
    "losses = ['labels', 'boxes', 'cardinality']\n",
    "\n",
    "criterion = CriterionDETR(num_classes, matcher=matcher, weight_dict=weight_dict,\n",
    "                            eos_coef=0.1, losses=losses)"
   ]
  },
  {
   "cell_type": "code",
   "execution_count": 10,
   "metadata": {},
   "outputs": [
    {
     "data": {
      "text/plain": [
       "{'loss_ce': tensor(4.1917),\n",
       " 'loss_bbox': tensor(0.1219),\n",
       " 'loss_giou': tensor(0.8441),\n",
       " 'cardinality_error': tensor(7.8000)}"
      ]
     },
     "execution_count": 10,
     "metadata": {},
     "output_type": "execute_result"
    }
   ],
   "source": [
    "criterion(predictions, targets)"
   ]
  },
  {
   "cell_type": "code",
   "execution_count": 40,
   "metadata": {},
   "outputs": [],
   "source": [
    "from datasets.postprocess import FBPPostProcess\n",
    "\n",
    "postprocessor = FBPPostProcess(encoder, tags, num_classes)"
   ]
  },
  {
   "cell_type": "code",
   "execution_count": 41,
   "metadata": {},
   "outputs": [],
   "source": [
    "postprocessor.add_outputs(predictions, infos)"
   ]
  },
  {
   "cell_type": "code",
   "execution_count": 42,
   "metadata": {},
   "outputs": [
    {
     "data": {
      "text/html": [
       "<div>\n",
       "<style scoped>\n",
       "    .dataframe tbody tr th:only-of-type {\n",
       "        vertical-align: middle;\n",
       "    }\n",
       "\n",
       "    .dataframe tbody tr th {\n",
       "        vertical-align: top;\n",
       "    }\n",
       "\n",
       "    .dataframe thead th {\n",
       "        text-align: right;\n",
       "    }\n",
       "</style>\n",
       "<table border=\"1\" class=\"dataframe\">\n",
       "  <thead>\n",
       "    <tr style=\"text-align: right;\">\n",
       "      <th></th>\n",
       "      <th>id</th>\n",
       "      <th>class</th>\n",
       "      <th>predictionstring</th>\n",
       "      <th>score</th>\n",
       "    </tr>\n",
       "  </thead>\n",
       "  <tbody>\n",
       "    <tr>\n",
       "      <th>0</th>\n",
       "      <td>97E4E42863A3</td>\n",
       "      <td>Rebuttal</td>\n",
       "      <td>272 273 274 275 276 277 278 279 280 281 282 28...</td>\n",
       "      <td>0.201358</td>\n",
       "    </tr>\n",
       "    <tr>\n",
       "      <th>1</th>\n",
       "      <td>EB793B72A8C4</td>\n",
       "      <td>Rebuttal</td>\n",
       "      <td>85 86 87</td>\n",
       "      <td>0.167245</td>\n",
       "    </tr>\n",
       "    <tr>\n",
       "      <th>2</th>\n",
       "      <td>0119F710D008</td>\n",
       "      <td>Evidence</td>\n",
       "      <td>33 34 35 36 37 38 39 40 41</td>\n",
       "      <td>0.152022</td>\n",
       "    </tr>\n",
       "    <tr>\n",
       "      <th>3</th>\n",
       "      <td>0119F710D008</td>\n",
       "      <td>Position</td>\n",
       "      <td>87 88 89 90 91 92 93 94 95 96 97 98 99 100 101...</td>\n",
       "      <td>0.180292</td>\n",
       "    </tr>\n",
       "    <tr>\n",
       "      <th>4</th>\n",
       "      <td>F00B4D036D97</td>\n",
       "      <td>Lead</td>\n",
       "      <td>50 51 52 53 54 55 56 57 58 59 60 61 62</td>\n",
       "      <td>0.150565</td>\n",
       "    </tr>\n",
       "    <tr>\n",
       "      <th>5</th>\n",
       "      <td>F00B4D036D97</td>\n",
       "      <td>Position</td>\n",
       "      <td>146 147 148 149 150 151 152 153 154 155 156 15...</td>\n",
       "      <td>0.181172</td>\n",
       "    </tr>\n",
       "    <tr>\n",
       "      <th>6</th>\n",
       "      <td>F00B4D036D97</td>\n",
       "      <td>Position</td>\n",
       "      <td>117 118 119 120 121 122 123 124 125 126 127 12...</td>\n",
       "      <td>0.153930</td>\n",
       "    </tr>\n",
       "  </tbody>\n",
       "</table>\n",
       "</div>"
      ],
      "text/plain": [
       "             id     class                                   predictionstring  \\\n",
       "0  97E4E42863A3  Rebuttal  272 273 274 275 276 277 278 279 280 281 282 28...   \n",
       "1  EB793B72A8C4  Rebuttal                                           85 86 87   \n",
       "2  0119F710D008  Evidence                         33 34 35 36 37 38 39 40 41   \n",
       "3  0119F710D008  Position  87 88 89 90 91 92 93 94 95 96 97 98 99 100 101...   \n",
       "4  F00B4D036D97      Lead             50 51 52 53 54 55 56 57 58 59 60 61 62   \n",
       "5  F00B4D036D97  Position  146 147 148 149 150 151 152 153 154 155 156 15...   \n",
       "6  F00B4D036D97  Position  117 118 119 120 121 122 123 124 125 126 127 12...   \n",
       "\n",
       "      score  \n",
       "0  0.201358  \n",
       "1  0.167245  \n",
       "2  0.152022  \n",
       "3  0.180292  \n",
       "4  0.150565  \n",
       "5  0.181172  \n",
       "6  0.153930  "
      ]
     },
     "execution_count": 42,
     "metadata": {},
     "output_type": "execute_result"
    }
   ],
   "source": [
    "postprocessor.results"
   ]
  },
  {
   "cell_type": "code",
   "execution_count": null,
   "metadata": {},
   "outputs": [],
   "source": [
    "postprocessor.evaluate()"
   ]
  },
  {
   "cell_type": "code",
   "execution_count": 54,
   "metadata": {},
   "outputs": [],
   "source": [
    "import util.visualization as viz\n",
    "\n",
    "idx = 0\n",
    "\n",
    "id_example = infos[idx]['id']\n",
    "doc = docs[idx]"
   ]
  },
  {
   "cell_type": "code",
   "execution_count": 55,
   "metadata": {},
   "outputs": [
    {
     "data": {
      "text/html": [
       "<span class=\"tex2jax_ignore\"><h2 style=\"margin: 0\">97E4E42863A3</h2>\n",
       "\n",
       "<div class=\"entities\" style=\"line-height: 2.5; direction: ltr\">\n",
       "<mark class=\"entity\" style=\"background: #2b7ff6; padding: 0.45em 0.6em; margin: 0 0.25em; line-height: 1; border-radius: 0.35em;\">\n",
       "    talking to multiple people can help you see what others think and if majority of people think one decision it might be the better one for\n",
       "    <span style=\"font-size: 0.8em; font-weight: bold; line-height: 1; border-radius: 0.35em; vertical-align: middle; margin-left: 0.5rem\">Position</span>\n",
       "</mark>\n",
       " you.\n",
       "<mark class=\"entity\" style=\"background: #2adddd; padding: 0.45em 0.6em; margin: 0 0.25em; line-height: 1; border-radius: 0.35em;\">\n",
       "     like if you do something that you dont think is right you might want to ask a few different people if they think it wrong or not but some advice differ between other people. but you dont have to fall in others footsteps you can live your own life and be yourself. also you should never do things that other people tell you to do if you think it's wrong or if they think it's\n",
       "    <span style=\"font-size: 0.8em; font-weight: bold; line-height: 1; border-radius: 0.35em; vertical-align: middle; margin-left: 0.5rem\">Evidence</span>\n",
       "</mark>\n",
       " right.also you\n",
       "<mark class=\"entity\" style=\"background: #80ffb4; padding: 0.45em 0.6em; margin: 0 0.25em; line-height: 1; border-radius: 0.35em;\">\n",
       "     should only listen to your family if you need advice for when you were young but when you get older you should only listen to your family and the friends you truly trust. instead of you trusting someone you just met like a few years ago.\n",
       "    <span style=\"font-size: 0.8em; font-weight: bold; line-height: 1; border-radius: 0.35em; vertical-align: middle; margin-left: 0.5rem\">Claim</span>\n",
       "</mark>\n",
       " when\n",
       "<mark class=\"entity\" style=\"background: #2adddd; padding: 0.45em 0.6em; margin: 0 0.25em; line-height: 1; border-radius: 0.35em;\">\n",
       "     you go up to someone and ask them for advice be sure to greet them instead of just going up to them and just straight up asking them for advice when you should get to know them a little more. say if you were going to your grandparents house and you had a secret that you kept away from you family but a few days ago you told you parents and they werent mad but the didn't like you keeping a secret away from them for that long. so then they take you to your grandparents house and you tell them the whole story and you ask them for advice and the tell you to sit down and talk to them. finally they tell you what you should have done and tell them thanks for the advice.after you go get some advice from family go ask a trusted friend for some advice on how to snowboard or ski then they will tell you all the basics on how to ski and stop yourself from going to fast down a hill or just to stop in general. then you should take advice from from a skiing lessen teacher then you will know enough about that thing that you can try it out for yourself.so taking\n",
       "    <span style=\"font-size: 0.8em; font-weight: bold; line-height: 1; border-radius: 0.35em; vertical-align: middle; margin-left: 0.5rem\">Evidence</span>\n",
       "</mark>\n",
       " advice\n",
       "<mark class=\"entity\" style=\"background: #80ffb4; padding: 0.45em 0.6em; margin: 0 0.25em; line-height: 1; border-radius: 0.35em;\">\n",
       "     from people isnt always bad but if you take advice from bad people the will give you bad advice on different things like if\n",
       "    <span style=\"font-size: 0.8em; font-weight: bold; line-height: 1; border-radius: 0.35em; vertical-align: middle; margin-left: 0.5rem\">Claim</span>\n",
       "</mark>\n",
       " you ask\n",
       "<mark class=\"entity\" style=\"background: #2adddd; padding: 0.45em 0.6em; margin: 0 0.25em; line-height: 1; border-radius: 0.35em;\">\n",
       "     a prisoner on advice for schoolwork they might just say dont do it it wont help you in the long run. also different\n",
       "    <span style=\"font-size: 0.8em; font-weight: bold; line-height: 1; border-radius: 0.35em; vertical-align: middle; margin-left: 0.5rem\">Evidence</span>\n",
       "</mark>\n",
       " people have\n",
       "<mark class=\"entity\" style=\"background: #80ffb4; padding: 0.45em 0.6em; margin: 0 0.25em; line-height: 1; border-radius: 0.35em;\">\n",
       "     different personalities like bad\n",
       "    <span style=\"font-size: 0.8em; font-weight: bold; line-height: 1; border-radius: 0.35em; vertical-align: middle; margin-left: 0.5rem\">Claim</span>\n",
       "</mark>\n",
       " people who\n",
       "<mark class=\"entity\" style=\"background: #2adddd; padding: 0.45em 0.6em; margin: 0 0.25em; line-height: 1; border-radius: 0.35em;\">\n",
       "     have gotten arrested compared to people that work for the state police and people that work for the state or national government. all in\n",
       "    <span style=\"font-size: 0.8em; font-weight: bold; line-height: 1; border-radius: 0.35em; vertical-align: middle; margin-left: 0.5rem\">Evidence</span>\n",
       "</mark>\n",
       " all i think that\n",
       "<mark class=\"entity\" style=\"background: d4dd80; padding: 0.45em 0.6em; margin: 0 0.25em; line-height: 1; border-radius: 0.35em;\">\n",
       "     you should go to multiple people for advice on different things like driving a car i think that you should go to as many people as you can when you first start to drive so you know a little bit about how some people act on the road. also people give you advice on where you should go to practice your driving skills like in an empty parking lot or in a non busy street or neighborhood to get better.\n",
       "    <span style=\"font-size: 0.8em; font-weight: bold; line-height: 1; border-radius: 0.35em; vertical-align: middle; margin-left: 0.5rem\">Concluding Statement</span>\n",
       "</mark>\n",
       "</div></span>"
      ],
      "text/plain": [
       "<IPython.core.display.HTML object>"
      ]
     },
     "metadata": {},
     "output_type": "display_data"
    }
   ],
   "source": [
    "viz.highlight_segments(id_example, doc, tags)"
   ]
  },
  {
   "cell_type": "code",
   "execution_count": 56,
   "metadata": {},
   "outputs": [
    {
     "data": {
      "text/html": [
       "<span class=\"tex2jax_ignore\"><h2 style=\"margin: 0\">97E4E42863A3</h2>\n",
       "\n",
       "<div class=\"entities\" style=\"line-height: 2.5; direction: ltr\">talking to multiple people can help you see what others think and if majority of people think one decision it might be the better one for you. like if you do something that you dont think is right you might want to ask a few different people if they think it wrong or not but some advice differ between other people. but you dont have to fall in others footsteps you can live your own life and be yourself. also you should never do things that other people tell you to do if you think it's wrong or if they think it's right.also you should only listen to your family if you need advice for when you were young but when you get older you should only listen to your family and the friends you truly trust. instead of you trusting someone you just met like a few years ago. when you go up to someone and ask them for advice be sure to greet them instead of just going up to them and just straight up asking them for advice when you should get to know them a little more. say if you were going to your grandparents house and you had a secret that you kept away from you family but a few days ago you told you parents and they werent mad but the didn't like you keeping a secret away from them for that long. so then they take you to your grandparents house and you tell them the whole story and you ask them for advice and the tell you to sit down and talk to them.\n",
       "<mark class=\"entity\" style=\"background: #ff0000; padding: 0.45em 0.6em; margin: 0 0.25em; line-height: 1; border-radius: 0.35em;\">\n",
       "     finally they tell you what you should have done and tell them thanks for the advice.after you go get some advice from family go ask a trusted friend for some advice on how to snowboard or ski then they will tell you all the basics on how to ski and stop\n",
       "    <span style=\"font-size: 0.8em; font-weight: bold; line-height: 1; border-radius: 0.35em; vertical-align: middle; margin-left: 0.5rem\">Rebuttal</span>\n",
       "</mark>\n",
       " yourself from going to fast down a hill or just to stop in general. then you should take advice from from a skiing lessen teacher then you will know enough about that thing that you can try it out for yourself.so taking advice from people isnt always bad but if you take advice from bad people the will give you bad advice on different things like if you ask a prisoner on advice for schoolwork they might just say dont do it it wont help you in the long run. also different people have different personalities like bad people who have gotten arrested compared to people that work for the state police and people that work for the state or national government. all in all i think that you should go to multiple people for advice on different things like driving a car i think that you should go to as many people as you can when you first start to drive so you know a little bit about how some people act on the road. also people give you advice on where you should go to practice your driving skills like in an empty parking lot or in a non busy street or neighborhood to get better.</div></span>"
      ],
      "text/plain": [
       "<IPython.core.display.HTML object>"
      ]
     },
     "metadata": {},
     "output_type": "display_data"
    }
   ],
   "source": [
    "viz.highlight_segments(id_example, doc, postprocessor.results)"
   ]
  },
  {
   "cell_type": "code",
   "execution_count": 34,
   "metadata": {},
   "outputs": [],
   "source": [
    "postprocessor.reset_results()"
   ]
  }
 ],
 "metadata": {
  "interpreter": {
   "hash": "4767f2120b0e1f3c42e70d98d219d8808f08c9a00ef8432d45518bcb5d9764ac"
  },
  "kernelspec": {
   "display_name": "Python 3.8.12 64-bit ('nlp': conda)",
   "language": "python",
   "name": "python3"
  },
  "language_info": {
   "codemirror_mode": {
    "name": "ipython",
    "version": 3
   },
   "file_extension": ".py",
   "mimetype": "text/x-python",
   "name": "python",
   "nbconvert_exporter": "python",
   "pygments_lexer": "ipython3",
   "version": "3.8.12"
  },
  "orig_nbformat": 4
 },
 "nbformat": 4,
 "nbformat_minor": 2
}
