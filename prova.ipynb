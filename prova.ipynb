{
 "cells": [
  {
   "cell_type": "code",
   "execution_count": 1,
   "metadata": {},
   "outputs": [],
   "source": [
    "%reload_ext autoreload\n",
    "%autoreload 2"
   ]
  },
  {
   "cell_type": "code",
   "execution_count": 40,
   "metadata": {},
   "outputs": [
    {
     "name": "stderr",
     "output_type": "stream",
     "text": [
      "Some weights of the model checkpoint at allenai/led-base-16384 were not used when initializing LEDModel: ['lm_head.weight', 'final_logits_bias']\n",
      "- This IS expected if you are initializing LEDModel from the checkpoint of a model trained on another task or with another architecture (e.g. initializing a BertForSequenceClassification model from a BertForPreTraining model).\n",
      "- This IS NOT expected if you are initializing LEDModel from the checkpoint of a model that you expect to be exactly identical (initializing a BertForSequenceClassification model from a BertForSequenceClassification model).\n"
     ]
    },
    {
     "name": "stdout",
     "output_type": "stream",
     "text": [
      "number of params: 163801093\n"
     ]
    }
   ],
   "source": [
    "import torch\n",
    "from main import get_args_parser\n",
    "from models import build_models\n",
    "\n",
    "\n",
    "args = get_args_parser().parse_args(['--device', 'cpu'])\n",
    "tokenizer, model, criterion = build_models(2, args)\n",
    "n_parameters = sum(p.numel() for p in model.parameters() if p.requires_grad)\n",
    "print(\"number of params:\", n_parameters)"
   ]
  },
  {
   "cell_type": "code",
   "execution_count": 41,
   "metadata": {},
   "outputs": [
    {
     "name": "stdout",
     "output_type": "stream",
     "text": [
      "number of params: 1956613\n"
     ]
    }
   ],
   "source": [
    "model.set_transformer_trainable(False)\n",
    "n_parameters = sum(p.numel() for p in model.parameters() if p.requires_grad)\n",
    "print(\"number of params:\", n_parameters)"
   ]
  },
  {
   "cell_type": "code",
   "execution_count": 51,
   "metadata": {},
   "outputs": [],
   "source": [
    "optimizer = torch.optim.AdamW(\n",
    "    model.last_layers_parameters(), lr=args.lr, weight_decay=args.weight_decay\n",
    ")\n",
    "lr_scheduler = torch.optim.lr_scheduler.StepLR(optimizer, args.lr_drop)"
   ]
  },
  {
   "cell_type": "code",
   "execution_count": 53,
   "metadata": {},
   "outputs": [],
   "source": [
    "optimizer.step()\n",
    "lr_scheduler.step()"
   ]
  },
  {
   "cell_type": "code",
   "execution_count": 55,
   "metadata": {},
   "outputs": [
    {
     "name": "stdout",
     "output_type": "stream",
     "text": [
      "lr 0.0001\n",
      "betas (0.9, 0.999)\n",
      "eps 1e-08\n",
      "weight_decay 0.0001\n",
      "amsgrad False\n",
      "initial_lr 0.0001\n",
      "\n"
     ]
    },
    {
     "data": {
      "text/plain": [
       "{'step_size': 200,\n",
       " 'gamma': 0.1,\n",
       " 'base_lrs': [0.0001],\n",
       " 'last_epoch': 2,\n",
       " '_step_count': 3,\n",
       " 'verbose': False,\n",
       " '_get_lr_called_within_step': False,\n",
       " '_last_lr': [0.0001]}"
      ]
     },
     "execution_count": 55,
     "metadata": {},
     "output_type": "execute_result"
    }
   ],
   "source": [
    "for group in optimizer.param_groups:\n",
    "    for k, v in group.items():\n",
    "        if k != 'params':\n",
    "            print(k, v)\n",
    "    print()\n",
    "\n",
    "lr_scheduler.state_dict()"
   ]
  },
  {
   "cell_type": "code",
   "execution_count": 56,
   "metadata": {},
   "outputs": [
    {
     "name": "stdout",
     "output_type": "stream",
     "text": [
      "number of params: 163801093\n"
     ]
    }
   ],
   "source": [
    "model.set_transformer_trainable(True)\n",
    "n_parameters = sum(p.numel() for p in model.parameters() if p.requires_grad)\n",
    "print(\"number of params:\", n_parameters)\n",
    "\n",
    "optimizer.add_param_group({'params': model.transformer_parameters(), 'lr': args.transformer_lr})"
   ]
  },
  {
   "cell_type": "code",
   "execution_count": 57,
   "metadata": {},
   "outputs": [],
   "source": [
    "optimizer.step()\n",
    "lr_scheduler.step()"
   ]
  },
  {
   "cell_type": "code",
   "execution_count": 58,
   "metadata": {},
   "outputs": [
    {
     "name": "stdout",
     "output_type": "stream",
     "text": [
      "lr 0.0001\n",
      "betas (0.9, 0.999)\n",
      "eps 1e-08\n",
      "weight_decay 0.0001\n",
      "amsgrad False\n",
      "initial_lr 0.0001\n",
      "\n",
      "lr 1e-05\n",
      "betas (0.9, 0.999)\n",
      "eps 1e-08\n",
      "weight_decay 0.0001\n",
      "amsgrad False\n",
      "\n"
     ]
    },
    {
     "data": {
      "text/plain": [
       "{'step_size': 200,\n",
       " 'gamma': 0.1,\n",
       " 'base_lrs': [0.0001],\n",
       " 'last_epoch': 3,\n",
       " '_step_count': 4,\n",
       " 'verbose': False,\n",
       " '_get_lr_called_within_step': False,\n",
       " '_last_lr': [0.0001, 1e-05]}"
      ]
     },
     "execution_count": 58,
     "metadata": {},
     "output_type": "execute_result"
    }
   ],
   "source": [
    "for group in optimizer.param_groups:\n",
    "    for k, v in group.items():\n",
    "        if k != 'params':\n",
    "            print(k, v)\n",
    "    print()\n",
    "\n",
    "lr_scheduler.state_dict()"
   ]
  },
  {
   "cell_type": "code",
   "execution_count": null,
   "metadata": {},
   "outputs": [],
   "source": []
  }
 ],
 "metadata": {
  "interpreter": {
   "hash": "4767f2120b0e1f3c42e70d98d219d8808f08c9a00ef8432d45518bcb5d9764ac"
  },
  "kernelspec": {
   "display_name": "Python 3.8.12 ('nlp')",
   "language": "python",
   "name": "python3"
  },
  "language_info": {
   "codemirror_mode": {
    "name": "ipython",
    "version": 3
   },
   "file_extension": ".py",
   "mimetype": "text/x-python",
   "name": "python",
   "nbconvert_exporter": "python",
   "pygments_lexer": "ipython3",
   "version": "3.8.12"
  },
  "orig_nbformat": 4
 },
 "nbformat": 4,
 "nbformat_minor": 2
}
