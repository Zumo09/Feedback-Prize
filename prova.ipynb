{
 "cells": [
  {
   "cell_type": "code",
   "execution_count": 1,
   "metadata": {},
   "outputs": [],
   "source": [
    "%load_ext autoreload\n",
    "%autoreload 2"
   ]
  },
  {
   "cell_type": "code",
   "execution_count": 2,
   "metadata": {},
   "outputs": [],
   "source": [
    "import torch"
   ]
  },
  {
   "cell_type": "code",
   "execution_count": 3,
   "metadata": {},
   "outputs": [],
   "source": [
    "from argparse import Namespace\n",
    "\n",
    "args = Namespace(\n",
    "    random_state=42,\n",
    "    preprocessing=True,\n",
    "    test_size=0.2,\n",
    "    num_queries=100,\n",
    "    batch_size = 5,\n",
    "    input_path=\"./input/feedback-prize-2021/\"\n",
    ")"
   ]
  },
  {
   "cell_type": "code",
   "execution_count": 24,
   "metadata": {},
   "outputs": [
    {
     "name": "stderr",
     "output_type": "stream",
     "text": [
      "100%|██████████| 15594/15594 [00:02<00:00, 6833.87it/s]\n"
     ]
    }
   ],
   "source": [
    "from datasets import build_fdb_data\n",
    "\n",
    "dataset, val, evaluator = build_fdb_data(args)"
   ]
  },
  {
   "cell_type": "code",
   "execution_count": 36,
   "metadata": {},
   "outputs": [],
   "source": [
    "from torch.utils.data import DataLoader\n",
    "\n",
    "def collate_fn_2(batch):\n",
    "    docs = [data[0] for data in batch]\n",
    "    infos = [data[2] for data in batch]\n",
    "    targets = [data[1] for data in batch]\n",
    "    return docs, targets, infos\n",
    "\n",
    "def collate_fn_3()\n",
    "\n",
    "dl = DataLoader(dataset, args.batch_size, collate_fn=collate_fn_2)\n",
    "\n",
    "batch = next(iter(dl))"
   ]
  },
  {
   "cell_type": "code",
   "execution_count": 37,
   "metadata": {},
   "outputs": [],
   "source": [
    "docs, targets, infos = batch"
   ]
  },
  {
   "cell_type": "code",
   "execution_count": 38,
   "metadata": {},
   "outputs": [
    {
     "data": {
      "text/plain": [
       "[{'labels': tensor([5, 3, 0, 3, 0, 3, 0, 3, 1]),\n",
       "  'boxes': tensor([[0.0245, 0.0508],\n",
       "          [0.1215, 0.1431],\n",
       "          [0.2392, 0.0885],\n",
       "          [0.4859, 0.4049],\n",
       "          [0.7119, 0.0471],\n",
       "          [0.7599, 0.0452],\n",
       "          [0.7891, 0.0094],\n",
       "          [0.8192, 0.0471],\n",
       "          [0.9266, 0.1563]])},\n",
       " {'labels': tensor([4, 2, 6, 0, 0, 0, 5, 0, 3, 0, 3, 0, 3, 1]),\n",
       "  'boxes': tensor([[0.0479, 0.0973],\n",
       "          [0.1108, 0.0284],\n",
       "          [0.1347, 0.0195],\n",
       "          [0.1594, 0.0299],\n",
       "          [0.1879, 0.0210],\n",
       "          [0.2066, 0.0075],\n",
       "          [0.2290, 0.0195],\n",
       "          [0.2478, 0.0180],\n",
       "          [0.4042, 0.2949],\n",
       "          [0.5689, 0.0344],\n",
       "          [0.6774, 0.1826],\n",
       "          [0.7852, 0.0329],\n",
       "          [0.8585, 0.1138],\n",
       "          [0.9581, 0.0853]])},\n",
       " {'labels': tensor([5, 0, 0, 0, 0, 0, 0, 0, 3, 0, 3, 0, 3, 1]),\n",
       "  'boxes': tensor([[0.0107, 0.0225],\n",
       "          [0.0270, 0.0101],\n",
       "          [0.0417, 0.0191],\n",
       "          [0.0721, 0.0417],\n",
       "          [0.1025, 0.0191],\n",
       "          [0.1171, 0.0101],\n",
       "          [0.1278, 0.0113],\n",
       "          [0.1380, 0.0090],\n",
       "          [0.2421, 0.1993],\n",
       "          [0.3553, 0.0270],\n",
       "          [0.4685, 0.1993],\n",
       "          [0.5856, 0.0349],\n",
       "          [0.7168, 0.2275],\n",
       "          [0.9139, 0.1667]])},\n",
       " {'labels': tensor([4, 0, 3, 5]),\n",
       "  'boxes': tensor([[0.2438, 0.4926],\n",
       "          [0.5296, 0.0788],\n",
       "          [0.7389, 0.3202],\n",
       "          [0.9458, 0.0936]])},\n",
       " {'labels': tensor([5, 3, 0, 3, 1]),\n",
       "  'boxes': tensor([[0.0718, 0.1483],\n",
       "          [0.2943, 0.1148],\n",
       "          [0.4545, 0.0718],\n",
       "          [0.5789, 0.1770],\n",
       "          [0.8373, 0.3397]])}]"
      ]
     },
     "execution_count": 38,
     "metadata": {},
     "output_type": "execute_result"
    }
   ],
   "source": [
    "targets"
   ]
  },
  {
   "cell_type": "code",
   "execution_count": 39,
   "metadata": {},
   "outputs": [],
   "source": [
    "num_classes = 7\n",
    "predictions = {\n",
    "    'pred_logits': torch.rand([args.batch_size, args.num_queries, num_classes + 1]) * torch.Tensor([[1] * num_classes + [10]]),\n",
    "    'pred_boxes': torch.rand([args.batch_size, args.num_queries, 2]) * torch.Tensor([[1, 0.1]])\n",
    "}"
   ]
  },
  {
   "cell_type": "code",
   "execution_count": 40,
   "metadata": {},
   "outputs": [],
   "source": [
    "from models.matcher import HungarianMatcher\n",
    "from models.criterion import CriterionDETR\n",
    "\n",
    "matcher = HungarianMatcher()\n",
    "\n",
    "weight_dict = {'loss_ce': 1., 'loss_bbox': 1., 'loss_giou': 1.}\n",
    "losses = ['labels', 'boxes', 'cardinality']\n",
    "\n",
    "criterion = CriterionDETR(num_classes, matcher=matcher, weight_dict=weight_dict,\n",
    "                            eos_coef=0.1, losses=losses)"
   ]
  },
  {
   "cell_type": "code",
   "execution_count": 41,
   "metadata": {},
   "outputs": [
    {
     "data": {
      "text/plain": [
       "{'loss_ce': tensor(2.4909),\n",
       " 'loss_bbox': tensor(0.0802),\n",
       " 'loss_giou': tensor(0.4866),\n",
       " 'cardinality_error': tensor(6.2000)}"
      ]
     },
     "execution_count": 41,
     "metadata": {},
     "output_type": "execute_result"
    }
   ],
   "source": [
    "criterion(predictions, targets)"
   ]
  },
  {
   "cell_type": "code",
   "execution_count": 42,
   "metadata": {},
   "outputs": [
    {
     "data": {
      "text/plain": [
       "[{'id': '97E4E42863A3', 'length': 531},\n",
       " {'id': '03BA5E41C5E4', 'length': 668},\n",
       " {'id': 'EB793B72A8C4', 'length': 888},\n",
       " {'id': '0119F710D008', 'length': 203},\n",
       " {'id': 'F00B4D036D97', 'length': 209}]"
      ]
     },
     "execution_count": 42,
     "metadata": {},
     "output_type": "execute_result"
    }
   ],
   "source": [
    "batch[2]"
   ]
  },
  {
   "cell_type": "code",
   "execution_count": null,
   "metadata": {},
   "outputs": [],
   "source": []
  }
 ],
 "metadata": {
  "interpreter": {
   "hash": "4767f2120b0e1f3c42e70d98d219d8808f08c9a00ef8432d45518bcb5d9764ac"
  },
  "kernelspec": {
   "display_name": "Python 3.8.12 64-bit ('nlp': conda)",
   "language": "python",
   "name": "python3"
  },
  "language_info": {
   "codemirror_mode": {
    "name": "ipython",
    "version": 3
   },
   "file_extension": ".py",
   "mimetype": "text/x-python",
   "name": "python",
   "nbconvert_exporter": "python",
   "pygments_lexer": "ipython3",
   "version": "3.8.12"
  },
  "orig_nbformat": 4
 },
 "nbformat": 4,
 "nbformat_minor": 2
}
