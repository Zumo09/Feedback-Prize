{
 "cells": [
  {
   "cell_type": "code",
   "execution_count": 1,
   "metadata": {},
   "outputs": [],
   "source": [
    "%load_ext autoreload\n",
    "%autoreload 2"
   ]
  },
  {
   "cell_type": "code",
   "execution_count": 2,
   "metadata": {},
   "outputs": [],
   "source": [
    "import torch"
   ]
  },
  {
   "cell_type": "code",
   "execution_count": 3,
   "metadata": {},
   "outputs": [],
   "source": [
    "from argparse import Namespace\n",
    "\n",
    "args = Namespace(\n",
    "    random_state=42,\n",
    "    preprocessing=True,\n",
    "    test_size=0.2,\n",
    "    num_queries=20,\n",
    "    batch_size = 5,\n",
    "    input_path=\"./input/feedback-prize-2021/\"\n",
    ")"
   ]
  },
  {
   "cell_type": "code",
   "execution_count": 4,
   "metadata": {},
   "outputs": [],
   "source": [
    "# from datasets import build_fdb_data, collate_fn\n",
    "\n",
    "# dataset, val, postprocessor, num_classes = build_fdb_data(args)"
   ]
  },
  {
   "cell_type": "code",
   "execution_count": 5,
   "metadata": {},
   "outputs": [
    {
     "name": "stderr",
     "output_type": "stream",
     "text": [
      "100%|██████████| 15594/15594 [01:33<00:00, 166.08it/s] \n"
     ]
    }
   ],
   "source": [
    "import numpy as np\n",
    "\n",
    "from datasets.processing_funcs import PIPELINE\n",
    "from datasets.fbp_dataset import FBPDataset, load_texts\n",
    "from sklearn.preprocessing import OrdinalEncoder\n",
    "from sklearn.model_selection import train_test_split\n",
    "\n",
    "\n",
    "preprocess = PIPELINE if args.preprocessing else []\n",
    "documents, tags = load_texts(args.input_path, preprocess)  # type: ignore\n",
    "\n",
    "encoder = OrdinalEncoder()\n",
    "label_unique = np.array(tags[\"discourse_type\"].unique())  # type: ignore\n",
    "encoder.fit(label_unique.reshape(-1, 1))\n",
    "\n",
    "train_idx, val_idx = train_test_split(\n",
    "    documents.index, test_size=args.test_size, random_state=args.random_state\n",
    ")\n",
    "\n",
    "train_dataset = FBPDataset(documents[train_idx], tags, encoder)  # type:ignore\n",
    "val_dataset = FBPDataset(documents[val_idx], tags, encoder)  # type:ignore\n",
    "\n",
    "num_classes = len(label_unique)"
   ]
  },
  {
   "cell_type": "code",
   "execution_count": 6,
   "metadata": {},
   "outputs": [],
   "source": [
    "from torch.utils.data import DataLoader\n",
    "\n",
    "def collate_fn(batch):\n",
    "    return tuple(list(i) for i in zip(*batch))\n",
    "\n",
    "dl = DataLoader(train_dataset, args.batch_size, collate_fn=collate_fn)\n",
    "\n",
    "docs, targets, infos = next(iter(dl))"
   ]
  },
  {
   "cell_type": "code",
   "execution_count": 7,
   "metadata": {},
   "outputs": [],
   "source": [
    "predictions = {\n",
    "    'pred_logits': torch.rand([args.batch_size, args.num_queries, num_classes + 1]) * torch.Tensor([[1] * num_classes + [10]]),\n",
    "    'pred_boxes': torch.rand([args.batch_size, args.num_queries, 2]) * torch.Tensor([[1, 0.1]])\n",
    "}"
   ]
  },
  {
   "cell_type": "code",
   "execution_count": 8,
   "metadata": {},
   "outputs": [],
   "source": [
    "from models.matcher import HungarianMatcher\n",
    "from models.criterion import CriterionDETR\n",
    "\n",
    "matcher = HungarianMatcher()\n",
    "\n",
    "weight_dict = {'loss_ce': 1., 'loss_bbox': 1., 'loss_giou': 1.}\n",
    "losses = ['labels', 'boxes', 'cardinality']\n",
    "\n",
    "criterion = CriterionDETR(num_classes, matcher=matcher, weight_dict=weight_dict,\n",
    "                            eos_coef=0.1, losses=losses)"
   ]
  },
  {
   "cell_type": "code",
   "execution_count": 9,
   "metadata": {},
   "outputs": [
    {
     "data": {
      "text/plain": [
       "{'loss_ce': tensor(4.1624),\n",
       " 'loss_bbox': tensor(0.2000),\n",
       " 'loss_giou': tensor(1.0412),\n",
       " 'cardinality_error': tensor(7.4000)}"
      ]
     },
     "execution_count": 9,
     "metadata": {},
     "output_type": "execute_result"
    }
   ],
   "source": [
    "criterion(predictions, targets)"
   ]
  },
  {
   "cell_type": "code",
   "execution_count": 17,
   "metadata": {},
   "outputs": [],
   "source": [
    "from datasets.postprocess import FBPPostProcess\n",
    "\n",
    "postprocessor = FBPPostProcess(encoder, tags, num_classes)"
   ]
  },
  {
   "cell_type": "code",
   "execution_count": 18,
   "metadata": {},
   "outputs": [],
   "source": [
    "postprocessor.add_outputs(predictions, infos)"
   ]
  },
  {
   "cell_type": "code",
   "execution_count": 27,
   "metadata": {},
   "outputs": [
    {
     "data": {
      "text/html": [
       "<div>\n",
       "<style scoped>\n",
       "    .dataframe tbody tr th:only-of-type {\n",
       "        vertical-align: middle;\n",
       "    }\n",
       "\n",
       "    .dataframe tbody tr th {\n",
       "        vertical-align: top;\n",
       "    }\n",
       "\n",
       "    .dataframe thead th {\n",
       "        text-align: right;\n",
       "    }\n",
       "</style>\n",
       "<table border=\"1\" class=\"dataframe\">\n",
       "  <thead>\n",
       "    <tr style=\"text-align: right;\">\n",
       "      <th></th>\n",
       "      <th>id</th>\n",
       "      <th>class</th>\n",
       "      <th>predictionstring</th>\n",
       "      <th>score</th>\n",
       "    </tr>\n",
       "  </thead>\n",
       "  <tbody>\n",
       "    <tr>\n",
       "      <th>0</th>\n",
       "      <td>97E4E42863A3</td>\n",
       "      <td>Evidence</td>\n",
       "      <td>122 123 124 125 126 127 128 129 130 131 132 13...</td>\n",
       "      <td>0.187968</td>\n",
       "    </tr>\n",
       "    <tr>\n",
       "      <th>1</th>\n",
       "      <td>97E4E42863A3</td>\n",
       "      <td>Rebuttal</td>\n",
       "      <td>200</td>\n",
       "      <td>0.164482</td>\n",
       "    </tr>\n",
       "    <tr>\n",
       "      <th>2</th>\n",
       "      <td>EB793B72A8C4</td>\n",
       "      <td>Evidence</td>\n",
       "      <td>831 832 833 834 835 836 837 838 839 840 841 84...</td>\n",
       "      <td>0.165227</td>\n",
       "    </tr>\n",
       "    <tr>\n",
       "      <th>3</th>\n",
       "      <td>EB793B72A8C4</td>\n",
       "      <td>Position</td>\n",
       "      <td>496 497 498 499 500 501 502 503 504 505 506 50...</td>\n",
       "      <td>0.175308</td>\n",
       "    </tr>\n",
       "    <tr>\n",
       "      <th>4</th>\n",
       "      <td>EB793B72A8C4</td>\n",
       "      <td>Counterclaim</td>\n",
       "      <td>424 425 426 427 428 429 430 431 432 433 434</td>\n",
       "      <td>0.199229</td>\n",
       "    </tr>\n",
       "    <tr>\n",
       "      <th>5</th>\n",
       "      <td>0119F710D008</td>\n",
       "      <td>Claim</td>\n",
       "      <td>11 12 13 14 15 16 17 18 19 20 21 22</td>\n",
       "      <td>0.168848</td>\n",
       "    </tr>\n",
       "    <tr>\n",
       "      <th>6</th>\n",
       "      <td>0119F710D008</td>\n",
       "      <td>Claim</td>\n",
       "      <td>62 63 64</td>\n",
       "      <td>0.188737</td>\n",
       "    </tr>\n",
       "    <tr>\n",
       "      <th>7</th>\n",
       "      <td>0119F710D008</td>\n",
       "      <td>Counterclaim</td>\n",
       "      <td>0 1 2 3 4</td>\n",
       "      <td>0.199665</td>\n",
       "    </tr>\n",
       "    <tr>\n",
       "      <th>8</th>\n",
       "      <td>F00B4D036D97</td>\n",
       "      <td>Position</td>\n",
       "      <td>172 173 174 175 176 177 178 179 180 181 182 18...</td>\n",
       "      <td>0.174763</td>\n",
       "    </tr>\n",
       "  </tbody>\n",
       "</table>\n",
       "</div>"
      ],
      "text/plain": [
       "             id         class  \\\n",
       "0  97E4E42863A3      Evidence   \n",
       "1  97E4E42863A3      Rebuttal   \n",
       "2  EB793B72A8C4      Evidence   \n",
       "3  EB793B72A8C4      Position   \n",
       "4  EB793B72A8C4  Counterclaim   \n",
       "5  0119F710D008         Claim   \n",
       "6  0119F710D008         Claim   \n",
       "7  0119F710D008  Counterclaim   \n",
       "8  F00B4D036D97      Position   \n",
       "\n",
       "                                    predictionstring     score  \n",
       "0  122 123 124 125 126 127 128 129 130 131 132 13...  0.187968  \n",
       "1                                                200  0.164482  \n",
       "2  831 832 833 834 835 836 837 838 839 840 841 84...  0.165227  \n",
       "3  496 497 498 499 500 501 502 503 504 505 506 50...  0.175308  \n",
       "4        424 425 426 427 428 429 430 431 432 433 434  0.199229  \n",
       "5                11 12 13 14 15 16 17 18 19 20 21 22  0.168848  \n",
       "6                                           62 63 64  0.188737  \n",
       "7                                          0 1 2 3 4  0.199665  \n",
       "8  172 173 174 175 176 177 178 179 180 181 182 18...  0.174763  "
      ]
     },
     "execution_count": 27,
     "metadata": {},
     "output_type": "execute_result"
    }
   ],
   "source": [
    "postprocessor.results"
   ]
  },
  {
   "cell_type": "code",
   "execution_count": 28,
   "metadata": {},
   "outputs": [],
   "source": [
    "postprocessor.evaluate()"
   ]
  },
  {
   "cell_type": "code",
   "execution_count": 51,
   "metadata": {},
   "outputs": [],
   "source": [
    "import util.visualization as viz\n",
    "\n",
    "idx = 4\n",
    "\n",
    "id_example = infos[idx]['id']\n",
    "doc = docs[idx]"
   ]
  },
  {
   "cell_type": "code",
   "execution_count": 52,
   "metadata": {},
   "outputs": [
    {
     "data": {
      "text/html": [
       "<span class=\"tex2jax_ignore\"><h2 style=\"margin: 0\">F00B4D036D97</h2>\n",
       "\n",
       "<div class=\"entities\" style=\"line-height: 2.5; direction: ltr\">\n",
       "<mark class=\"entity\" style=\"background: #2b7ff6; padding: 0.45em 0.6em; margin: 0 0.25em; line-height: 1; border-radius: 0.35em;\">\n",
       "    first and formost, it is my belief that we should keep the electoral college because,it has been around for so many years so the question is why consider changing it now?\n",
       "    <span style=\"font-size: 0.8em; font-weight: bold; line-height: 1; border-radius: 0.35em; vertical-align: middle; margin-left: 0.5rem\">Position</span>\n",
       "</mark>\n",
       " the electoral college consists of 538 votes about 270 of electoral votes require them to elect a president too.in\n",
       "<mark class=\"entity\" style=\"background: #2adddd; padding: 0.45em 0.6em; margin: 0 0.25em; line-height: 1; border-radius: 0.35em;\">\n",
       "     1976 a tie would have occured if a merge of 5,559 voters from ohio and 3,687 voters in hawaii voted the other way so\n",
       "    <span style=\"font-size: 0.8em; font-weight: bold; line-height: 1; border-radius: 0.35em; vertical-align: middle; margin-left: 0.5rem\">Evidence</span>\n",
       "</mark>\n",
       " it is to my belief that we should keep the ectoral college and just\n",
       "<mark class=\"entity\" style=\"background: #80ffb4; padding: 0.45em 0.6em; margin: 0 0.25em; line-height: 1; border-radius: 0.35em;\">\n",
       "     let the popular vote idea be a thing of the past and move on. the\n",
       "    <span style=\"font-size: 0.8em; font-weight: bold; line-height: 1; border-radius: 0.35em; vertical-align: middle; margin-left: 0.5rem\">Claim</span>\n",
       "</mark>\n",
       "\n",
       "<mark class=\"entity\" style=\"background: #2adddd; padding: 0.45em 0.6em; margin: 0 0.25em; line-height: 1; border-radius: 0.35em;\">\n",
       "     benifit of having the electoral college is that it is widely regarded as an anachronism, a non democratie method of selecting a president that will handle his job and do what he is supposed to do.thirdly,both the\n",
       "    <span style=\"font-size: 0.8em; font-weight: bold; line-height: 1; border-radius: 0.35em; vertical-align: middle; margin-left: 0.5rem\">Evidence</span>\n",
       "</mark>\n",
       "\n",
       "<mark class=\"entity\" style=\"background: d4dd80; padding: 0.45em 0.6em; margin: 0 0.25em; line-height: 1; border-radius: 0.35em;\">\n",
       "     electoral college and popular votes are good options but in my opinion i think the electoral college is better and the electoral college has five reason why they are the best. the method is certainity of an outcome,everyones president,swing states,big states and avoid run off election so that is why i think we should keep the electoral method becuase those five reasons make up the lack of democratic pedigree.\n",
       "    <span style=\"font-size: 0.8em; font-weight: bold; line-height: 1; border-radius: 0.35em; vertical-align: middle; margin-left: 0.5rem\">Concluding Statement</span>\n",
       "</mark>\n",
       "</div></span>"
      ],
      "text/plain": [
       "<IPython.core.display.HTML object>"
      ]
     },
     "metadata": {},
     "output_type": "display_data"
    }
   ],
   "source": [
    "viz.highlight_segments(id_example, doc, tags)"
   ]
  },
  {
   "cell_type": "code",
   "execution_count": 53,
   "metadata": {},
   "outputs": [
    {
     "data": {
      "text/html": [
       "<span class=\"tex2jax_ignore\"><h2 style=\"margin: 0\">F00B4D036D97</h2>\n",
       "\n",
       "<div class=\"entities\" style=\"line-height: 2.5; direction: ltr\">first and formost, it is my belief that we should keep the electoral college because,it has been around for so many years so the question is why consider changing it now? the electoral college consists of 538 votes about 270 of electoral votes require them to elect a president too.in 1976 a tie would have occured if a merge of 5,559 voters from ohio and 3,687 voters in hawaii voted the other way so it is to my belief that we should keep the ectoral college and just let the popular vote idea be a thing of the past and move on. the benifit of having the electoral college is that it is widely regarded as an anachronism, a non democratie method of selecting a president that will handle his job and do what he is supposed to do.thirdly,both the electoral college and popular votes are good options but in my opinion i think the electoral college is better and the electoral college has five reason why they are the best. the\n",
       "<mark class=\"entity\" style=\"background: #2b7ff6; padding: 0.45em 0.6em; margin: 0 0.25em; line-height: 1; border-radius: 0.35em;\">\n",
       "     method is certainity of an outcome,everyones president,swing states,big states and avoid run off election so that is why i\n",
       "    <span style=\"font-size: 0.8em; font-weight: bold; line-height: 1; border-radius: 0.35em; vertical-align: middle; margin-left: 0.5rem\">Position</span>\n",
       "</mark>\n",
       " think we should keep the electoral method becuase those five reasons make up the lack of democratic pedigree.</div></span>"
      ],
      "text/plain": [
       "<IPython.core.display.HTML object>"
      ]
     },
     "metadata": {},
     "output_type": "display_data"
    }
   ],
   "source": [
    "viz.highlight_segments(id_example, doc, postprocessor.results)"
   ]
  },
  {
   "cell_type": "code",
   "execution_count": null,
   "metadata": {},
   "outputs": [],
   "source": [
    "postprocessor.evaluate()"
   ]
  }
 ],
 "metadata": {
  "interpreter": {
   "hash": "4767f2120b0e1f3c42e70d98d219d8808f08c9a00ef8432d45518bcb5d9764ac"
  },
  "kernelspec": {
   "display_name": "Python 3.8.12 64-bit ('nlp': conda)",
   "language": "python",
   "name": "python3"
  },
  "language_info": {
   "codemirror_mode": {
    "name": "ipython",
    "version": 3
   },
   "file_extension": ".py",
   "mimetype": "text/x-python",
   "name": "python",
   "nbconvert_exporter": "python",
   "pygments_lexer": "ipython3",
   "version": "3.8.12"
  },
  "orig_nbformat": 4
 },
 "nbformat": 4,
 "nbformat_minor": 2
}
