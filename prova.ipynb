{
 "cells": [
  {
   "cell_type": "code",
   "execution_count": 1,
   "metadata": {},
   "outputs": [],
   "source": [
    "%load_ext autoreload\n",
    "%autoreload 2"
   ]
  },
  {
   "cell_type": "code",
   "execution_count": 2,
   "metadata": {},
   "outputs": [],
   "source": [
    "import torch"
   ]
  },
  {
   "cell_type": "code",
   "execution_count": 3,
   "metadata": {},
   "outputs": [
    {
     "name": "stderr",
     "output_type": "stream",
     "text": [
      "100%|██████████| 15594/15594 [02:19<00:00, 111.95it/s]\n"
     ]
    }
   ],
   "source": [
    "from datasets.fbp_dataset import FBPDataset\n",
    "\n",
    "dataset = FBPDataset()"
   ]
  },
  {
   "cell_type": "code",
   "execution_count": 4,
   "metadata": {},
   "outputs": [],
   "source": [
    "batch_size = 5\n",
    "num_queries = 100\n",
    "num_classes = len(dataset.label_unique)\n",
    "\n",
    "batch = [dataset[i] for i in range(batch_size)]\n",
    "targets = [data[2] for data in batch]\n",
    "len_sequences = torch.Tensor([data[1] for data in batch])\n",
    "docs = [data[0] for data in batch]\n",
    "\n",
    "predictions = {\n",
    "    'pred_logits': torch.rand([batch_size, num_queries, num_classes + 1]) * torch.Tensor([[1] * num_classes + [10]]),\n",
    "    'pred_boxes': torch.rand([batch_size, num_queries, 2]) * torch.Tensor([[1, 0.1]])\n",
    "}"
   ]
  },
  {
   "cell_type": "code",
   "execution_count": 5,
   "metadata": {},
   "outputs": [],
   "source": [
    "from models.matcher import HungarianMatcher\n",
    "\n",
    "matcher = HungarianMatcher()"
   ]
  },
  {
   "cell_type": "code",
   "execution_count": 8,
   "metadata": {},
   "outputs": [],
   "source": [
    "from models.criterion import CriterionDETR\n",
    "\n",
    "weight_dict = {'loss_ce': 1., 'loss_bbox': 1., 'loss_giou': 1.}\n",
    "losses = ['labels', 'boxes', 'cardinality']\n",
    "\n",
    "criterion = CriterionDETR(num_classes, matcher=matcher, weight_dict=weight_dict,\n",
    "                            eos_coef=0.1, losses=losses)"
   ]
  },
  {
   "cell_type": "code",
   "execution_count": 9,
   "metadata": {},
   "outputs": [
    {
     "data": {
      "text/plain": [
       "{'loss_ce': tensor(2.6913),\n",
       " 'loss_bbox': tensor(0.0577),\n",
       " 'loss_giou': tensor(0.4735),\n",
       " 'cardinality_error': tensor(5.2000)}"
      ]
     },
     "execution_count": 9,
     "metadata": {},
     "output_type": "execute_result"
    }
   ],
   "source": [
    "criterion(predictions, targets)"
   ]
  },
  {
   "cell_type": "code",
   "execution_count": 12,
   "metadata": {},
   "outputs": [],
   "source": [
    "from sklearn.preprocessing import OrdinalEncoder\n",
    "\n",
    "encoder = OrdinalEncoder()\n",
    "labels = dataset.label_unique.reshape(-1, 1)\n",
    "encoder2 = encoder.fit(labels)"
   ]
  },
  {
   "cell_type": "code",
   "execution_count": 23,
   "metadata": {},
   "outputs": [
    {
     "name": "stderr",
     "output_type": "stream",
     "text": [
      "100%|██████████| 15594/15594 [00:03<00:00, 5197.50it/s]\n"
     ]
    }
   ],
   "source": [
    "from datasets import build_datasets_evaluator\n",
    "\n",
    "train, val, evaluator = build_datasets_evaluator(False, 0.3, 42)"
   ]
  }
 ],
 "metadata": {
  "interpreter": {
   "hash": "4767f2120b0e1f3c42e70d98d219d8808f08c9a00ef8432d45518bcb5d9764ac"
  },
  "kernelspec": {
   "display_name": "Python 3.8.12 64-bit ('nlp': conda)",
   "language": "python",
   "name": "python3"
  },
  "language_info": {
   "codemirror_mode": {
    "name": "ipython",
    "version": 3
   },
   "file_extension": ".py",
   "mimetype": "text/x-python",
   "name": "python",
   "nbconvert_exporter": "python",
   "pygments_lexer": "ipython3",
   "version": "3.8.12"
  },
  "orig_nbformat": 4
 },
 "nbformat": 4,
 "nbformat_minor": 2
}
