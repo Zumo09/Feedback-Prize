{
 "cells": [
  {
   "cell_type": "code",
   "execution_count": 3,
   "metadata": {},
   "outputs": [],
   "source": [
    "import time\n",
    "from tqdm import tqdm\n",
    "\n",
    "import torch\n",
    "from torch.utils.data import DataLoader\n",
    "\n",
    "from datasets import build_fdb_data, collate_fn\n",
    "from models import build_models\n",
    "from main import get_args_parser\n",
    "\n",
    "args = get_args_parser().parse_args([\n",
    "    '--device', 'cpu',\n",
    "    ])\n",
    "device = torch.device(args.device)"
   ]
  },
  {
   "cell_type": "code",
   "execution_count": 4,
   "metadata": {},
   "outputs": [
    {
     "name": "stdout",
     "output_type": "stream",
     "text": [
      "Loading Dataset...\n"
     ]
    },
    {
     "name": "stderr",
     "output_type": "stream",
     "text": [
      "100%|██████████| 15594/15594 [00:02<00:00, 6703.92it/s]\n"
     ]
    },
    {
     "name": "stdout",
     "output_type": "stream",
     "text": [
      "Dataset loaded\n",
      "Loading Models...\n"
     ]
    },
    {
     "name": "stderr",
     "output_type": "stream",
     "text": [
      "Some weights of the model checkpoint at allenai/led-base-16384 were not used when initializing LEDModel: ['lm_head.weight', 'final_logits_bias']\n",
      "- This IS expected if you are initializing LEDModel from the checkpoint of a model trained on another task or with another architecture (e.g. initializing a BertForSequenceClassification model from a BertForPreTraining model).\n",
      "- This IS NOT expected if you are initializing LEDModel from the checkpoint of a model that you expect to be exactly identical (initializing a BertForSequenceClassification model from a BertForSequenceClassification model).\n"
     ]
    },
    {
     "name": "stdout",
     "output_type": "stream",
     "text": [
      "Models Loaded\n",
      "number of params: 422922\n"
     ]
    }
   ],
   "source": [
    "print(\"Loading Dataset...\")\n",
    "\n",
    "dataset_train, dataset_val, postprocessor, num_classes = build_fdb_data(args)\n",
    "\n",
    "print(\"Dataset loaded\")\n",
    "print(\"Loading Models...\")\n",
    "\n",
    "tokenizer, model, criterion = build_models(num_classes, args)\n",
    "model.to(device)\n",
    "\n",
    "print(\"Models Loaded\")\n",
    "\n",
    "n_parameters = sum(p.numel() for p in model.parameters() if p.requires_grad)\n",
    "print(\"number of params:\", n_parameters)"
   ]
  },
  {
   "cell_type": "code",
   "execution_count": null,
   "metadata": {},
   "outputs": [],
   "source": [
    "from models.detr import DETR, PrepareInputs\n",
    "from models.matcher import HungarianMatcher\n",
    "from models.criterion import CriterionDETR\n",
    "from transformers import LEDModel, LEDTokenizerFast  # type: ignore\n",
    "\n",
    "model = DETR(\n",
    "    model=LEDModel.from_pretrained(\"allenai/led-base-16384\"),\n",
    "    num_classes=num_classes,\n",
    "    hidden_dim=args.hidden_dim,\n",
    "    num_queries=args.num_queries,\n",
    ")\n",
    "\n",
    "model.set_transformer_trainable(args.train_transformer)\n",
    "\n",
    "tokenizer = PrepareInputs(\n",
    "    tokenizer=LEDTokenizerFast.from_pretrained(\"allenai/led-base-16384\")\n",
    ")\n",
    "\n",
    "matcher = HungarianMatcher(\n",
    "    cost_class=args.set_cost_class,\n",
    "    cost_bbox=args.set_cost_bbox,\n",
    "    cost_giou=args.set_cost_giou,\n",
    ")\n",
    "\n",
    "weight_dict = {\n",
    "    \"loss_ce\": 1,\n",
    "    \"loss_bbox\": args.bbox_loss_coef,\n",
    "    \"loss_giou\": args.giou_loss_coef,\n",
    "}\n",
    "\n",
    "losses = [\"labels\", \"boxes\", \"cardinality\"]\n",
    "criterion = CriterionDETR(\n",
    "    num_classes=num_classes,\n",
    "    matcher=matcher,\n",
    "    weight_dict=weight_dict,\n",
    "    eos_coef=args.eos_coef,\n",
    "    losses=losses,\n",
    ")\n",
    "criterion.to(device)"
   ]
  },
  {
   "cell_type": "code",
   "execution_count": null,
   "metadata": {},
   "outputs": [],
   "source": [
    "optimizer = torch.optim.AdamW(\n",
    "    model.parameters(), lr=args.lr, weight_decay=args.weight_decay\n",
    ")\n",
    "lr_scheduler = torch.optim.lr_scheduler.StepLR(optimizer, args.lr_drop)\n",
    "\n",
    "data_loader_train = DataLoader(\n",
    "    dataset_train,\n",
    "    shuffle=True,\n",
    "    batch_size=args.batch_size,\n",
    "    collate_fn=collate_fn,\n",
    "    num_workers=args.num_workers,\n",
    ")\n",
    "data_loader_val = DataLoader(\n",
    "    dataset_val,\n",
    "    shuffle=False,\n",
    "    batch_size=args.batch_size,\n",
    "    drop_last=False,\n",
    "    collate_fn=collate_fn,\n",
    "    num_workers=args.num_workers,\n",
    ")"
   ]
  },
  {
   "cell_type": "code",
   "execution_count": null,
   "metadata": {},
   "outputs": [],
   "source": [
    "model.train()\n",
    "criterion.train()\n",
    "\n",
    "loss_list = []\n",
    "data_bar = tqdm(data_loader_train, desc=f\"Train Epoch {0:4d}\")\n",
    "for samples, targets, info in data_bar:\n",
    "    st = time.time()\n",
    "\n",
    "    targets = [{k: v.to(device) for k, v in t.items()} for t in targets]\n",
    "\n",
    "    outputs = []\n",
    "    for doc in samples:\n",
    "        inputs = tokenizer([doc]).to(device)\n",
    "        outputs.append(model(inputs))\n",
    "\n",
    "    batch_outputs = {\n",
    "        key: torch.cat([o[key] for o in outputs]) for key in outputs[0].keys()\n",
    "    }\n",
    "\n",
    "    loss_dict = criterion(batch_outputs, targets)  # type: Dict[str, torch.Tensor]\n",
    "\n",
    "    mt = time.time()\n",
    "\n",
    "    weight_dict = criterion.weight_dict\n",
    "    losses = sum(loss_dict[k] * weight_dict[k] for k in loss_dict.keys() if k in weight_dict)  # type: ignore\n",
    "\n",
    "    loss_dict_unscaled = {f\"{k}_unscaled\": v for k, v in loss_dict.items()}\n",
    "    loss_dict_scaled = {\n",
    "        k: v * weight_dict[k] for k, v in loss_dict.items() if k in weight_dict\n",
    "    }\n",
    "    losses_scaled = sum(loss_dict_scaled.values())  # type: ignore\n",
    "\n",
    "    loss_value = losses_scaled.item()  # type: ignore\n",
    "\n",
    "    optimizer.zero_grad()\n",
    "    losses.backward()  # type: ignore\n",
    "    optimizer.step()\n",
    "\n",
    "    ot = time.time()\n",
    "\n",
    "    loss_list.append(losses.item())  # type: ignore\n",
    "    data_bar.set_postfix(\n",
    "        {\n",
    "            \"lr\": optimizer.param_groups[0][\"lr\"],\n",
    "            \"loss\": sum(loss_list) / len(loss_list),\n",
    "            \"model time\": f\"{mt - st:.2f} s\",\n",
    "            \"optim time\": f\"{ot - mt:.2f} s\",\n",
    "        }\n",
    "    )"
   ]
  }
 ],
 "metadata": {
  "interpreter": {
   "hash": "4767f2120b0e1f3c42e70d98d219d8808f08c9a00ef8432d45518bcb5d9764ac"
  },
  "kernelspec": {
   "display_name": "Python 3.8.12 ('nlp')",
   "language": "python",
   "name": "python3"
  },
  "language_info": {
   "codemirror_mode": {
    "name": "ipython",
    "version": 3
   },
   "file_extension": ".py",
   "mimetype": "text/x-python",
   "name": "python",
   "nbconvert_exporter": "python",
   "pygments_lexer": "ipython3",
   "version": "3.8.12"
  },
  "orig_nbformat": 4
 },
 "nbformat": 4,
 "nbformat_minor": 2
}
