{
  "cells": [
    {
      "cell_type": "markdown",
      "metadata": {
        "id": "YKaFSjvWbuhs"
      },
      "source": [
        "<a href=\"https://colab.research.google.com/github/Zumo09/Feedback-Prize/blob/main/training.ipynb\" target=\"_parent\"><img src=\"https://colab.research.google.com/assets/colab-badge.svg\" alt=\"Open In Colab\"/></a>"
      ]
    },
    {
      "cell_type": "code",
      "execution_count": 1,
      "metadata": {
        "colab": {
          "base_uri": "https://localhost:8080/"
        },
        "id": "w7GdsD-0R82W",
        "outputId": "e9dabccf-7fe2-4ece-d0b3-0d32e463f14e"
      },
      "outputs": [
        {
          "output_type": "stream",
          "name": "stdout",
          "text": [
            "fatal: destination path 'cloned-repo' already exists and is not an empty directory.\n",
            "/content/cloned-repo\n",
            "class_correlation.ipynb  input\t  old_utils\t    __pycache__\n",
            "csv\t\t\t LICENSE  outputs\t    README.md\n",
            "datasets\t\t main.py  prova.ipynb\t    training.ipynb\n",
            "engine.py\t\t models   prova_main.ipynb  util\n"
          ]
        }
      ],
      "source": [
        "# Clone the entire repo.\n",
        "!git clone -l -s git://github.com/Zumo09/Feedback-Prize.git cloned-repo\n",
        "%cd cloned-repo\n",
        "!ls"
      ]
    },
    {
      "cell_type": "code",
      "execution_count": 2,
      "metadata": {
        "colab": {
          "base_uri": "https://localhost:8080/"
        },
        "id": "yPbFh-_-S6l7",
        "outputId": "dba644e7-6b91-405d-f926-7573e5a583b5"
      },
      "outputs": [
        {
          "output_type": "stream",
          "name": "stdout",
          "text": [
            "Requirement already satisfied: transformers in /usr/local/lib/python3.7/dist-packages (4.16.2)\n",
            "Requirement already satisfied: packaging>=20.0 in /usr/local/lib/python3.7/dist-packages (from transformers) (21.3)\n",
            "Requirement already satisfied: regex!=2019.12.17 in /usr/local/lib/python3.7/dist-packages (from transformers) (2019.12.20)\n",
            "Requirement already satisfied: huggingface-hub<1.0,>=0.1.0 in /usr/local/lib/python3.7/dist-packages (from transformers) (0.4.0)\n",
            "Requirement already satisfied: pyyaml>=5.1 in /usr/local/lib/python3.7/dist-packages (from transformers) (6.0)\n",
            "Requirement already satisfied: numpy>=1.17 in /usr/local/lib/python3.7/dist-packages (from transformers) (1.19.5)\n",
            "Requirement already satisfied: filelock in /usr/local/lib/python3.7/dist-packages (from transformers) (3.4.2)\n",
            "Requirement already satisfied: tqdm>=4.27 in /usr/local/lib/python3.7/dist-packages (from transformers) (4.62.3)\n",
            "Requirement already satisfied: requests in /usr/local/lib/python3.7/dist-packages (from transformers) (2.23.0)\n",
            "Requirement already satisfied: sacremoses in /usr/local/lib/python3.7/dist-packages (from transformers) (0.0.47)\n",
            "Requirement already satisfied: tokenizers!=0.11.3,>=0.10.1 in /usr/local/lib/python3.7/dist-packages (from transformers) (0.11.4)\n",
            "Requirement already satisfied: importlib-metadata in /usr/local/lib/python3.7/dist-packages (from transformers) (4.10.1)\n",
            "Requirement already satisfied: typing-extensions>=3.7.4.3 in /usr/local/lib/python3.7/dist-packages (from huggingface-hub<1.0,>=0.1.0->transformers) (3.10.0.2)\n",
            "Requirement already satisfied: pyparsing!=3.0.5,>=2.0.2 in /usr/local/lib/python3.7/dist-packages (from packaging>=20.0->transformers) (3.0.7)\n",
            "Requirement already satisfied: zipp>=0.5 in /usr/local/lib/python3.7/dist-packages (from importlib-metadata->transformers) (3.7.0)\n",
            "Requirement already satisfied: idna<3,>=2.5 in /usr/local/lib/python3.7/dist-packages (from requests->transformers) (2.10)\n",
            "Requirement already satisfied: certifi>=2017.4.17 in /usr/local/lib/python3.7/dist-packages (from requests->transformers) (2021.10.8)\n",
            "Requirement already satisfied: urllib3!=1.25.0,!=1.25.1,<1.26,>=1.21.1 in /usr/local/lib/python3.7/dist-packages (from requests->transformers) (1.24.3)\n",
            "Requirement already satisfied: chardet<4,>=3.0.2 in /usr/local/lib/python3.7/dist-packages (from requests->transformers) (3.0.4)\n",
            "Requirement already satisfied: joblib in /usr/local/lib/python3.7/dist-packages (from sacremoses->transformers) (1.1.0)\n",
            "Requirement already satisfied: six in /usr/local/lib/python3.7/dist-packages (from sacremoses->transformers) (1.15.0)\n",
            "Requirement already satisfied: click in /usr/local/lib/python3.7/dist-packages (from sacremoses->transformers) (7.1.2)\n"
          ]
        }
      ],
      "source": [
        "!pip install transformers"
      ]
    },
    {
      "cell_type": "code",
      "execution_count": 3,
      "metadata": {
        "id": "sGajsmnTR02i"
      },
      "outputs": [],
      "source": [
        "%reload_ext autoreload\n",
        "%autoreload 2"
      ]
    },
    {
      "cell_type": "code",
      "execution_count": 4,
      "metadata": {
        "id": "b1NqglQzR02o"
      },
      "outputs": [],
      "source": [
        "import torch"
      ]
    },
    {
      "cell_type": "code",
      "execution_count": 5,
      "metadata": {
        "id": "XDKoAWz3R02o"
      },
      "outputs": [],
      "source": [
        "from argparse import Namespace\n",
        "\n",
        "args = Namespace(\n",
        "    num_queries=20,\n",
        "    hidden_dim=10,\n",
        "    random_state=42,\n",
        "    preprocessing=True,\n",
        "    test_size=0.2,\n",
        "    batch_size = 5,\n",
        "    input_path=\"./input/feedback-prize-2021/\",\n",
        "    device=\"cuda\" if torch.cuda.is_available() else \"cpu\",\n",
        "    set_cost_class=1,\n",
        "    set_cost_bbox=1,\n",
        "    set_cost_giou=1,\n",
        "    bbox_loss_coef=0.5,\n",
        "    giou_loss_coef=0.1,\n",
        "    eos_coef=0.1,\n",
        "    num_workers=2,\n",
        "    start_epoch=0,\n",
        "    epochs=10,\n",
        "    lr=0.001,\n",
        "    weight_decay=0.1,\n",
        "    lr_drop=1,\n",
        "    clip_max_norm=0,\n",
        "    seed=42,\n",
        "    output_dir=\"./outputs\",\n",
        "    resume=None,\n",
        "    frozen_weights=None,\n",
        "    eval=False\n",
        ")\n",
        "\n",
        "device = torch.device(args.device)"
      ]
    },
    {
      "cell_type": "code",
      "execution_count": null,
      "metadata": {
        "id": "iICnhcgMbuh3"
      },
      "outputs": [],
      "source": [
        "from pathlib import Path\n",
        "\n",
        "if args.output_dir:\n",
        "    Path(args.output_dir).mkdir(parents=True, exist_ok=True)"
      ]
    },
    {
      "cell_type": "code",
      "source": [
        "%reload_ext tensorboard\n",
        "%tensorboard --logdir=\"./outputs\""
      ],
      "metadata": {
        "id": "yhMyPB2EfaAd"
      },
      "execution_count": null,
      "outputs": []
    },
    {
      "cell_type": "code",
      "execution_count": null,
      "metadata": {
        "id": "jLDY2dYhbuh4",
        "outputId": "f26d5fcb-ee75-429c-bd30-5108468bd8f6",
        "colab": {
          "base_uri": "https://localhost:8080/"
        }
      },
      "outputs": [
        {
          "output_type": "stream",
          "name": "stdout",
          "text": [
            "Namespace(batch_size=5, bbox_loss_coef=0.5, clip_max_norm=0, device='cuda', eos_coef=0.1, epochs=10, eval=False, frozen_weights=None, giou_loss_coef=0.1, hidden_dim=10, input_path='./input/feedback-prize-2021/', lr=0.001, lr_drop=1, num_queries=20, num_workers=2, output_dir='./outputs', preprocessing=True, random_state=42, resume=None, seed=42, set_cost_bbox=1, set_cost_class=1, set_cost_giou=1, start_epoch=0, test_size=0.2, weight_decay=0.1)\n",
            "Loading Dataset...\n"
          ]
        },
        {
          "output_type": "stream",
          "name": "stderr",
          "text": [
            "100%|██████████| 15594/15594 [00:01<00:00, 11611.61it/s]\n"
          ]
        },
        {
          "output_type": "stream",
          "name": "stdout",
          "text": [
            "Dataset loaded\n",
            "Loading Models...\n"
          ]
        },
        {
          "output_type": "stream",
          "name": "stderr",
          "text": [
            "Some weights of the model checkpoint at allenai/led-base-16384 were not used when initializing LEDModel: ['final_logits_bias', 'lm_head.weight']\n",
            "- This IS expected if you are initializing LEDModel from the checkpoint of a model trained on another task or with another architecture (e.g. initializing a BertForSequenceClassification model from a BertForPreTraining model).\n",
            "- This IS NOT expected if you are initializing LEDModel from the checkpoint of a model that you expect to be exactly identical (initializing a BertForSequenceClassification model from a BertForSequenceClassification model).\n"
          ]
        },
        {
          "output_type": "stream",
          "name": "stdout",
          "text": [
            "Models Loaded\n",
            "number of params: 161950614\n",
            "Start training\n"
          ]
        },
        {
          "output_type": "stream",
          "name": "stderr",
          "text": [
            "Train Epoch    0: 100%|██████████| 2495/2495 [31:36<00:00,  1.32it/s, lr=0.001, loss=1.3, model time=0.72 s, optim time=0.01 s]\n",
            "Valid Epoch    0: 100%|██████████| 624/624 [07:55<00:00,  1.31it/s, loss=1.02]\n"
          ]
        },
        {
          "output_type": "stream",
          "name": "stdout",
          "text": [
            "                      precision    recall        f1\n",
            "Lead                   0.263733  0.992744  0.416751\n",
            "Position               0.243864  0.971177  0.389839\n",
            "Evidence               0.294206  0.962781  0.450690\n",
            "Claim                  0.196488  0.999831  0.328433\n",
            "Concluding Statement   0.493777  0.997831  0.660637\n",
            "Counterclaim           0.000000  0.000000  0.000000\n",
            "Rebuttal               0.023809  0.001181  0.002250\n",
            "macro_avg              0.216554  0.703649  0.321228\n"
          ]
        },
        {
          "output_type": "stream",
          "name": "stderr",
          "text": [
            "Train Epoch    1: 100%|██████████| 2495/2495 [31:28<00:00,  1.32it/s, lr=0.0001, loss=1.12, model time=0.70 s, optim time=0.01 s]\n",
            "Valid Epoch    1: 100%|██████████| 624/624 [07:46<00:00,  1.34it/s, loss=0.972]\n"
          ]
        },
        {
          "output_type": "stream",
          "name": "stdout",
          "text": [
            "                      precision    recall        f1\n",
            "Lead                   0.341135  0.999999  0.508726\n",
            "Position               0.276308  0.989473  0.431985\n",
            "Evidence               0.228692  0.991620  0.371668\n",
            "Claim                  0.200161  0.999650  0.333538\n",
            "Concluding Statement   0.588133  0.993643  0.738909\n",
            "Counterclaim           0.000000  0.000000  0.000000\n",
            "Rebuttal               0.035088  0.007335  0.012133\n",
            "macro_avg              0.238502  0.711674  0.342423\n"
          ]
        },
        {
          "output_type": "stream",
          "name": "stderr",
          "text": [
            "Train Epoch    2: 100%|██████████| 2495/2495 [31:24<00:00,  1.32it/s, lr=1e-5, loss=1.1, model time=0.72 s, optim time=0.01 s]\n",
            "Valid Epoch    2: 100%|██████████| 624/624 [07:53<00:00,  1.32it/s, loss=0.95]\n"
          ]
        },
        {
          "output_type": "stream",
          "name": "stdout",
          "text": [
            "                      precision    recall        f1\n",
            "Lead                   0.314844  0.999999  0.478907\n",
            "Position               0.268271  0.988912  0.422049\n",
            "Evidence               0.249800  0.986339  0.398641\n",
            "Claim                  0.198934  0.999464  0.331822\n",
            "Concluding Statement   0.631514  0.993249  0.772114\n",
            "Counterclaim           0.000000  0.000000  0.000000\n",
            "Rebuttal               0.043165  0.023968  0.030822\n",
            "macro_avg              0.243790  0.713133  0.347765\n"
          ]
        },
        {
          "output_type": "stream",
          "name": "stderr",
          "text": [
            "Train Epoch    3: 100%|██████████| 2495/2495 [30:58<00:00,  1.34it/s, lr=1e-6, loss=1.1, model time=0.70 s, optim time=0.01 s]\n",
            "Valid Epoch    3: 100%|██████████| 624/624 [07:43<00:00,  1.35it/s, loss=0.947]\n"
          ]
        },
        {
          "output_type": "stream",
          "name": "stdout",
          "text": [
            "                      precision    recall        f1\n",
            "Lead                   0.313241  0.999999  0.477051\n",
            "Position               0.265281  0.988776  0.418328\n",
            "Evidence               0.252931  0.985401  0.402539\n",
            "Claim                  0.198502  0.999466  0.331221\n",
            "Concluding Statement   0.631418  0.993269  0.772048\n",
            "Counterclaim           0.000000  0.000000  0.000000\n",
            "Rebuttal               0.044496  0.025333  0.032285\n",
            "macro_avg              0.243696  0.713178  0.347639\n"
          ]
        },
        {
          "output_type": "stream",
          "name": "stderr",
          "text": [
            "Train Epoch    4: 100%|██████████| 2495/2495 [30:59<00:00,  1.34it/s, lr=1e-7, loss=1.1, model time=0.69 s, optim time=0.01 s]\n",
            "Valid Epoch    4: 100%|██████████| 624/624 [07:44<00:00,  1.34it/s, loss=0.947]\n"
          ]
        },
        {
          "output_type": "stream",
          "name": "stdout",
          "text": [
            "                      precision    recall        f1\n",
            "Lead                   0.312279  0.999999  0.475934\n",
            "Position               0.264458  0.988738  0.417300\n",
            "Evidence               0.253134  0.985401  0.402796\n",
            "Claim                  0.198318  0.999466  0.330965\n",
            "Concluding Statement   0.631418  0.993269  0.772048\n",
            "Counterclaim           0.000000  0.000000  0.000000\n",
            "Rebuttal               0.044601  0.025333  0.032313\n",
            "macro_avg              0.243458  0.713172  0.347336\n"
          ]
        },
        {
          "output_type": "stream",
          "name": "stderr",
          "text": [
            "Train Epoch    5:  52%|█████▏    | 1292/2495 [16:02<16:07,  1.24it/s, lr=1e-8, loss=1.11, model time=0.69 s, optim time=0.01 s]"
          ]
        }
      ],
      "source": [
        "from main import main\n",
        "\n",
        "main(args)"
      ]
    },
    {
      "cell_type": "code",
      "execution_count": null,
      "metadata": {
        "id": "RDbNnqjrbuh4"
      },
      "outputs": [],
      "source": [
        ""
      ]
    }
  ],
  "metadata": {
    "interpreter": {
      "hash": "4767f2120b0e1f3c42e70d98d219d8808f08c9a00ef8432d45518bcb5d9764ac"
    },
    "kernelspec": {
      "display_name": "Python 3.8.12 ('nlp')",
      "language": "python",
      "name": "python3"
    },
    "language_info": {
      "codemirror_mode": {
        "name": "ipython",
        "version": 3
      },
      "file_extension": ".py",
      "mimetype": "text/x-python",
      "name": "python",
      "nbconvert_exporter": "python",
      "pygments_lexer": "ipython3",
      "version": "3.8.12"
    },
    "orig_nbformat": 4,
    "colab": {
      "name": "training.ipynb",
      "provenance": []
    },
    "accelerator": "GPU"
  },
  "nbformat": 4,
  "nbformat_minor": 0
}