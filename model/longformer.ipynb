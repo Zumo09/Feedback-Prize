{
  "nbformat": 4,
  "nbformat_minor": 0,
  "metadata": {
    "colab": {
      "name": "longformer.ipynb",
      "provenance": [],
      "authorship_tag": "ABX9TyM+RpGjdzfDm8os4k6WB8OE",
      "include_colab_link": true
    },
    "kernelspec": {
      "name": "python3",
      "display_name": "Python 3"
    },
    "language_info": {
      "name": "python"
    }
  },
  "cells": [
    {
      "cell_type": "markdown",
      "metadata": {
        "id": "view-in-github",
        "colab_type": "text"
      },
      "source": [
        "<a href=\"https://colab.research.google.com/github/Zumo09/Feedback-Prize/blob/main/model/longformer.ipynb\" target=\"_parent\"><img src=\"https://colab.research.google.com/assets/colab-badge.svg\" alt=\"Open In Colab\"/></a>"
      ]
    },
    {
      "cell_type": "code",
      "execution_count": null,
      "metadata": {
        "id": "7k178G_XkD0G"
      },
      "outputs": [],
      "source": [
        "from transformers import LongformerTokenizerFast, LongformerForTokenClassification, LongformerPreTrainedModel, LongformerModel\n",
        "\n",
        "\n"
      ]
    },
    {
      "cell_type": "code",
      "source": [
        "# instantiate a Longformer for multilabel classification class\n",
        "class Longformer(LongformerForTokenClassification):\n",
        "    \"\"\"\n",
        "    We instantiate a class of LongFormer adapted for a multilabel classification task. \n",
        "    This instance takes the pooled output of the LongFormer based model and passes it through a classification head. We replace \n",
        "    the traditional Cross Entropy loss with a BCE loss that generate probabilities for all the labels that we feed into the model.\n",
        "    \"\"\"\n",
        "\n",
        "    def __init__(self, config):\n",
        "        super(Longformer, self).__init__(config)\n",
        "        self.num_labels = config.num_labels\n",
        "        self.longformer = LongformerForTokenClassification(config)\n",
        "        self.init_weights()\n",
        "        \n",
        "    def forward(self, input_ids=None, attention_mask=None, global_attention_mask=None, \n",
        "                token_type_ids=None, position_ids=None, inputs_embeds=None, \n",
        "                labels=None):\n",
        "        \n",
        "        # create global attention on sequence, and a global attention token on the `s` token\n",
        "        # the equivalent of the CLS token on BERT models. This is taken care of by HuggingFace\n",
        "        # on the LongformerForSequenceClassification class\n",
        "        if global_attention_mask is None:\n",
        "            global_attention_mask = torch.zeros_like(input_ids)\n",
        "            global_attention_mask[:, 0] = 1\n",
        "        \n",
        "        # pass arguments to longformer model\n",
        "        outputs = self.longformer(\n",
        "            input_ids = input_ids,\n",
        "            attention_mask = attention_mask,\n",
        "            global_attention_mask = global_attention_mask,\n",
        "            token_type_ids = token_type_ids,\n",
        "            position_ids = position_ids)\n",
        "        \n",
        "        # if specified the model can return a dict where each key corresponds to the output of a\n",
        "        # LongformerPooler output class. In this case we take the last hidden state of the sequence\n",
        "        # which will have the shape (batch_size, sequence_length, hidden_size). \n",
        "        sequence_output = outputs['last_hidden_state']\n",
        "        \n",
        "        # pass the hidden states through the classifier to obtain thee logits\n",
        "        logits = self.classifier(sequence_output)\n",
        "        outputs = (logits,) + outputs[2:]\n",
        "        if labels is not None:\n",
        "            loss_fct = BCEWithLogitsLoss()\n",
        "            #loss_fct = nn.CrossEntropyLoss()\n",
        "            labels = labels.float()\n",
        "            loss = loss_fct(logits.view(-1, self.num_labels), \n",
        "                            labels.view(-1, self.num_labels))\n",
        "            #outputs = (loss,) + outputs\n",
        "            outputs = (loss,) + outputs\n",
        "        \n",
        "        \n",
        "        return outputs"
      ],
      "metadata": {
        "id": "FdBepDrHeu1q"
      },
      "execution_count": null,
      "outputs": []
    },
    {
      "cell_type": "code",
      "source": [
        "def IOB_tagset(train_data: pd.DataFrame) -> list:\n",
        "    '''\n",
        "    It creates a list of list with a label for each word following the IOB-tagset.\n",
        "    Each list is referred to a txt file.\n",
        "    B-Label means the beggining of an argumentative span of type label, e.g. B-Claim.\n",
        "    I-Label means inside an argumentative span of type label, e.g. I-Claim.\n",
        "    O outside an argumentative span.\n",
        "    '''\n",
        "  \n",
        "    label_dict = {}\n",
        "    #print(len(np.unique(train_data['id'])))\n",
        "    for id in np.unique(train_data['id']):\n",
        "\n",
        "      data = train_data[train_data['id'] == id]\n",
        "      index = data['predictionstring'].apply(lambda x : x.split(' '))\n",
        "        \n",
        "\n",
        "      #print(index.iloc[data.shape[0]-1])\n",
        "      length = int(index.iloc[data.shape[0]-1][-1]) + 1\n",
        "      labels = ['O']*int(length)\n",
        "\n",
        "      for i in range(data.shape[0]):\n",
        "        for j, k in zip(index.iloc[i], range(len(index.iloc[i]))):\n",
        "          if k == 0:\n",
        "            labels[int(j)] = 'B-' + data['discourse_type'].iloc[i]\n",
        "\n",
        "          else:\n",
        "\n",
        "            labels[int(j)] = 'I-' + data['discourse_type'].iloc[i]\n",
        "\n",
        "      label_dict.update({id:labels})\n",
        "\n",
        "    return label_dict"
      ],
      "metadata": {
        "id": "yoAarpG-Rhon"
      },
      "execution_count": 124,
      "outputs": []
    },
    {
      "cell_type": "markdown",
      "source": [
        "##For summarization\n"
      ],
      "metadata": {
        "id": "Lcp2FPTgOr6e"
      }
    },
    {
      "cell_type": "code",
      "source": [
        "from transformers import LongformerTokenizer, EncoderDecoderModel\n",
        "\n",
        "# Load model and tokenizer\n",
        "model = EncoderDecoderModel.from_pretrained(\"patrickvonplaten/longformer2roberta-cnn_dailymail-fp16\")\n",
        "tokenizer = LongformerTokenizer.from_pretrained(\"allenai/longformer-base-4096\") \n",
        "\n",
        "# Specify the article\n",
        "article = \"\"\"Germany (German: Deutschland, German pronunciation: [ˈdɔʏtʃlant]), officially the Federal Republic of Germany,[e] is a country at the intersection of Central and Western Europe. It is situated between the Baltic and North seas to the north, and the Alps to the south; covering an area of 357,022 square kilometres (137,847 sq mi), with a population of over 83 million within its 16 constituent states. It borders Denmark to the north, Poland and the Czech Republic to the east, Austria and Switzerland to the south, and France, Luxembourg, Belgium, and the Netherlands to the west. Germany is the second-most populous country in Europe after Russia, as well as the most populous member state of the European Union. Its capital and largest city is Berlin, and its financial centre is Frankfurt; the largest urban area is the Ruhr.Various Germanic tribes have inhabited the northern parts of modern Germany since classical antiquity. A region named Germania was documented before AD 100. In the 10th century, German territories formed a central part of the Holy Roman Empire. During the 16th century, northern German regions became the centre of the Protestant Reformation. Following the Napoleonic Wars and the dissolution of the Holy Roman Empire in 1806, the German Confederation was formed in 1815. In 1871, Germany became a nation-state when most of the German states unified into the Prussian-dominated German Empire. After World War I and the German Revolution of 1918–1919, the Empire was replaced by the semi-presidential Weimar Republic. The Nazi seizure of power in 1933 led to the establishment of a dictatorship, World War II, and the Holocaust. After the end of World War II in Europe and a period of Allied occupation, Germany was divided into the Federal Republic of Germany, generally known as West Germany, and the German Democratic Republic, East Germany. The Federal Republic of Germany was a founding member of the European Economic Community and the European Union, while the German Democratic Republic was a communist Eastern Bloc state and member of the Warsaw Pact. After the fall of communism, German reunification saw the former East German states join the Federal Republic of Germany on 3 October 1990—becoming a federal parliamentary republic led by a chancellor.Germany is a great power with a strong economy; it has the largest economy in Europe, the world's fourth-largest economy by nominal GDP, and the fifth-largest by PPP. As a global leader in several industrial, scientific and technological sectors, it is both the world's third-largest exporter and importer of goods. As a developed country, which ranks very high on the Human Development Index, it offers social security and a universal health care system, environmental protections, and a tuition-free university education. Germany is also a member of the United Nations, NATO, the G7, the G20, and the OECD. It also has the fourth-greatest number of UNESCO World Heritage Sites.\"\"\"\n",
        "\n",
        "# Tokenize and summarize\n",
        "input_ids = tokenizer(article, return_tensors=\"pt\").input_ids\n",
        "output_ids = model.generate(input_ids)\n",
        "\n",
        "# Get the summary from the output tokens\n",
        "summary = tokenizer.decode(output_ids[0], skip_special_tokens=True)\n",
        "\n",
        "# Print summary\n",
        "print(summary)"
      ],
      "metadata": {
        "id": "O5KRoUwcNt39"
      },
      "execution_count": null,
      "outputs": []
    },
    {
      "cell_type": "code",
      "source": [
        "with open('F4A4E65ADD95.txt') as f:\n",
        "  article = f.read()\n",
        "\n",
        "#article = \"\"\"Germany (German: Deutschland, German pronunciation: [ˈdɔʏtʃlant]), officially the Federal Republic of Germany,[e] is a country at the intersection of Central and Western Europe. It is situated between the Baltic and North seas to the north, and the Alps to the south; covering an area of 357,022 square kilometres (137,847 sq mi), with a population of over 83 million within its 16 constituent states. It borders Denmark to the north, Poland and the Czech Republic to the east, Austria and Switzerland to the south, and France, Luxembourg, Belgium, and the Netherlands to the west. Germany is the second-most populous country in Europe after Russia, as well as the most populous member state of the European Union. Its capital and largest city is Berlin, and its financial centre is Frankfurt; the largest urban area is the Ruhr.Various Germanic tribes have inhabited the northern parts of modern Germany since classical antiquity. A region named Germania was documented before AD 100. In the 10th century, German territories formed a central part of the Holy Roman Empire. During the 16th century, northern German regions became the centre of the Protestant Reformation. Following the Napoleonic Wars and the dissolution of the Holy Roman Empire in 1806, the German Confederation was formed in 1815. In 1871, Germany became a nation-state when most of the German states unified into the Prussian-dominated German Empire. After World War I and the German Revolution of 1918–1919, the Empire was replaced by the semi-presidential Weimar Republic. The Nazi seizure of power in 1933 led to the establishment of a dictatorship, World War II, and the Holocaust. After the end of World War II in Europe and a period of Allied occupation, Germany was divided into the Federal Republic of Germany, generally known as West Germany, and the German Democratic Republic, East Germany. The Federal Republic of Germany was a founding member of the European Economic Community and the European Union, while the German Democratic Republic was a communist Eastern Bloc state and member of the Warsaw Pact. After the fall of communism, German reunification saw the former East German states join the Federal Republic of Germany on 3 October 1990—becoming a federal parliamentary republic led by a chancellor.Germany is a great power with a strong economy; it has the largest economy in Europe, the world's fourth-largest economy by nominal GDP, and the fifth-largest by PPP. As a global leader in several industrial, scientific and technological sectors, it is both the world's third-largest exporter and importer of goods. As a developed country, which ranks very high on the Human Development Index, it offers social security and a universal health care system, environmental protections, and a tuition-free university education. Germany is also a member of the United Nations, NATO, the G7, the G20, and the OECD. It also has the fourth-greatest number of UNESCO World Heritage Sites.\"\"\"\n",
        "\n",
        "# Tokenize and summarize\n",
        "input_ids = tokenizer(article, return_tensors=\"pt\").input_ids\n",
        "output_ids = model.generate(input_ids)\n",
        "\n",
        "# Get the summary from the output tokens\n",
        "summary = tokenizer.decode(output_ids[0], skip_special_tokens=True)\n",
        "\n",
        "# Print summary\n",
        "print(summary)"
      ],
      "metadata": {
        "colab": {
          "base_uri": "https://localhost:8080/"
        },
        "id": "_3OtML11OTWX",
        "outputId": "8f817432-aed4-4b1d-d056-913e4ed4d3bd"
      },
      "execution_count": 4,
      "outputs": [
        {
          "output_type": "stream",
          "name": "stderr",
          "text": [
            "Setting `pad_token_id` to `eos_token_id`:2 for open-end generation.\n"
          ]
        },
        {
          "output_type": "stream",
          "name": "stdout",
          "text": [
            "Confiding in multiple people when looking for advice will give you a more reliable response.\n",
            "Asking multiple people about their experiences will give them a more detailed response. and give you more detailed responses.\n",
            "Ask multiple different people for their advice.\n",
            "People around you may have prior experience or opinions that can help you decide on a course of action.\n"
          ]
        }
      ]
    }
  ]
}