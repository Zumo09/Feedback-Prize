{
  "cells": [
    {
      "cell_type": "code",
      "execution_count": null,
      "metadata": {
        "id": "vudLLZHfEt6Y"
      },
      "outputs": [],
      "source": [
        "!git clone https://github.com/Zumo09/Feedback-Prize.git\n",
        "%cd Feedback-Prize"
      ]
    },
    {
      "cell_type": "code",
      "source": [
        "# Do the training\n",
        "with open('test.txt', 'w') as f:\n",
        "    f.write('test commit')"
      ],
      "metadata": {
        "id": "9Y1nDakLFwWc"
      },
      "execution_count": null,
      "outputs": []
    },
    {
      "cell_type": "code",
      "source": [
        "!git add .\n",
        "!git commit -m \"message\""
      ],
      "metadata": {
        "id": "qwrGInzXFwxy"
      },
      "execution_count": null,
      "outputs": []
    }
  ],
  "metadata": {
    "language_info": {
      "name": "python"
    },
    "orig_nbformat": 4,
    "colab": {
      "name": "colab.ipynb",
      "provenance": []
    },
    "kernelspec": {
      "name": "python3",
      "display_name": "Python 3"
    }
  },
  "nbformat": 4,
  "nbformat_minor": 0
}