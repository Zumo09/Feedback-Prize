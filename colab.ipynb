{
 "cells": [
  {
   "cell_type": "code",
   "execution_count": null,
   "metadata": {},
   "outputs": [],
   "source": [
    "!git clone https://github.com/Zumo09/Feedback-Prize.git\n",
    "%cd Feedback-Prize\n",
    "\n",
    "# Do the training\n",
    "with open('test.txt', 'w') as f:\n",
    "    f.write('test commit')\n",
    "\n",
    "!git add .\n",
    "!git commit -m \"message\""
   ]
  }
 ],
 "metadata": {
  "language_info": {
   "name": "python"
  },
  "orig_nbformat": 4
 },
 "nbformat": 4,
 "nbformat_minor": 2
}
